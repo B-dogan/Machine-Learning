{
 "cells": [
  {
   "cell_type": "markdown",
   "metadata": {
    "id": "Aw04Z9dIASCz"
   },
   "source": [
    "___\n",
    "\n",
    "<p style=\"text-align: center;\"><img src=\"https://docs.google.com/uc?id=1lY0Uj5R04yMY3-ZppPWxqCr5pvBLYPnV\" class=\"img-fluid\" alt=\"CLRSWY\"></p>\n",
    "\n",
    "___"
   ]
  },
  {
   "cell_type": "markdown",
   "metadata": {
    "cell_style": "split",
    "id": "o9jfMvQRASCz"
   },
   "source": [
    "# WELCOME!"
   ]
  },
  {
   "cell_type": "markdown",
   "metadata": {
    "cell_style": "split",
    "id": "rEckIoqPASCz"
   },
   "source": [
    "In this assignment, you must apply ***EDA*** processes for the development of predictive models. Handling outliers, domain knowledge and feature engineering will be challenges. \n",
    "\n",
    "Also, this project aims to improve your ability to implement algorithms for ***Multi-Class Classification***. Thus, you will have the opportunity to implement many algorithms commonly used for Multi-Class Classification problems.\n",
    "\n",
    "Before diving into the project, please take a look at the determines and tasks."
   ]
  },
  {
   "cell_type": "markdown",
   "metadata": {
    "id": "rWUbnCOHASCz"
   },
   "source": [
    "---\n",
    "---"
   ]
  },
  {
   "cell_type": "markdown",
   "metadata": {
    "cell_style": "split",
    "id": "FxA4M_USASCz"
   },
   "source": [
    "# #Determines"
   ]
  },
  {
   "cell_type": "markdown",
   "metadata": {
    "cell_style": "split",
    "id": "AxyFkA5PASCz"
   },
   "source": [
    "Dataset contains tree observations from four areas of one national forest district. This dataset includes information on tree type, shadow coverage, distance to nearby landmarks, soil type, and local topography. The goal of the project is to build a model that predicts what types of trees grow in an area.\n",
    "***The Forest Dataset*** contains approximately 600 thousand lines, also you can easily find many information about it on the web (especially Kaggle).\n",
    "\n",
    "---\n",
    "\n",
    "To achieve high prediction success, you must understand the data well and develop different approaches that can affect the dependent variable.\n",
    "\n",
    "Firstly, try to understand the dataset column by column using pandas module. Do research within the scope of domain (forest, trees) knowledge on the internet to get to know the data set in the fastest way. \n",
    "\n",
    "You should implement cleaning, handling with outliers and missing values using Pandas, NumPy and other required modules for the best result in modeling. You should do Feature Engineering.\n",
    "\n",
    "After that, your final dataset with the new variables you have created will be ready for model building. You will implement ***Support Vector Machine, XGBoost, Random Forest, Desicion Tree*** algorithms. Also, evaluate the success of your models with appropriate performance metrics.\n",
    "\n",
    "At the end of the project, create a chart comparing the performance of all models and choose the most successful model.\n"
   ]
  },
  {
   "cell_type": "markdown",
   "metadata": {},
   "source": [
    "### Yüksek tahmin başarısı elde etmek için verileri iyi anlamalı ve bağımlı değişkeni etkileyebilecek farklı yaklaşımlar geliştirmelisiniz.(Feature Engineering.)"
   ]
  },
  {
   "cell_type": "markdown",
   "metadata": {
    "id": "xdOyfC8jASCz"
   },
   "source": [
    "---\n",
    "---"
   ]
  },
  {
   "cell_type": "markdown",
   "metadata": {
    "cell_style": "split",
    "id": "m3DXc1w6ASCz"
   },
   "source": [
    "# #Tasks"
   ]
  },
  {
   "cell_type": "markdown",
   "metadata": {
    "cell_style": "split",
    "id": "UykgYK5-ASCz"
   },
   "source": [
    "#### 1. Exploratory Data Analysis (EDA)\n",
    "- Import Libraries, Load Dataset, Exploring Data\n",
    "\n",
    "    *i. Import Libraries*\n",
    "    \n",
    "    *ii. Load Dataset*\n",
    "    \n",
    "    *iii. Explore Data*\n",
    "\n",
    "#### 2.  Data Cleaning\n",
    "- Detect Missing Values and Outliers \n",
    "\n",
    "    *i. Missing Value Detection*\n",
    "    \n",
    "    *ii. Outlier Detection*\n",
    "    \n",
    "- Deal with Outliers\n",
    "    \n",
    "    *i. Drop Outliers*\n",
    "\n",
    "\n",
    "#### 3. Feature Engineering\n",
    "\n",
    "\n",
    "#### 4. Prediction (Multi-class Classification)\n",
    "- Import libraries\n",
    "- Data Preprocessing\n",
    "- Implement SVM Classifer\n",
    "- Implement Decision Tree Classifier\n",
    "- Implement Random Forest Classifer\n",
    "- Implement XGBoost Classifer\n",
    "- Compare The Models\n",
    "\n"
   ]
  },
  {
   "cell_type": "markdown",
   "metadata": {
    "id": "934v5Lm0ASCz"
   },
   "source": [
    "---\n",
    "---"
   ]
  },
  {
   "cell_type": "markdown",
   "metadata": {
    "id": "70sZDrv1ASCz"
   },
   "source": [
    "## 1. Exploratory Data Analysis"
   ]
  },
  {
   "cell_type": "markdown",
   "metadata": {
    "id": "6AZiiwrgri2o"
   },
   "source": [
    "### Import Libraries, Load Dataset, Exploring Data"
   ]
  },
  {
   "cell_type": "markdown",
   "metadata": {
    "id": "YhoTMDVLASCz"
   },
   "source": [
    "#### *i. Import Libraries*"
   ]
  },
  {
   "cell_type": "markdown",
   "metadata": {
    "id": "lKbc1uEQASCz"
   },
   "source": [
    "Besides Numpy and Pandas, you need to import the necessary modules for data visualization, data preprocessing, Model building and tuning.\n",
    "\n",
    "*Note: Check out the course materials.*"
   ]
  },
  {
   "cell_type": "code",
   "execution_count": 2,
   "metadata": {
    "id": "0ThMJSTCASCz"
   },
   "outputs": [],
   "source": [
    "import pandas as pd      \n",
    "import numpy as np \n",
    "import matplotlib.pyplot as plt\n",
    "import seaborn as sns\n",
    "from sklearn.model_selection import train_test_split\n",
    "from sklearn.preprocessing import OrdinalEncoder\n",
    "from sklearn.tree import DecisionTreeClassifier\n",
    "from sklearn.compose import make_column_transformer \n",
    "from sklearn.pipeline import Pipeline\n",
    "from sklearn.metrics import confusion_matrix,classification_report,plot_confusion_matrix\n",
    "from sklearn.model_selection import cross_validate\n",
    "from sklearn.model_selection import cross_val_score, cross_validate\n",
    "from sklearn.metrics import accuracy_score, f1_score, recall_score, precision_score\n",
    "from sklearn.metrics import make_scorer\n",
    "from sklearn.tree import plot_tree\n",
    "from sklearn.model_selection import GridSearchCV\n",
    "\n",
    "import warnings\n",
    "warnings.filterwarnings('ignore')\n",
    "plt.rcParams[\"figure.figsize\"] = (10,6)\n",
    "pd.set_option('display.max_columns', 500)           # ...'lar engelini aşmak için.\n",
    "pd.set_option('display.max_rows', 500) \n",
    "pd.set_option('display.float_format', lambda x: '%.4f' % x)"
   ]
  },
  {
   "cell_type": "markdown",
   "metadata": {
    "id": "OUxd8117ASCz"
   },
   "source": [
    "#### *ii. Load Dataset*"
   ]
  },
  {
   "cell_type": "code",
   "execution_count": 4,
   "metadata": {
    "id": "nO4IbFeNASC0"
   },
   "outputs": [
    {
     "data": {
      "text/html": [
       "<div>\n",
       "<style scoped>\n",
       "    .dataframe tbody tr th:only-of-type {\n",
       "        vertical-align: middle;\n",
       "    }\n",
       "\n",
       "    .dataframe tbody tr th {\n",
       "        vertical-align: top;\n",
       "    }\n",
       "\n",
       "    .dataframe thead th {\n",
       "        text-align: right;\n",
       "    }\n",
       "</style>\n",
       "<table border=\"1\" class=\"dataframe\">\n",
       "  <thead>\n",
       "    <tr style=\"text-align: right;\">\n",
       "      <th></th>\n",
       "      <th>Elevation</th>\n",
       "      <th>Aspect</th>\n",
       "      <th>Slope</th>\n",
       "      <th>Horizontal_Distance_To_Hydrology</th>\n",
       "      <th>Vertical_Distance_To_Hydrology</th>\n",
       "      <th>Horizontal_Distance_To_Roadways</th>\n",
       "      <th>Hillshade_9am</th>\n",
       "      <th>Hillshade_Noon</th>\n",
       "      <th>Hillshade_3pm</th>\n",
       "      <th>Horizontal_Distance_To_Fire_Points</th>\n",
       "      <th>Wilderness_Area_1</th>\n",
       "      <th>Wilderness_Area_2</th>\n",
       "      <th>Wilderness_Area_3</th>\n",
       "      <th>Wilderness_Area_4</th>\n",
       "      <th>Soil_Type_1</th>\n",
       "      <th>Soil_Type_2</th>\n",
       "      <th>Soil_Type_3</th>\n",
       "      <th>Soil_Type_4</th>\n",
       "      <th>Soil_Type_5</th>\n",
       "      <th>Soil_Type_6</th>\n",
       "      <th>Soil_Type_7</th>\n",
       "      <th>Soil_Type_8</th>\n",
       "      <th>Soil_Type_9</th>\n",
       "      <th>Soil_Type_10</th>\n",
       "      <th>Soil_Type_11</th>\n",
       "      <th>Soil_Type_12</th>\n",
       "      <th>Soil_Type_13</th>\n",
       "      <th>Soil_Type_14</th>\n",
       "      <th>Soil_Type_15</th>\n",
       "      <th>Soil_Type_16</th>\n",
       "      <th>Soil_Type_17</th>\n",
       "      <th>Soil_Type_18</th>\n",
       "      <th>Soil_Type_19</th>\n",
       "      <th>Soil_Type_20</th>\n",
       "      <th>Soil_Type_21</th>\n",
       "      <th>Soil_Type_22</th>\n",
       "      <th>Soil_Type_23</th>\n",
       "      <th>Soil_Type_24</th>\n",
       "      <th>Soil_Type_25</th>\n",
       "      <th>Soil_Type_26</th>\n",
       "      <th>Soil_Type_27</th>\n",
       "      <th>Soil_Type_28</th>\n",
       "      <th>Soil_Type_29</th>\n",
       "      <th>Soil_Type_30</th>\n",
       "      <th>Soil_Type_31</th>\n",
       "      <th>Soil_Type_32</th>\n",
       "      <th>Soil_Type_33</th>\n",
       "      <th>Soil_Type_34</th>\n",
       "      <th>Soil_Type_35</th>\n",
       "      <th>Soil_Type_36</th>\n",
       "      <th>Soil_Type_37</th>\n",
       "      <th>Soil_Type_38</th>\n",
       "      <th>Soil_Type_39</th>\n",
       "      <th>Soil_Type_40</th>\n",
       "      <th>Cover_Type</th>\n",
       "    </tr>\n",
       "  </thead>\n",
       "  <tbody>\n",
       "    <tr>\n",
       "      <th>0</th>\n",
       "      <td>2868</td>\n",
       "      <td>59</td>\n",
       "      <td>28</td>\n",
       "      <td>0</td>\n",
       "      <td>0</td>\n",
       "      <td>404</td>\n",
       "      <td>228</td>\n",
       "      <td>168</td>\n",
       "      <td>55</td>\n",
       "      <td>400</td>\n",
       "      <td>1</td>\n",
       "      <td>0</td>\n",
       "      <td>0</td>\n",
       "      <td>0</td>\n",
       "      <td>0</td>\n",
       "      <td>0</td>\n",
       "      <td>0</td>\n",
       "      <td>0</td>\n",
       "      <td>0</td>\n",
       "      <td>0</td>\n",
       "      <td>0</td>\n",
       "      <td>0</td>\n",
       "      <td>0</td>\n",
       "      <td>0</td>\n",
       "      <td>0</td>\n",
       "      <td>0</td>\n",
       "      <td>0</td>\n",
       "      <td>0</td>\n",
       "      <td>0</td>\n",
       "      <td>0</td>\n",
       "      <td>0</td>\n",
       "      <td>0</td>\n",
       "      <td>0</td>\n",
       "      <td>0</td>\n",
       "      <td>0</td>\n",
       "      <td>1</td>\n",
       "      <td>0</td>\n",
       "      <td>0</td>\n",
       "      <td>0</td>\n",
       "      <td>0</td>\n",
       "      <td>0</td>\n",
       "      <td>0</td>\n",
       "      <td>0</td>\n",
       "      <td>0</td>\n",
       "      <td>0</td>\n",
       "      <td>0</td>\n",
       "      <td>0</td>\n",
       "      <td>0</td>\n",
       "      <td>0</td>\n",
       "      <td>0</td>\n",
       "      <td>0</td>\n",
       "      <td>0</td>\n",
       "      <td>0</td>\n",
       "      <td>0</td>\n",
       "      <td>1</td>\n",
       "    </tr>\n",
       "    <tr>\n",
       "      <th>1</th>\n",
       "      <td>3017</td>\n",
       "      <td>27</td>\n",
       "      <td>4</td>\n",
       "      <td>170</td>\n",
       "      <td>35</td>\n",
       "      <td>234</td>\n",
       "      <td>218</td>\n",
       "      <td>230</td>\n",
       "      <td>149</td>\n",
       "      <td>646</td>\n",
       "      <td>1</td>\n",
       "      <td>0</td>\n",
       "      <td>0</td>\n",
       "      <td>0</td>\n",
       "      <td>0</td>\n",
       "      <td>0</td>\n",
       "      <td>0</td>\n",
       "      <td>0</td>\n",
       "      <td>0</td>\n",
       "      <td>0</td>\n",
       "      <td>0</td>\n",
       "      <td>0</td>\n",
       "      <td>0</td>\n",
       "      <td>0</td>\n",
       "      <td>0</td>\n",
       "      <td>0</td>\n",
       "      <td>0</td>\n",
       "      <td>0</td>\n",
       "      <td>0</td>\n",
       "      <td>0</td>\n",
       "      <td>0</td>\n",
       "      <td>0</td>\n",
       "      <td>0</td>\n",
       "      <td>0</td>\n",
       "      <td>0</td>\n",
       "      <td>1</td>\n",
       "      <td>0</td>\n",
       "      <td>0</td>\n",
       "      <td>0</td>\n",
       "      <td>0</td>\n",
       "      <td>0</td>\n",
       "      <td>0</td>\n",
       "      <td>0</td>\n",
       "      <td>0</td>\n",
       "      <td>0</td>\n",
       "      <td>0</td>\n",
       "      <td>0</td>\n",
       "      <td>0</td>\n",
       "      <td>0</td>\n",
       "      <td>0</td>\n",
       "      <td>0</td>\n",
       "      <td>0</td>\n",
       "      <td>0</td>\n",
       "      <td>0</td>\n",
       "      <td>1</td>\n",
       "    </tr>\n",
       "    <tr>\n",
       "      <th>2</th>\n",
       "      <td>3272</td>\n",
       "      <td>251</td>\n",
       "      <td>31</td>\n",
       "      <td>153</td>\n",
       "      <td>51</td>\n",
       "      <td>2173</td>\n",
       "      <td>138</td>\n",
       "      <td>243</td>\n",
       "      <td>232</td>\n",
       "      <td>3115</td>\n",
       "      <td>1</td>\n",
       "      <td>0</td>\n",
       "      <td>0</td>\n",
       "      <td>0</td>\n",
       "      <td>0</td>\n",
       "      <td>0</td>\n",
       "      <td>0</td>\n",
       "      <td>0</td>\n",
       "      <td>0</td>\n",
       "      <td>0</td>\n",
       "      <td>0</td>\n",
       "      <td>0</td>\n",
       "      <td>0</td>\n",
       "      <td>0</td>\n",
       "      <td>0</td>\n",
       "      <td>0</td>\n",
       "      <td>0</td>\n",
       "      <td>0</td>\n",
       "      <td>0</td>\n",
       "      <td>0</td>\n",
       "      <td>0</td>\n",
       "      <td>0</td>\n",
       "      <td>0</td>\n",
       "      <td>0</td>\n",
       "      <td>0</td>\n",
       "      <td>0</td>\n",
       "      <td>0</td>\n",
       "      <td>0</td>\n",
       "      <td>0</td>\n",
       "      <td>0</td>\n",
       "      <td>0</td>\n",
       "      <td>0</td>\n",
       "      <td>1</td>\n",
       "      <td>0</td>\n",
       "      <td>0</td>\n",
       "      <td>0</td>\n",
       "      <td>0</td>\n",
       "      <td>0</td>\n",
       "      <td>0</td>\n",
       "      <td>0</td>\n",
       "      <td>0</td>\n",
       "      <td>0</td>\n",
       "      <td>0</td>\n",
       "      <td>0</td>\n",
       "      <td>1</td>\n",
       "    </tr>\n",
       "    <tr>\n",
       "      <th>3</th>\n",
       "      <td>3108</td>\n",
       "      <td>325</td>\n",
       "      <td>11</td>\n",
       "      <td>60</td>\n",
       "      <td>10</td>\n",
       "      <td>2069</td>\n",
       "      <td>191</td>\n",
       "      <td>227</td>\n",
       "      <td>175</td>\n",
       "      <td>1866</td>\n",
       "      <td>1</td>\n",
       "      <td>0</td>\n",
       "      <td>0</td>\n",
       "      <td>0</td>\n",
       "      <td>0</td>\n",
       "      <td>0</td>\n",
       "      <td>0</td>\n",
       "      <td>0</td>\n",
       "      <td>0</td>\n",
       "      <td>0</td>\n",
       "      <td>0</td>\n",
       "      <td>0</td>\n",
       "      <td>0</td>\n",
       "      <td>0</td>\n",
       "      <td>0</td>\n",
       "      <td>0</td>\n",
       "      <td>0</td>\n",
       "      <td>0</td>\n",
       "      <td>0</td>\n",
       "      <td>0</td>\n",
       "      <td>0</td>\n",
       "      <td>0</td>\n",
       "      <td>0</td>\n",
       "      <td>0</td>\n",
       "      <td>0</td>\n",
       "      <td>0</td>\n",
       "      <td>0</td>\n",
       "      <td>0</td>\n",
       "      <td>0</td>\n",
       "      <td>0</td>\n",
       "      <td>0</td>\n",
       "      <td>0</td>\n",
       "      <td>1</td>\n",
       "      <td>0</td>\n",
       "      <td>0</td>\n",
       "      <td>0</td>\n",
       "      <td>0</td>\n",
       "      <td>0</td>\n",
       "      <td>0</td>\n",
       "      <td>0</td>\n",
       "      <td>0</td>\n",
       "      <td>0</td>\n",
       "      <td>0</td>\n",
       "      <td>0</td>\n",
       "      <td>1</td>\n",
       "    </tr>\n",
       "    <tr>\n",
       "      <th>4</th>\n",
       "      <td>3102</td>\n",
       "      <td>44</td>\n",
       "      <td>15</td>\n",
       "      <td>97</td>\n",
       "      <td>-2</td>\n",
       "      <td>853</td>\n",
       "      <td>222</td>\n",
       "      <td>205</td>\n",
       "      <td>112</td>\n",
       "      <td>1879</td>\n",
       "      <td>0</td>\n",
       "      <td>0</td>\n",
       "      <td>1</td>\n",
       "      <td>0</td>\n",
       "      <td>0</td>\n",
       "      <td>0</td>\n",
       "      <td>0</td>\n",
       "      <td>0</td>\n",
       "      <td>0</td>\n",
       "      <td>0</td>\n",
       "      <td>0</td>\n",
       "      <td>0</td>\n",
       "      <td>0</td>\n",
       "      <td>0</td>\n",
       "      <td>0</td>\n",
       "      <td>0</td>\n",
       "      <td>0</td>\n",
       "      <td>0</td>\n",
       "      <td>0</td>\n",
       "      <td>0</td>\n",
       "      <td>0</td>\n",
       "      <td>0</td>\n",
       "      <td>0</td>\n",
       "      <td>0</td>\n",
       "      <td>0</td>\n",
       "      <td>1</td>\n",
       "      <td>0</td>\n",
       "      <td>0</td>\n",
       "      <td>0</td>\n",
       "      <td>0</td>\n",
       "      <td>0</td>\n",
       "      <td>0</td>\n",
       "      <td>0</td>\n",
       "      <td>0</td>\n",
       "      <td>0</td>\n",
       "      <td>0</td>\n",
       "      <td>0</td>\n",
       "      <td>0</td>\n",
       "      <td>0</td>\n",
       "      <td>0</td>\n",
       "      <td>0</td>\n",
       "      <td>0</td>\n",
       "      <td>0</td>\n",
       "      <td>0</td>\n",
       "      <td>1</td>\n",
       "    </tr>\n",
       "  </tbody>\n",
       "</table>\n",
       "</div>"
      ],
      "text/plain": [
       "   Elevation  Aspect  Slope  Horizontal_Distance_To_Hydrology  \\\n",
       "0       2868      59     28                                 0   \n",
       "1       3017      27      4                               170   \n",
       "2       3272     251     31                               153   \n",
       "3       3108     325     11                                60   \n",
       "4       3102      44     15                                97   \n",
       "\n",
       "   Vertical_Distance_To_Hydrology  Horizontal_Distance_To_Roadways  \\\n",
       "0                               0                              404   \n",
       "1                              35                              234   \n",
       "2                              51                             2173   \n",
       "3                              10                             2069   \n",
       "4                              -2                              853   \n",
       "\n",
       "   Hillshade_9am  Hillshade_Noon  Hillshade_3pm  \\\n",
       "0            228             168             55   \n",
       "1            218             230            149   \n",
       "2            138             243            232   \n",
       "3            191             227            175   \n",
       "4            222             205            112   \n",
       "\n",
       "   Horizontal_Distance_To_Fire_Points  Wilderness_Area_1  Wilderness_Area_2  \\\n",
       "0                                 400                  1                  0   \n",
       "1                                 646                  1                  0   \n",
       "2                                3115                  1                  0   \n",
       "3                                1866                  1                  0   \n",
       "4                                1879                  0                  0   \n",
       "\n",
       "   Wilderness_Area_3  Wilderness_Area_4  Soil_Type_1  Soil_Type_2  \\\n",
       "0                  0                  0            0            0   \n",
       "1                  0                  0            0            0   \n",
       "2                  0                  0            0            0   \n",
       "3                  0                  0            0            0   \n",
       "4                  1                  0            0            0   \n",
       "\n",
       "   Soil_Type_3  Soil_Type_4  Soil_Type_5  Soil_Type_6  Soil_Type_7  \\\n",
       "0            0            0            0            0            0   \n",
       "1            0            0            0            0            0   \n",
       "2            0            0            0            0            0   \n",
       "3            0            0            0            0            0   \n",
       "4            0            0            0            0            0   \n",
       "\n",
       "   Soil_Type_8  Soil_Type_9  Soil_Type_10  Soil_Type_11  Soil_Type_12  \\\n",
       "0            0            0             0             0             0   \n",
       "1            0            0             0             0             0   \n",
       "2            0            0             0             0             0   \n",
       "3            0            0             0             0             0   \n",
       "4            0            0             0             0             0   \n",
       "\n",
       "   Soil_Type_13  Soil_Type_14  Soil_Type_15  Soil_Type_16  Soil_Type_17  \\\n",
       "0             0             0             0             0             0   \n",
       "1             0             0             0             0             0   \n",
       "2             0             0             0             0             0   \n",
       "3             0             0             0             0             0   \n",
       "4             0             0             0             0             0   \n",
       "\n",
       "   Soil_Type_18  Soil_Type_19  Soil_Type_20  Soil_Type_21  Soil_Type_22  \\\n",
       "0             0             0             0             0             1   \n",
       "1             0             0             0             0             1   \n",
       "2             0             0             0             0             0   \n",
       "3             0             0             0             0             0   \n",
       "4             0             0             0             0             1   \n",
       "\n",
       "   Soil_Type_23  Soil_Type_24  Soil_Type_25  Soil_Type_26  Soil_Type_27  \\\n",
       "0             0             0             0             0             0   \n",
       "1             0             0             0             0             0   \n",
       "2             0             0             0             0             0   \n",
       "3             0             0             0             0             0   \n",
       "4             0             0             0             0             0   \n",
       "\n",
       "   Soil_Type_28  Soil_Type_29  Soil_Type_30  Soil_Type_31  Soil_Type_32  \\\n",
       "0             0             0             0             0             0   \n",
       "1             0             0             0             0             0   \n",
       "2             0             1             0             0             0   \n",
       "3             0             1             0             0             0   \n",
       "4             0             0             0             0             0   \n",
       "\n",
       "   Soil_Type_33  Soil_Type_34  Soil_Type_35  Soil_Type_36  Soil_Type_37  \\\n",
       "0             0             0             0             0             0   \n",
       "1             0             0             0             0             0   \n",
       "2             0             0             0             0             0   \n",
       "3             0             0             0             0             0   \n",
       "4             0             0             0             0             0   \n",
       "\n",
       "   Soil_Type_38  Soil_Type_39  Soil_Type_40  Cover_Type  \n",
       "0             0             0             0           1  \n",
       "1             0             0             0           1  \n",
       "2             0             0             0           1  \n",
       "3             0             0             0           1  \n",
       "4             0             0             0           1  "
      ]
     },
     "execution_count": 4,
     "metadata": {},
     "output_type": "execute_result"
    }
   ],
   "source": [
    "df = pd.read_csv(\"treetypes19k.csv\")\n",
    "df.head()"
   ]
  },
  {
   "cell_type": "code",
   "execution_count": 5,
   "metadata": {},
   "outputs": [
    {
     "data": {
      "text/plain": [
       "(9750, 55)"
      ]
     },
     "execution_count": 5,
     "metadata": {},
     "output_type": "execute_result"
    }
   ],
   "source": [
    "df.shape"
   ]
  },
  {
   "cell_type": "markdown",
   "metadata": {},
   "source": [
    "# Elevation ---------> yükseklik ;(m)  nicel\n",
    "# Aspect -------------> Bakış açısı -----> niceliksel derece olarak görünüş\n",
    "# Slope ---------------> eğim --------------> niceliksel ----> derece cinsinden\n",
    "####    Horizontal_Distance_To_Hydrology -----> Hydrolog'a Yatay Mesafe --- > Horz Dist'den en yakın yüzey suyu özelliklerine\n",
    "####  Vertical_Distance_To_Hydrology -----> Dikey_Mesafe_To_Hidroloji -----> En yakın yüzey suyu özelliklerine Vert Dist\n",
    "### Horizontal_Distance_To_Roadways / quantitative / meters / En yakın karayoluna Horz Dist\n",
    "### Hillshade_9am / quantitative / 0 to 255 index / Hillshade indeksi sabah 9'da, yaz gündönümü\n",
    "### Hillshade_Noon / quantitative / 0 to 255 index / Hillshade indeksi öğlen, yaz gündönümü\n",
    "###  Hillshade_3pm / quantitative / 0 to 255 index / Hillshade indeksi 15.00'te, yaz gündönümü\n",
    "####  Horizontal_Distance_To_Fire_Points / quantitative / meters / En yakın orman yangını ateşleme noktalarına Yatay Uzaklık\n",
    "### Soil_Type (40 binary columns) / qualitative / 0 (absence) or 1 (presence) / Toprak Tipi tanımı\n",
    "### Cover_Type (7 types) / integer / 1 to 7 / Orman Örtüsü Tipi tanımı"
   ]
  },
  {
   "cell_type": "code",
   "execution_count": null,
   "metadata": {},
   "outputs": [],
   "source": []
  },
  {
   "cell_type": "code",
   "execution_count": null,
   "metadata": {},
   "outputs": [],
   "source": []
  },
  {
   "cell_type": "code",
   "execution_count": null,
   "metadata": {},
   "outputs": [],
   "source": []
  },
  {
   "cell_type": "code",
   "execution_count": null,
   "metadata": {},
   "outputs": [],
   "source": []
  },
  {
   "cell_type": "code",
   "execution_count": null,
   "metadata": {},
   "outputs": [],
   "source": []
  },
  {
   "cell_type": "markdown",
   "metadata": {},
   "source": [
    "## Bu çalışma alanı, kuzey Colorado'daki Roosevelt Ulusal Ormanı'nda bulunan   wilderness areas  içermektedir.Bu alanlar, insan kaynaklı en az rahatsızlığa sahip ormanları temsil eder, bu nedenle mevcut orman örtüsü türleri, orman yönetimi uygulamalarından ziyade ekolojik süreçlerin bir sonucudur."
   ]
  },
  {
   "cell_type": "markdown",
   "metadata": {},
   "source": [
    "# Neota (alan 2), muhtemelen 4 vahşi alanın en yüksek ortalama yükseklik değerine sahiptir.\n",
    "# Rawah (alan 1) ve Comanche Peak (alan 3) daha düşük bir ortalama yükseklik değerine sahip olurken, Cache la Poudre (alan 4) en düşük ortalama yükseklik değerine sahip olacaktır."
   ]
  },
  {
   "cell_type": "markdown",
   "metadata": {},
   "source": [
    "## Bu bölgelerdeki başlıca ana ağaç türlerine gelince, Neota'da ladin/köknar (tip 1), Rawah ve Comanche Peak'te birincil türler olarak muhtemelen orman otu (tip 2), ardından ladin/köknar ve titrek kavak (tip 5) olacaktır. )."
   ]
  },
  {
   "cell_type": "markdown",
   "metadata": {},
   "source": [
    "## Rawah ve Comanche Peak alanları, ağaç türlerinin çeşitliliği ve tahmine dayalı değişken değerlerinin (yükseklik, vb.) aralığı nedeniyle Neota veya Cache la Poudre'den daha genel veri kümesi için daha tipik olma eğiliminde olacaktır. Cache la Poudre muhtemelen nispeten düşük rakım aralığı ve tür bileşimi nedeniyle diğerlerinden daha benzersizdir."
   ]
  },
  {
   "cell_type": "markdown",
   "metadata": {
    "id": "y8W545bnASC0"
   },
   "source": [
    "#### *iii. Explore Data*\n",
    "- Focus on numerical and categorical data\n",
    "- Detect Number of Unique values of each column\n",
    "- Focus on Target Variable (Cover_Type)\n",
    " - Detect relationships and correlations between independent variables and target variable.\n",
    " - It may be nice to visualize the class frequencies of the target variable.\n",
    "- Detect relationships and correlations between independent variables. (You can prefer to keep only one of the highly correlated continuous variables.)\n",
    "- Consider dropping features that contain little data or that you think will not contribute to the model."
   ]
  },
  {
   "cell_type": "code",
   "execution_count": 6,
   "metadata": {
    "id": "BVE7_TsoASC0"
   },
   "outputs": [
    {
     "name": "stdout",
     "output_type": "stream",
     "text": [
      "<class 'pandas.core.frame.DataFrame'>\n",
      "RangeIndex: 9750 entries, 0 to 9749\n",
      "Data columns (total 55 columns):\n",
      " #   Column                              Non-Null Count  Dtype\n",
      "---  ------                              --------------  -----\n",
      " 0   Elevation                           9750 non-null   int64\n",
      " 1   Aspect                              9750 non-null   int64\n",
      " 2   Slope                               9750 non-null   int64\n",
      " 3   Horizontal_Distance_To_Hydrology    9750 non-null   int64\n",
      " 4   Vertical_Distance_To_Hydrology      9750 non-null   int64\n",
      " 5   Horizontal_Distance_To_Roadways     9750 non-null   int64\n",
      " 6   Hillshade_9am                       9750 non-null   int64\n",
      " 7   Hillshade_Noon                      9750 non-null   int64\n",
      " 8   Hillshade_3pm                       9750 non-null   int64\n",
      " 9   Horizontal_Distance_To_Fire_Points  9750 non-null   int64\n",
      " 10  Wilderness_Area_1                   9750 non-null   int64\n",
      " 11  Wilderness_Area_2                   9750 non-null   int64\n",
      " 12  Wilderness_Area_3                   9750 non-null   int64\n",
      " 13  Wilderness_Area_4                   9750 non-null   int64\n",
      " 14  Soil_Type_1                         9750 non-null   int64\n",
      " 15  Soil_Type_2                         9750 non-null   int64\n",
      " 16  Soil_Type_3                         9750 non-null   int64\n",
      " 17  Soil_Type_4                         9750 non-null   int64\n",
      " 18  Soil_Type_5                         9750 non-null   int64\n",
      " 19  Soil_Type_6                         9750 non-null   int64\n",
      " 20  Soil_Type_7                         9750 non-null   int64\n",
      " 21  Soil_Type_8                         9750 non-null   int64\n",
      " 22  Soil_Type_9                         9750 non-null   int64\n",
      " 23  Soil_Type_10                        9750 non-null   int64\n",
      " 24  Soil_Type_11                        9750 non-null   int64\n",
      " 25  Soil_Type_12                        9750 non-null   int64\n",
      " 26  Soil_Type_13                        9750 non-null   int64\n",
      " 27  Soil_Type_14                        9750 non-null   int64\n",
      " 28  Soil_Type_15                        9750 non-null   int64\n",
      " 29  Soil_Type_16                        9750 non-null   int64\n",
      " 30  Soil_Type_17                        9750 non-null   int64\n",
      " 31  Soil_Type_18                        9750 non-null   int64\n",
      " 32  Soil_Type_19                        9750 non-null   int64\n",
      " 33  Soil_Type_20                        9750 non-null   int64\n",
      " 34  Soil_Type_21                        9750 non-null   int64\n",
      " 35  Soil_Type_22                        9750 non-null   int64\n",
      " 36  Soil_Type_23                        9750 non-null   int64\n",
      " 37  Soil_Type_24                        9750 non-null   int64\n",
      " 38  Soil_Type_25                        9750 non-null   int64\n",
      " 39  Soil_Type_26                        9750 non-null   int64\n",
      " 40  Soil_Type_27                        9750 non-null   int64\n",
      " 41  Soil_Type_28                        9750 non-null   int64\n",
      " 42  Soil_Type_29                        9750 non-null   int64\n",
      " 43  Soil_Type_30                        9750 non-null   int64\n",
      " 44  Soil_Type_31                        9750 non-null   int64\n",
      " 45  Soil_Type_32                        9750 non-null   int64\n",
      " 46  Soil_Type_33                        9750 non-null   int64\n",
      " 47  Soil_Type_34                        9750 non-null   int64\n",
      " 48  Soil_Type_35                        9750 non-null   int64\n",
      " 49  Soil_Type_36                        9750 non-null   int64\n",
      " 50  Soil_Type_37                        9750 non-null   int64\n",
      " 51  Soil_Type_38                        9750 non-null   int64\n",
      " 52  Soil_Type_39                        9750 non-null   int64\n",
      " 53  Soil_Type_40                        9750 non-null   int64\n",
      " 54  Cover_Type                          9750 non-null   int64\n",
      "dtypes: int64(55)\n",
      "memory usage: 4.1 MB\n"
     ]
    }
   ],
   "source": [
    "df.info()"
   ]
  },
  {
   "cell_type": "code",
   "execution_count": 7,
   "metadata": {},
   "outputs": [
    {
     "data": {
      "text/html": [
       "<div>\n",
       "<style scoped>\n",
       "    .dataframe tbody tr th:only-of-type {\n",
       "        vertical-align: middle;\n",
       "    }\n",
       "\n",
       "    .dataframe tbody tr th {\n",
       "        vertical-align: top;\n",
       "    }\n",
       "\n",
       "    .dataframe thead th {\n",
       "        text-align: right;\n",
       "    }\n",
       "</style>\n",
       "<table border=\"1\" class=\"dataframe\">\n",
       "  <thead>\n",
       "    <tr style=\"text-align: right;\">\n",
       "      <th></th>\n",
       "      <th>Elevation</th>\n",
       "      <th>Aspect</th>\n",
       "      <th>Slope</th>\n",
       "      <th>Horizontal_Distance_To_Hydrology</th>\n",
       "      <th>Vertical_Distance_To_Hydrology</th>\n",
       "      <th>Horizontal_Distance_To_Roadways</th>\n",
       "      <th>Hillshade_9am</th>\n",
       "      <th>Hillshade_Noon</th>\n",
       "      <th>Hillshade_3pm</th>\n",
       "      <th>Horizontal_Distance_To_Fire_Points</th>\n",
       "      <th>Wilderness_Area_1</th>\n",
       "      <th>Wilderness_Area_2</th>\n",
       "      <th>Wilderness_Area_3</th>\n",
       "      <th>Wilderness_Area_4</th>\n",
       "      <th>Soil_Type_1</th>\n",
       "      <th>Soil_Type_2</th>\n",
       "      <th>Soil_Type_3</th>\n",
       "      <th>Soil_Type_4</th>\n",
       "      <th>Soil_Type_5</th>\n",
       "      <th>Soil_Type_6</th>\n",
       "      <th>Soil_Type_7</th>\n",
       "      <th>Soil_Type_8</th>\n",
       "      <th>Soil_Type_9</th>\n",
       "      <th>Soil_Type_10</th>\n",
       "      <th>Soil_Type_11</th>\n",
       "      <th>Soil_Type_12</th>\n",
       "      <th>Soil_Type_13</th>\n",
       "      <th>Soil_Type_14</th>\n",
       "      <th>Soil_Type_15</th>\n",
       "      <th>Soil_Type_16</th>\n",
       "      <th>Soil_Type_17</th>\n",
       "      <th>Soil_Type_18</th>\n",
       "      <th>Soil_Type_19</th>\n",
       "      <th>Soil_Type_20</th>\n",
       "      <th>Soil_Type_21</th>\n",
       "      <th>Soil_Type_22</th>\n",
       "      <th>Soil_Type_23</th>\n",
       "      <th>Soil_Type_24</th>\n",
       "      <th>Soil_Type_25</th>\n",
       "      <th>Soil_Type_26</th>\n",
       "      <th>Soil_Type_27</th>\n",
       "      <th>Soil_Type_28</th>\n",
       "      <th>Soil_Type_29</th>\n",
       "      <th>Soil_Type_30</th>\n",
       "      <th>Soil_Type_31</th>\n",
       "      <th>Soil_Type_32</th>\n",
       "      <th>Soil_Type_33</th>\n",
       "      <th>Soil_Type_34</th>\n",
       "      <th>Soil_Type_35</th>\n",
       "      <th>Soil_Type_36</th>\n",
       "      <th>Soil_Type_37</th>\n",
       "      <th>Soil_Type_38</th>\n",
       "      <th>Soil_Type_39</th>\n",
       "      <th>Soil_Type_40</th>\n",
       "      <th>Cover_Type</th>\n",
       "    </tr>\n",
       "  </thead>\n",
       "  <tbody>\n",
       "    <tr>\n",
       "      <th>count</th>\n",
       "      <td>9750.0000</td>\n",
       "      <td>9750.0000</td>\n",
       "      <td>9750.0000</td>\n",
       "      <td>9750.0000</td>\n",
       "      <td>9750.0000</td>\n",
       "      <td>9750.0000</td>\n",
       "      <td>9750.0000</td>\n",
       "      <td>9750.0000</td>\n",
       "      <td>9750.0000</td>\n",
       "      <td>9750.0000</td>\n",
       "      <td>9750.0000</td>\n",
       "      <td>9750.0000</td>\n",
       "      <td>9750.0000</td>\n",
       "      <td>9750.0000</td>\n",
       "      <td>9750.0000</td>\n",
       "      <td>9750.0000</td>\n",
       "      <td>9750.0000</td>\n",
       "      <td>9750.0000</td>\n",
       "      <td>9750.0000</td>\n",
       "      <td>9750.0000</td>\n",
       "      <td>9750.0000</td>\n",
       "      <td>9750.0000</td>\n",
       "      <td>9750.0000</td>\n",
       "      <td>9750.0000</td>\n",
       "      <td>9750.0000</td>\n",
       "      <td>9750.0000</td>\n",
       "      <td>9750.0000</td>\n",
       "      <td>9750.0000</td>\n",
       "      <td>9750.0000</td>\n",
       "      <td>9750.0000</td>\n",
       "      <td>9750.0000</td>\n",
       "      <td>9750.0000</td>\n",
       "      <td>9750.0000</td>\n",
       "      <td>9750.0000</td>\n",
       "      <td>9750.0000</td>\n",
       "      <td>9750.0000</td>\n",
       "      <td>9750.0000</td>\n",
       "      <td>9750.0000</td>\n",
       "      <td>9750.0000</td>\n",
       "      <td>9750.0000</td>\n",
       "      <td>9750.0000</td>\n",
       "      <td>9750.0000</td>\n",
       "      <td>9750.0000</td>\n",
       "      <td>9750.0000</td>\n",
       "      <td>9750.0000</td>\n",
       "      <td>9750.0000</td>\n",
       "      <td>9750.0000</td>\n",
       "      <td>9750.0000</td>\n",
       "      <td>9750.0000</td>\n",
       "      <td>9750.0000</td>\n",
       "      <td>9750.0000</td>\n",
       "      <td>9750.0000</td>\n",
       "      <td>9750.0000</td>\n",
       "      <td>9750.0000</td>\n",
       "      <td>9750.0000</td>\n",
       "    </tr>\n",
       "    <tr>\n",
       "      <th>mean</th>\n",
       "      <td>2772.7381</td>\n",
       "      <td>156.4424</td>\n",
       "      <td>16.0472</td>\n",
       "      <td>230.1214</td>\n",
       "      <td>49.4135</td>\n",
       "      <td>1794.9439</td>\n",
       "      <td>211.9275</td>\n",
       "      <td>219.2314</td>\n",
       "      <td>136.1183</td>\n",
       "      <td>1584.0002</td>\n",
       "      <td>0.2634</td>\n",
       "      <td>0.0347</td>\n",
       "      <td>0.4189</td>\n",
       "      <td>0.2812</td>\n",
       "      <td>0.0171</td>\n",
       "      <td>0.0307</td>\n",
       "      <td>0.0491</td>\n",
       "      <td>0.0448</td>\n",
       "      <td>0.0079</td>\n",
       "      <td>0.0344</td>\n",
       "      <td>0.0000</td>\n",
       "      <td>0.0001</td>\n",
       "      <td>0.0006</td>\n",
       "      <td>0.1209</td>\n",
       "      <td>0.0231</td>\n",
       "      <td>0.0200</td>\n",
       "      <td>0.0333</td>\n",
       "      <td>0.0051</td>\n",
       "      <td>0.0000</td>\n",
       "      <td>0.0050</td>\n",
       "      <td>0.0283</td>\n",
       "      <td>0.0051</td>\n",
       "      <td>0.0044</td>\n",
       "      <td>0.0090</td>\n",
       "      <td>0.0006</td>\n",
       "      <td>0.0248</td>\n",
       "      <td>0.0530</td>\n",
       "      <td>0.0187</td>\n",
       "      <td>0.0005</td>\n",
       "      <td>0.0028</td>\n",
       "      <td>0.0011</td>\n",
       "      <td>0.0008</td>\n",
       "      <td>0.0975</td>\n",
       "      <td>0.0465</td>\n",
       "      <td>0.0241</td>\n",
       "      <td>0.0453</td>\n",
       "      <td>0.0462</td>\n",
       "      <td>0.0012</td>\n",
       "      <td>0.0055</td>\n",
       "      <td>0.0005</td>\n",
       "      <td>0.0015</td>\n",
       "      <td>0.0454</td>\n",
       "      <td>0.0383</td>\n",
       "      <td>0.0242</td>\n",
       "      <td>3.7436</td>\n",
       "    </tr>\n",
       "    <tr>\n",
       "      <th>std</th>\n",
       "      <td>411.0729</td>\n",
       "      <td>110.4332</td>\n",
       "      <td>8.2271</td>\n",
       "      <td>209.3826</td>\n",
       "      <td>60.4891</td>\n",
       "      <td>1383.6224</td>\n",
       "      <td>30.3536</td>\n",
       "      <td>22.1603</td>\n",
       "      <td>44.8055</td>\n",
       "      <td>1167.7771</td>\n",
       "      <td>0.4405</td>\n",
       "      <td>0.1829</td>\n",
       "      <td>0.4934</td>\n",
       "      <td>0.4496</td>\n",
       "      <td>0.1298</td>\n",
       "      <td>0.1724</td>\n",
       "      <td>0.2161</td>\n",
       "      <td>0.2069</td>\n",
       "      <td>0.0885</td>\n",
       "      <td>0.1822</td>\n",
       "      <td>0.0000</td>\n",
       "      <td>0.0101</td>\n",
       "      <td>0.0248</td>\n",
       "      <td>0.3261</td>\n",
       "      <td>0.1502</td>\n",
       "      <td>0.1400</td>\n",
       "      <td>0.1795</td>\n",
       "      <td>0.0714</td>\n",
       "      <td>0.0000</td>\n",
       "      <td>0.0707</td>\n",
       "      <td>0.1659</td>\n",
       "      <td>0.0714</td>\n",
       "      <td>0.0663</td>\n",
       "      <td>0.0946</td>\n",
       "      <td>0.0248</td>\n",
       "      <td>0.1556</td>\n",
       "      <td>0.2241</td>\n",
       "      <td>0.1354</td>\n",
       "      <td>0.0226</td>\n",
       "      <td>0.0526</td>\n",
       "      <td>0.0336</td>\n",
       "      <td>0.0286</td>\n",
       "      <td>0.2967</td>\n",
       "      <td>0.2105</td>\n",
       "      <td>0.1534</td>\n",
       "      <td>0.2080</td>\n",
       "      <td>0.2098</td>\n",
       "      <td>0.0351</td>\n",
       "      <td>0.0742</td>\n",
       "      <td>0.0226</td>\n",
       "      <td>0.0392</td>\n",
       "      <td>0.2083</td>\n",
       "      <td>0.1918</td>\n",
       "      <td>0.1537</td>\n",
       "      <td>2.0472</td>\n",
       "    </tr>\n",
       "    <tr>\n",
       "      <th>min</th>\n",
       "      <td>1887.0000</td>\n",
       "      <td>0.0000</td>\n",
       "      <td>0.0000</td>\n",
       "      <td>0.0000</td>\n",
       "      <td>-133.0000</td>\n",
       "      <td>0.0000</td>\n",
       "      <td>70.0000</td>\n",
       "      <td>96.0000</td>\n",
       "      <td>0.0000</td>\n",
       "      <td>30.0000</td>\n",
       "      <td>0.0000</td>\n",
       "      <td>0.0000</td>\n",
       "      <td>0.0000</td>\n",
       "      <td>0.0000</td>\n",
       "      <td>0.0000</td>\n",
       "      <td>0.0000</td>\n",
       "      <td>0.0000</td>\n",
       "      <td>0.0000</td>\n",
       "      <td>0.0000</td>\n",
       "      <td>0.0000</td>\n",
       "      <td>0.0000</td>\n",
       "      <td>0.0000</td>\n",
       "      <td>0.0000</td>\n",
       "      <td>0.0000</td>\n",
       "      <td>0.0000</td>\n",
       "      <td>0.0000</td>\n",
       "      <td>0.0000</td>\n",
       "      <td>0.0000</td>\n",
       "      <td>0.0000</td>\n",
       "      <td>0.0000</td>\n",
       "      <td>0.0000</td>\n",
       "      <td>0.0000</td>\n",
       "      <td>0.0000</td>\n",
       "      <td>0.0000</td>\n",
       "      <td>0.0000</td>\n",
       "      <td>0.0000</td>\n",
       "      <td>0.0000</td>\n",
       "      <td>0.0000</td>\n",
       "      <td>0.0000</td>\n",
       "      <td>0.0000</td>\n",
       "      <td>0.0000</td>\n",
       "      <td>0.0000</td>\n",
       "      <td>0.0000</td>\n",
       "      <td>0.0000</td>\n",
       "      <td>0.0000</td>\n",
       "      <td>0.0000</td>\n",
       "      <td>0.0000</td>\n",
       "      <td>0.0000</td>\n",
       "      <td>0.0000</td>\n",
       "      <td>0.0000</td>\n",
       "      <td>0.0000</td>\n",
       "      <td>0.0000</td>\n",
       "      <td>0.0000</td>\n",
       "      <td>0.0000</td>\n",
       "      <td>1.0000</td>\n",
       "    </tr>\n",
       "    <tr>\n",
       "      <th>25%</th>\n",
       "      <td>2407.0000</td>\n",
       "      <td>63.0000</td>\n",
       "      <td>10.0000</td>\n",
       "      <td>67.0000</td>\n",
       "      <td>5.0000</td>\n",
       "      <td>778.0000</td>\n",
       "      <td>195.0000</td>\n",
       "      <td>208.0000</td>\n",
       "      <td>108.0000</td>\n",
       "      <td>759.0000</td>\n",
       "      <td>0.0000</td>\n",
       "      <td>0.0000</td>\n",
       "      <td>0.0000</td>\n",
       "      <td>0.0000</td>\n",
       "      <td>0.0000</td>\n",
       "      <td>0.0000</td>\n",
       "      <td>0.0000</td>\n",
       "      <td>0.0000</td>\n",
       "      <td>0.0000</td>\n",
       "      <td>0.0000</td>\n",
       "      <td>0.0000</td>\n",
       "      <td>0.0000</td>\n",
       "      <td>0.0000</td>\n",
       "      <td>0.0000</td>\n",
       "      <td>0.0000</td>\n",
       "      <td>0.0000</td>\n",
       "      <td>0.0000</td>\n",
       "      <td>0.0000</td>\n",
       "      <td>0.0000</td>\n",
       "      <td>0.0000</td>\n",
       "      <td>0.0000</td>\n",
       "      <td>0.0000</td>\n",
       "      <td>0.0000</td>\n",
       "      <td>0.0000</td>\n",
       "      <td>0.0000</td>\n",
       "      <td>0.0000</td>\n",
       "      <td>0.0000</td>\n",
       "      <td>0.0000</td>\n",
       "      <td>0.0000</td>\n",
       "      <td>0.0000</td>\n",
       "      <td>0.0000</td>\n",
       "      <td>0.0000</td>\n",
       "      <td>0.0000</td>\n",
       "      <td>0.0000</td>\n",
       "      <td>0.0000</td>\n",
       "      <td>0.0000</td>\n",
       "      <td>0.0000</td>\n",
       "      <td>0.0000</td>\n",
       "      <td>0.0000</td>\n",
       "      <td>0.0000</td>\n",
       "      <td>0.0000</td>\n",
       "      <td>0.0000</td>\n",
       "      <td>0.0000</td>\n",
       "      <td>0.0000</td>\n",
       "      <td>2.0000</td>\n",
       "    </tr>\n",
       "    <tr>\n",
       "      <th>50%</th>\n",
       "      <td>2795.0000</td>\n",
       "      <td>126.0000</td>\n",
       "      <td>15.0000</td>\n",
       "      <td>180.0000</td>\n",
       "      <td>31.0000</td>\n",
       "      <td>1362.0000</td>\n",
       "      <td>219.0000</td>\n",
       "      <td>223.0000</td>\n",
       "      <td>139.0000</td>\n",
       "      <td>1315.0000</td>\n",
       "      <td>0.0000</td>\n",
       "      <td>0.0000</td>\n",
       "      <td>0.0000</td>\n",
       "      <td>0.0000</td>\n",
       "      <td>0.0000</td>\n",
       "      <td>0.0000</td>\n",
       "      <td>0.0000</td>\n",
       "      <td>0.0000</td>\n",
       "      <td>0.0000</td>\n",
       "      <td>0.0000</td>\n",
       "      <td>0.0000</td>\n",
       "      <td>0.0000</td>\n",
       "      <td>0.0000</td>\n",
       "      <td>0.0000</td>\n",
       "      <td>0.0000</td>\n",
       "      <td>0.0000</td>\n",
       "      <td>0.0000</td>\n",
       "      <td>0.0000</td>\n",
       "      <td>0.0000</td>\n",
       "      <td>0.0000</td>\n",
       "      <td>0.0000</td>\n",
       "      <td>0.0000</td>\n",
       "      <td>0.0000</td>\n",
       "      <td>0.0000</td>\n",
       "      <td>0.0000</td>\n",
       "      <td>0.0000</td>\n",
       "      <td>0.0000</td>\n",
       "      <td>0.0000</td>\n",
       "      <td>0.0000</td>\n",
       "      <td>0.0000</td>\n",
       "      <td>0.0000</td>\n",
       "      <td>0.0000</td>\n",
       "      <td>0.0000</td>\n",
       "      <td>0.0000</td>\n",
       "      <td>0.0000</td>\n",
       "      <td>0.0000</td>\n",
       "      <td>0.0000</td>\n",
       "      <td>0.0000</td>\n",
       "      <td>0.0000</td>\n",
       "      <td>0.0000</td>\n",
       "      <td>0.0000</td>\n",
       "      <td>0.0000</td>\n",
       "      <td>0.0000</td>\n",
       "      <td>0.0000</td>\n",
       "      <td>4.0000</td>\n",
       "    </tr>\n",
       "    <tr>\n",
       "      <th>75%</th>\n",
       "      <td>3131.0000</td>\n",
       "      <td>264.0000</td>\n",
       "      <td>21.0000</td>\n",
       "      <td>331.0000</td>\n",
       "      <td>76.0000</td>\n",
       "      <td>2443.0000</td>\n",
       "      <td>235.0000</td>\n",
       "      <td>235.0000</td>\n",
       "      <td>167.0000</td>\n",
       "      <td>2074.7500</td>\n",
       "      <td>1.0000</td>\n",
       "      <td>0.0000</td>\n",
       "      <td>1.0000</td>\n",
       "      <td>1.0000</td>\n",
       "      <td>0.0000</td>\n",
       "      <td>0.0000</td>\n",
       "      <td>0.0000</td>\n",
       "      <td>0.0000</td>\n",
       "      <td>0.0000</td>\n",
       "      <td>0.0000</td>\n",
       "      <td>0.0000</td>\n",
       "      <td>0.0000</td>\n",
       "      <td>0.0000</td>\n",
       "      <td>0.0000</td>\n",
       "      <td>0.0000</td>\n",
       "      <td>0.0000</td>\n",
       "      <td>0.0000</td>\n",
       "      <td>0.0000</td>\n",
       "      <td>0.0000</td>\n",
       "      <td>0.0000</td>\n",
       "      <td>0.0000</td>\n",
       "      <td>0.0000</td>\n",
       "      <td>0.0000</td>\n",
       "      <td>0.0000</td>\n",
       "      <td>0.0000</td>\n",
       "      <td>0.0000</td>\n",
       "      <td>0.0000</td>\n",
       "      <td>0.0000</td>\n",
       "      <td>0.0000</td>\n",
       "      <td>0.0000</td>\n",
       "      <td>0.0000</td>\n",
       "      <td>0.0000</td>\n",
       "      <td>0.0000</td>\n",
       "      <td>0.0000</td>\n",
       "      <td>0.0000</td>\n",
       "      <td>0.0000</td>\n",
       "      <td>0.0000</td>\n",
       "      <td>0.0000</td>\n",
       "      <td>0.0000</td>\n",
       "      <td>0.0000</td>\n",
       "      <td>0.0000</td>\n",
       "      <td>0.0000</td>\n",
       "      <td>0.0000</td>\n",
       "      <td>0.0000</td>\n",
       "      <td>6.0000</td>\n",
       "    </tr>\n",
       "    <tr>\n",
       "      <th>max</th>\n",
       "      <td>3846.0000</td>\n",
       "      <td>359.0000</td>\n",
       "      <td>49.0000</td>\n",
       "      <td>1260.0000</td>\n",
       "      <td>407.0000</td>\n",
       "      <td>6944.0000</td>\n",
       "      <td>254.0000</td>\n",
       "      <td>254.0000</td>\n",
       "      <td>247.0000</td>\n",
       "      <td>7103.0000</td>\n",
       "      <td>1.0000</td>\n",
       "      <td>1.0000</td>\n",
       "      <td>1.0000</td>\n",
       "      <td>1.0000</td>\n",
       "      <td>1.0000</td>\n",
       "      <td>1.0000</td>\n",
       "      <td>1.0000</td>\n",
       "      <td>1.0000</td>\n",
       "      <td>1.0000</td>\n",
       "      <td>1.0000</td>\n",
       "      <td>0.0000</td>\n",
       "      <td>1.0000</td>\n",
       "      <td>1.0000</td>\n",
       "      <td>1.0000</td>\n",
       "      <td>1.0000</td>\n",
       "      <td>1.0000</td>\n",
       "      <td>1.0000</td>\n",
       "      <td>1.0000</td>\n",
       "      <td>0.0000</td>\n",
       "      <td>1.0000</td>\n",
       "      <td>1.0000</td>\n",
       "      <td>1.0000</td>\n",
       "      <td>1.0000</td>\n",
       "      <td>1.0000</td>\n",
       "      <td>1.0000</td>\n",
       "      <td>1.0000</td>\n",
       "      <td>1.0000</td>\n",
       "      <td>1.0000</td>\n",
       "      <td>1.0000</td>\n",
       "      <td>1.0000</td>\n",
       "      <td>1.0000</td>\n",
       "      <td>1.0000</td>\n",
       "      <td>1.0000</td>\n",
       "      <td>1.0000</td>\n",
       "      <td>1.0000</td>\n",
       "      <td>1.0000</td>\n",
       "      <td>1.0000</td>\n",
       "      <td>1.0000</td>\n",
       "      <td>1.0000</td>\n",
       "      <td>1.0000</td>\n",
       "      <td>1.0000</td>\n",
       "      <td>1.0000</td>\n",
       "      <td>1.0000</td>\n",
       "      <td>1.0000</td>\n",
       "      <td>7.0000</td>\n",
       "    </tr>\n",
       "  </tbody>\n",
       "</table>\n",
       "</div>"
      ],
      "text/plain": [
       "       Elevation    Aspect     Slope  Horizontal_Distance_To_Hydrology  \\\n",
       "count  9750.0000 9750.0000 9750.0000                         9750.0000   \n",
       "mean   2772.7381  156.4424   16.0472                          230.1214   \n",
       "std     411.0729  110.4332    8.2271                          209.3826   \n",
       "min    1887.0000    0.0000    0.0000                            0.0000   \n",
       "25%    2407.0000   63.0000   10.0000                           67.0000   \n",
       "50%    2795.0000  126.0000   15.0000                          180.0000   \n",
       "75%    3131.0000  264.0000   21.0000                          331.0000   \n",
       "max    3846.0000  359.0000   49.0000                         1260.0000   \n",
       "\n",
       "       Vertical_Distance_To_Hydrology  Horizontal_Distance_To_Roadways  \\\n",
       "count                       9750.0000                        9750.0000   \n",
       "mean                          49.4135                        1794.9439   \n",
       "std                           60.4891                        1383.6224   \n",
       "min                         -133.0000                           0.0000   \n",
       "25%                            5.0000                         778.0000   \n",
       "50%                           31.0000                        1362.0000   \n",
       "75%                           76.0000                        2443.0000   \n",
       "max                          407.0000                        6944.0000   \n",
       "\n",
       "       Hillshade_9am  Hillshade_Noon  Hillshade_3pm  \\\n",
       "count      9750.0000       9750.0000      9750.0000   \n",
       "mean        211.9275        219.2314       136.1183   \n",
       "std          30.3536         22.1603        44.8055   \n",
       "min          70.0000         96.0000         0.0000   \n",
       "25%         195.0000        208.0000       108.0000   \n",
       "50%         219.0000        223.0000       139.0000   \n",
       "75%         235.0000        235.0000       167.0000   \n",
       "max         254.0000        254.0000       247.0000   \n",
       "\n",
       "       Horizontal_Distance_To_Fire_Points  Wilderness_Area_1  \\\n",
       "count                           9750.0000          9750.0000   \n",
       "mean                            1584.0002             0.2634   \n",
       "std                             1167.7771             0.4405   \n",
       "min                               30.0000             0.0000   \n",
       "25%                              759.0000             0.0000   \n",
       "50%                             1315.0000             0.0000   \n",
       "75%                             2074.7500             1.0000   \n",
       "max                             7103.0000             1.0000   \n",
       "\n",
       "       Wilderness_Area_2  Wilderness_Area_3  Wilderness_Area_4  Soil_Type_1  \\\n",
       "count          9750.0000          9750.0000          9750.0000    9750.0000   \n",
       "mean              0.0347             0.4189             0.2812       0.0171   \n",
       "std               0.1829             0.4934             0.4496       0.1298   \n",
       "min               0.0000             0.0000             0.0000       0.0000   \n",
       "25%               0.0000             0.0000             0.0000       0.0000   \n",
       "50%               0.0000             0.0000             0.0000       0.0000   \n",
       "75%               0.0000             1.0000             1.0000       0.0000   \n",
       "max               1.0000             1.0000             1.0000       1.0000   \n",
       "\n",
       "       Soil_Type_2  Soil_Type_3  Soil_Type_4  Soil_Type_5  Soil_Type_6  \\\n",
       "count    9750.0000    9750.0000    9750.0000    9750.0000    9750.0000   \n",
       "mean        0.0307       0.0491       0.0448       0.0079       0.0344   \n",
       "std         0.1724       0.2161       0.2069       0.0885       0.1822   \n",
       "min         0.0000       0.0000       0.0000       0.0000       0.0000   \n",
       "25%         0.0000       0.0000       0.0000       0.0000       0.0000   \n",
       "50%         0.0000       0.0000       0.0000       0.0000       0.0000   \n",
       "75%         0.0000       0.0000       0.0000       0.0000       0.0000   \n",
       "max         1.0000       1.0000       1.0000       1.0000       1.0000   \n",
       "\n",
       "       Soil_Type_7  Soil_Type_8  Soil_Type_9  Soil_Type_10  Soil_Type_11  \\\n",
       "count    9750.0000    9750.0000    9750.0000     9750.0000     9750.0000   \n",
       "mean        0.0000       0.0001       0.0006        0.1209        0.0231   \n",
       "std         0.0000       0.0101       0.0248        0.3261        0.1502   \n",
       "min         0.0000       0.0000       0.0000        0.0000        0.0000   \n",
       "25%         0.0000       0.0000       0.0000        0.0000        0.0000   \n",
       "50%         0.0000       0.0000       0.0000        0.0000        0.0000   \n",
       "75%         0.0000       0.0000       0.0000        0.0000        0.0000   \n",
       "max         0.0000       1.0000       1.0000        1.0000        1.0000   \n",
       "\n",
       "       Soil_Type_12  Soil_Type_13  Soil_Type_14  Soil_Type_15  Soil_Type_16  \\\n",
       "count     9750.0000     9750.0000     9750.0000     9750.0000     9750.0000   \n",
       "mean         0.0200        0.0333        0.0051        0.0000        0.0050   \n",
       "std          0.1400        0.1795        0.0714        0.0000        0.0707   \n",
       "min          0.0000        0.0000        0.0000        0.0000        0.0000   \n",
       "25%          0.0000        0.0000        0.0000        0.0000        0.0000   \n",
       "50%          0.0000        0.0000        0.0000        0.0000        0.0000   \n",
       "75%          0.0000        0.0000        0.0000        0.0000        0.0000   \n",
       "max          1.0000        1.0000        1.0000        0.0000        1.0000   \n",
       "\n",
       "       Soil_Type_17  Soil_Type_18  Soil_Type_19  Soil_Type_20  Soil_Type_21  \\\n",
       "count     9750.0000     9750.0000     9750.0000     9750.0000     9750.0000   \n",
       "mean         0.0283        0.0051        0.0044        0.0090        0.0006   \n",
       "std          0.1659        0.0714        0.0663        0.0946        0.0248   \n",
       "min          0.0000        0.0000        0.0000        0.0000        0.0000   \n",
       "25%          0.0000        0.0000        0.0000        0.0000        0.0000   \n",
       "50%          0.0000        0.0000        0.0000        0.0000        0.0000   \n",
       "75%          0.0000        0.0000        0.0000        0.0000        0.0000   \n",
       "max          1.0000        1.0000        1.0000        1.0000        1.0000   \n",
       "\n",
       "       Soil_Type_22  Soil_Type_23  Soil_Type_24  Soil_Type_25  Soil_Type_26  \\\n",
       "count     9750.0000     9750.0000     9750.0000     9750.0000     9750.0000   \n",
       "mean         0.0248        0.0530        0.0187        0.0005        0.0028   \n",
       "std          0.1556        0.2241        0.1354        0.0226        0.0526   \n",
       "min          0.0000        0.0000        0.0000        0.0000        0.0000   \n",
       "25%          0.0000        0.0000        0.0000        0.0000        0.0000   \n",
       "50%          0.0000        0.0000        0.0000        0.0000        0.0000   \n",
       "75%          0.0000        0.0000        0.0000        0.0000        0.0000   \n",
       "max          1.0000        1.0000        1.0000        1.0000        1.0000   \n",
       "\n",
       "       Soil_Type_27  Soil_Type_28  Soil_Type_29  Soil_Type_30  Soil_Type_31  \\\n",
       "count     9750.0000     9750.0000     9750.0000     9750.0000     9750.0000   \n",
       "mean         0.0011        0.0008        0.0975        0.0465        0.0241   \n",
       "std          0.0336        0.0286        0.2967        0.2105        0.1534   \n",
       "min          0.0000        0.0000        0.0000        0.0000        0.0000   \n",
       "25%          0.0000        0.0000        0.0000        0.0000        0.0000   \n",
       "50%          0.0000        0.0000        0.0000        0.0000        0.0000   \n",
       "75%          0.0000        0.0000        0.0000        0.0000        0.0000   \n",
       "max          1.0000        1.0000        1.0000        1.0000        1.0000   \n",
       "\n",
       "       Soil_Type_32  Soil_Type_33  Soil_Type_34  Soil_Type_35  Soil_Type_36  \\\n",
       "count     9750.0000     9750.0000     9750.0000     9750.0000     9750.0000   \n",
       "mean         0.0453        0.0462        0.0012        0.0055        0.0005   \n",
       "std          0.2080        0.2098        0.0351        0.0742        0.0226   \n",
       "min          0.0000        0.0000        0.0000        0.0000        0.0000   \n",
       "25%          0.0000        0.0000        0.0000        0.0000        0.0000   \n",
       "50%          0.0000        0.0000        0.0000        0.0000        0.0000   \n",
       "75%          0.0000        0.0000        0.0000        0.0000        0.0000   \n",
       "max          1.0000        1.0000        1.0000        1.0000        1.0000   \n",
       "\n",
       "       Soil_Type_37  Soil_Type_38  Soil_Type_39  Soil_Type_40  Cover_Type  \n",
       "count     9750.0000     9750.0000     9750.0000     9750.0000   9750.0000  \n",
       "mean         0.0015        0.0454        0.0383        0.0242      3.7436  \n",
       "std          0.0392        0.2083        0.1918        0.1537      2.0472  \n",
       "min          0.0000        0.0000        0.0000        0.0000      1.0000  \n",
       "25%          0.0000        0.0000        0.0000        0.0000      2.0000  \n",
       "50%          0.0000        0.0000        0.0000        0.0000      4.0000  \n",
       "75%          0.0000        0.0000        0.0000        0.0000      6.0000  \n",
       "max          1.0000        1.0000        1.0000        1.0000      7.0000  "
      ]
     },
     "execution_count": 7,
     "metadata": {},
     "output_type": "execute_result"
    }
   ],
   "source": [
    "df.describe()"
   ]
  },
  {
   "cell_type": "code",
   "execution_count": 9,
   "metadata": {},
   "outputs": [
    {
     "name": "stdout",
     "output_type": "stream",
     "text": [
      "Column Elevation has 1589 unique values\n",
      "Column Aspect has 360 unique values\n",
      "Column Slope has 50 unique values\n",
      "Column Horizontal_Distance_To_Hydrology has 883 unique values\n",
      "Column Vertical_Distance_To_Hydrology has 402 unique values\n",
      "Column Horizontal_Distance_To_Roadways has 3771 unique values\n",
      "Column Hillshade_9am has 171 unique values\n",
      "Column Hillshade_Noon has 133 unique values\n",
      "Column Hillshade_3pm has 243 unique values\n",
      "Column Horizontal_Distance_To_Fire_Points has 3339 unique values\n",
      "Column Wilderness_Area_1 has 2 unique values\n",
      "Column Wilderness_Area_2 has 2 unique values\n",
      "Column Wilderness_Area_3 has 2 unique values\n",
      "Column Wilderness_Area_4 has 2 unique values\n",
      "Column Soil_Type_1 has 2 unique values\n",
      "Column Soil_Type_2 has 2 unique values\n",
      "Column Soil_Type_3 has 2 unique values\n",
      "Column Soil_Type_4 has 2 unique values\n",
      "Column Soil_Type_5 has 2 unique values\n",
      "Column Soil_Type_6 has 2 unique values\n",
      "Column Soil_Type_7 has 1 unique values\n",
      "Column Soil_Type_8 has 2 unique values\n",
      "Column Soil_Type_9 has 2 unique values\n",
      "Column Soil_Type_10 has 2 unique values\n",
      "Column Soil_Type_11 has 2 unique values\n",
      "Column Soil_Type_12 has 2 unique values\n",
      "Column Soil_Type_13 has 2 unique values\n",
      "Column Soil_Type_14 has 2 unique values\n",
      "Column Soil_Type_15 has 1 unique values\n",
      "Column Soil_Type_16 has 2 unique values\n",
      "Column Soil_Type_17 has 2 unique values\n",
      "Column Soil_Type_18 has 2 unique values\n",
      "Column Soil_Type_19 has 2 unique values\n",
      "Column Soil_Type_20 has 2 unique values\n",
      "Column Soil_Type_21 has 2 unique values\n",
      "Column Soil_Type_22 has 2 unique values\n",
      "Column Soil_Type_23 has 2 unique values\n",
      "Column Soil_Type_24 has 2 unique values\n",
      "Column Soil_Type_25 has 2 unique values\n",
      "Column Soil_Type_26 has 2 unique values\n",
      "Column Soil_Type_27 has 2 unique values\n",
      "Column Soil_Type_28 has 2 unique values\n",
      "Column Soil_Type_29 has 2 unique values\n",
      "Column Soil_Type_30 has 2 unique values\n",
      "Column Soil_Type_31 has 2 unique values\n",
      "Column Soil_Type_32 has 2 unique values\n",
      "Column Soil_Type_33 has 2 unique values\n",
      "Column Soil_Type_34 has 2 unique values\n",
      "Column Soil_Type_35 has 2 unique values\n",
      "Column Soil_Type_36 has 2 unique values\n",
      "Column Soil_Type_37 has 2 unique values\n",
      "Column Soil_Type_38 has 2 unique values\n",
      "Column Soil_Type_39 has 2 unique values\n",
      "Column Soil_Type_40 has 2 unique values\n",
      "Column Cover_Type has 7 unique values\n"
     ]
    }
   ],
   "source": [
    "for col in df.columns:\n",
    "    print(\"Column\", col, \"has\", df[col].nunique(), \"unique values\")"
   ]
  },
  {
   "cell_type": "code",
   "execution_count": 10,
   "metadata": {},
   "outputs": [
    {
     "name": "stdout",
     "output_type": "stream",
     "text": [
      "1    1750\n",
      "2    1750\n",
      "3    1250\n",
      "4    1250\n",
      "5    1250\n",
      "6    1250\n",
      "7    1250\n",
      "Name: Cover_Type, dtype: int64\n"
     ]
    },
    {
     "data": {
      "text/plain": [
       "<AxesSubplot:ylabel='Cover_Type'>"
      ]
     },
     "execution_count": 10,
     "metadata": {},
     "output_type": "execute_result"
    },
    {
     "data": {
      "image/png": "[encoded data removed]",
      "text/plain": [
       "<Figure size 720x432 with 1 Axes>"
      ]
     },
     "metadata": {},
     "output_type": "display_data"
    }
   ],
   "source": [
    "print(df.Cover_Type.value_counts())\n",
    "df.Cover_Type.value_counts().plot.pie()"
   ]
  },
  {
   "cell_type": "code",
   "execution_count": null,
   "metadata": {},
   "outputs": [],
   "source": []
  },
  {
   "cell_type": "code",
   "execution_count": null,
   "metadata": {},
   "outputs": [],
   "source": []
  },
  {
   "cell_type": "markdown",
   "metadata": {
    "id": "fQeP_Dhtri3v"
   },
   "source": [
    "***\n",
    "***"
   ]
  },
  {
   "cell_type": "markdown",
   "metadata": {
    "id": "kdwJqW45ASC0"
   },
   "source": [
    "## 2.  Data Cleaning"
   ]
  },
  {
   "cell_type": "markdown",
   "metadata": {
    "id": "h95eEjnEASC0"
   },
   "source": [
    "### Detect Missing Values and Outliers"
   ]
  },
  {
   "cell_type": "markdown",
   "metadata": {
    "id": "TNvbnTdnASC0"
   },
   "source": [
    "#### *i. Missing Value Detection*"
   ]
  },
  {
   "cell_type": "code",
   "execution_count": 11,
   "metadata": {
    "id": "VkLpnVcvASC0"
   },
   "outputs": [
    {
     "data": {
      "text/plain": [
       "False"
      ]
     },
     "execution_count": 11,
     "metadata": {},
     "output_type": "execute_result"
    }
   ],
   "source": [
    "df.isnull().sum().any()"
   ]
  },
  {
   "cell_type": "markdown",
   "metadata": {
    "id": "AdTLXhWeASC0"
   },
   "source": [
    "#### *ii. Outlier Detection*\n",
    "\n",
    "The columns which have continuous value should be examined in terms of [outliers](https://datascience.foundation/sciencewhitepaper/knowing-all-about-outliers-in-machine-learning) (Watch out for columns that look like continuous but not continuous!). Some algorithms are [sensitive to outliers](https://arsrinevetha.medium.com/ml-algorithms-sensitivity-towards-outliers-f3862a13c94d), but some algorithms can tolerate them. You can decide to outlier detection according to the algorithm you will use.\n",
    "- You can check the outliers shape of continous features with respect to the target (Cover_Type) classes.\n",
    "- You can check how many outliers are there of each continuous variables.\n",
    "- The columns which have continuous value should be examined in terms of outliers.\n",
    "- You can define a function to detect outliers in accordance with the ``zscore`` or ``IQR``."
   ]
  },
  {
   "cell_type": "code",
   "execution_count": 13,
   "metadata": {
    "id": "2cj4fc_jASC0",
    "scrolled": true
   },
   "outputs": [
    {
     "name": "stdout",
     "output_type": "stream",
     "text": [
      "['Elevation', 'Aspect', 'Slope', 'Horizontal_Distance_To_Hydrology', 'Vertical_Distance_To_Hydrology', 'Horizontal_Distance_To_Roadways', 'Hillshade_9am', 'Hillshade_Noon', 'Hillshade_3pm', 'Horizontal_Distance_To_Fire_Points']\n"
     ]
    }
   ],
   "source": [
    "# to get list of continious features\n",
    "numeric = []\n",
    "\n",
    "for col in df.columns:\n",
    "    if df[col].nunique() > 7 : numeric.append(col)\n",
    "print(numeric)"
   ]
  },
  {
   "cell_type": "code",
   "execution_count": 14,
   "metadata": {},
   "outputs": [],
   "source": [
    "# We can produce a function to get the number of outliers respectively each class. For the sake of practicality, we find the outliers for features without consideration of class distinction\n",
    "\n",
    "def detect_outliers(df, col_name,tukey=1.5):\n",
    "    ''' \n",
    "    this function detects outliers based on 1.5 time IQR and\n",
    "    returns the number of lower and uper limit and number of outliers respectively\n",
    "    '''\n",
    "    first_quartile = np.percentile(np.array(df[col_name].tolist()), 25)\n",
    "    third_quartile = np.percentile(np.array(df[col_name].tolist()), 75)\n",
    "    IQR = third_quartile - first_quartile\n",
    "                      \n",
    "    upper_limit = third_quartile+(tukey*IQR)\n",
    "    lower_limit = first_quartile-(tukey*IQR)\n",
    "    outlier_count = 0\n",
    "                      \n",
    "    for value in df[col_name].tolist():\n",
    "        if (value < lower_limit) | (value > upper_limit):\n",
    "            outlier_count +=1\n",
    "    return lower_limit, upper_limit, outlier_count"
   ]
  },
  {
   "cell_type": "code",
   "execution_count": 17,
   "metadata": {},
   "outputs": [
    {
     "name": "stdout",
     "output_type": "stream",
     "text": [
      "Elevation\n",
      "lower:235.0 \n",
      "upper:5303.0        \n",
      "outlier:0\n",
      "*-*-*-*-*-*-*\n",
      "Aspect\n",
      "lower:-540.0 \n",
      "upper:867.0        \n",
      "outlier:0\n",
      "*-*-*-*-*-*-*\n",
      "Slope\n",
      "lower:-23.0 \n",
      "upper:54.0        \n",
      "outlier:0\n",
      "*-*-*-*-*-*-*\n",
      "Horizontal_Distance_To_Hydrology\n",
      "lower:-725.0 \n",
      "upper:1123.0        \n",
      "outlier:30\n",
      "*-*-*-*-*-*-*\n",
      "Vertical_Distance_To_Hydrology\n",
      "lower:-208.0 \n",
      "upper:289.0        \n",
      "outlier:46\n",
      "*-*-*-*-*-*-*\n",
      "Horizontal_Distance_To_Roadways\n",
      "lower:-4217.0 \n",
      "upper:7438.0        \n",
      "outlier:0\n",
      "*-*-*-*-*-*-*\n",
      "Hillshade_9am\n",
      "lower:75.0 \n",
      "upper:355.0        \n",
      "outlier:1\n",
      "*-*-*-*-*-*-*\n",
      "Hillshade_Noon\n",
      "lower:127.0 \n",
      "upper:316.0        \n",
      "outlier:13\n",
      "*-*-*-*-*-*-*\n",
      "Hillshade_3pm\n",
      "lower:-69.0 \n",
      "upper:344.0        \n",
      "outlier:0\n",
      "*-*-*-*-*-*-*\n",
      "Horizontal_Distance_To_Fire_Points\n",
      "lower:-3188.25 \n",
      "upper:6022.0        \n",
      "outlier:95\n",
      "*-*-*-*-*-*-*\n",
      "['Horizontal_Distance_To_Hydrology', 'Vertical_Distance_To_Hydrology', 'Hillshade_9am', 'Hillshade_Noon', 'Horizontal_Distance_To_Fire_Points']\n"
     ]
    }
   ],
   "source": [
    "out_cols = []\n",
    "for col in numeric:\n",
    "    print(\n",
    "        f\"{col}\\nlower:{detect_outliers(df, col,3)[0]} \\nupper:{detect_outliers(df, col,3)[1]}\\\n",
    "        \\noutlier:{detect_outliers(df, col,3)[2]}\\n*-*-*-*-*-*-*\"\n",
    "    )\n",
    "    if detect_outliers(df, col,3)[2] > 0 :\n",
    "        out_cols.append(col)\n",
    "print(out_cols)    "
   ]
  },
  {
   "cell_type": "code",
   "execution_count": null,
   "metadata": {},
   "outputs": [],
   "source": []
  },
  {
   "cell_type": "markdown",
   "metadata": {
    "id": "ax0-S9b6ri3I"
   },
   "source": [
    "### Deal with Outliers"
   ]
  },
  {
   "cell_type": "markdown",
   "metadata": {
    "id": "XfVCLwHlASC0"
   },
   "source": [
    "#### *ii. Drop Outliers*"
   ]
  },
  {
   "cell_type": "code",
   "execution_count": 18,
   "metadata": {
    "id": "FK9d2g38Olu9",
    "scrolled": false
   },
   "outputs": [
    {
     "data": {
      "text/plain": [
       "['Horizontal_Distance_To_Hydrology',\n",
       " 'Vertical_Distance_To_Hydrology',\n",
       " 'Hillshade_9am',\n",
       " 'Hillshade_Noon',\n",
       " 'Horizontal_Distance_To_Fire_Points']"
      ]
     },
     "execution_count": 18,
     "metadata": {},
     "output_type": "execute_result"
    }
   ],
   "source": [
    "out_cols"
   ]
  },
  {
   "cell_type": "code",
   "execution_count": 19,
   "metadata": {},
   "outputs": [],
   "source": [
    "df1 = df.copy()"
   ]
  },
  {
   "cell_type": "code",
   "execution_count": 20,
   "metadata": {},
   "outputs": [],
   "source": [
    "# We have decided to drop outliers over 1,5 iqr\n",
    "for col in out_cols:\n",
    "    df1 = df1[(df1[col] > detect_outliers(df1, col)[0])\n",
    "             & (df1[col] < detect_outliers(df1, col)[1])]"
   ]
  },
  {
   "cell_type": "code",
   "execution_count": 21,
   "metadata": {},
   "outputs": [
    {
     "data": {
      "text/plain": [
       "(8235, 55)"
      ]
     },
     "execution_count": 21,
     "metadata": {},
     "output_type": "execute_result"
    }
   ],
   "source": [
    "df1.shape"
   ]
  },
  {
   "cell_type": "code",
   "execution_count": 22,
   "metadata": {},
   "outputs": [],
   "source": [
    "df1 = df1.reset_index(drop=True)"
   ]
  },
  {
   "cell_type": "code",
   "execution_count": 23,
   "metadata": {},
   "outputs": [
    {
     "name": "stdout",
     "output_type": "stream",
     "text": [
      "the shape of the value of 1 (1481, 55)\n",
      "the shape of the value of 2 (1409, 55)\n",
      "the shape of the value of 3 (1003, 55)\n",
      "the shape of the value of 4 (1190, 55)\n",
      "the shape of the value of 5 (1069, 55)\n",
      "the shape of the value of 6 (1087, 55)\n",
      "the shape of the value of 7 (996, 55)\n"
     ]
    }
   ],
   "source": [
    "for i in range(1,8) :\n",
    "    print(\"the shape of the value of\", i, df1[df1[\"Cover_Type\"] == i].shape)"
   ]
  },
  {
   "cell_type": "code",
   "execution_count": null,
   "metadata": {},
   "outputs": [],
   "source": []
  },
  {
   "cell_type": "code",
   "execution_count": null,
   "metadata": {},
   "outputs": [],
   "source": []
  },
  {
   "cell_type": "markdown",
   "metadata": {
    "id": "il9xamPwzEUv"
   },
   "source": [
    "### Now, let's take a closer look at correlation of continuous columns."
   ]
  },
  {
   "cell_type": "markdown",
   "metadata": {
    "id": "WjDFWFcgASC0"
   },
   "source": [
    "***\n",
    "***"
   ]
  },
  {
   "cell_type": "markdown",
   "metadata": {
    "id": "UzffSKptri3v"
   },
   "source": [
    "## 3. Feature Engineering"
   ]
  },
  {
   "cell_type": "markdown",
   "metadata": {
    "id": "yP5LibfOASC0"
   },
   "source": [
    "### My Plan of Feature Extraction\n",
    "- First, I decided to produce&transform a new column with ``Horizontal_Distance_To_Hydrology`` and ``Vertical_Distance_To_Hydrology`` columns. New column will contain the values of **Hypotenuse** of ``horizantal`` and ``vertical`` distances.\n",
    "\n",
    "- As second, we can produce&transform an additional column which contains **average** of Horizantal Distances to Hydrology and Roadways.\n",
    "\n",
    "- Third, I decided to transform a new column which contains **average** of `Elevation` and ``Vertical_Distance_To_Hydrology`` columns. So that, there is no need to have ``Horizontal_Distance_To_Hydrology`` and ``Vertical_Distance_To_Hydrology`` columns, because I have new columns which represent more value than them. I decide to drop these columns.\n",
    "\n",
    "- Note that, after seeing the result of the models, there may be a possibility of making minor changes to the features in the modeling phase."
   ]
  },
  {
   "cell_type": "code",
   "execution_count": null,
   "metadata": {
    "cell_style": "center",
    "id": "82ImPSoIOlu-"
   },
   "outputs": [],
   "source": []
  },
  {
   "cell_type": "markdown",
   "metadata": {
    "id": "45zRLFdDASC0"
   },
   "source": [
    "***\n",
    "***"
   ]
  },
  {
   "cell_type": "markdown",
   "metadata": {
    "id": "Ylwp86BnIbfD"
   },
   "source": [
    "## 4. Prediction (Multi-class Classification)"
   ]
  },
  {
   "cell_type": "markdown",
   "metadata": {
    "id": "-hmyNTpmASC0"
   },
   "source": [
    "If you have done, use your data set resulting from Feature Engineering task. If you haven't done Feature Engineering, use the latest version of your data set.\n",
    "In this section, you have two main tasks that apply to each algorithm:\n",
    "1. Model Building and Prediction\n",
    "\n",
    " - SVM (Use ``LinearSVC`` model from``sklearn.svm`` module)\n",
    " - Decision Tree (Use ``DecisionTreeClassifier`` model from ``sklearn.tree`` module)\n",
    " - Random Forest (Use ``RandomForestClassifier`` model from ``sklearn.ensemble`` module) \n",
    " - XGBoost (Use ``XGBClassifier`` model from``xgboost`` module)\n",
    "\n",
    "2. Visualizing the Result\n",
    "\n",
    "- Use [yellowbrick](https://www.scikit-yb.org/en/latest/), [seaborn](https://seaborn.pydata.org/tutorial/regression.html) or [matplotlib](https://matplotlib.org/) modules to visualize the model results.\n",
    "\n",
    "- Show three plots for the results:\n",
    " - Class Prediction Error Bar Plot\n",
    " - Confusion Matrix\n",
    " - Classification Report"
   ]
  },
  {
   "cell_type": "markdown",
   "metadata": {
    "id": "5bKNukyEASC0"
   },
   "source": [
    "### Import Libraries"
   ]
  },
  {
   "cell_type": "code",
   "execution_count": null,
   "metadata": {
    "id": "44t5jjukASC0"
   },
   "outputs": [],
   "source": []
  },
  {
   "cell_type": "markdown",
   "metadata": {
    "id": "c-HeuK9FIbfJ"
   },
   "source": [
    "### Data Preprocessing"
   ]
  },
  {
   "cell_type": "markdown",
   "metadata": {
    "id": "W22WncJ9ASC0"
   },
   "source": [
    "- Drop target variable\n",
    "- Train-Test Split\n",
    "\n",
    "*Note: You can use the train and test data generated here for all algorithms.*"
   ]
  },
  {
   "cell_type": "code",
   "execution_count": null,
   "metadata": {
    "id": "MFD5URwnASC0"
   },
   "outputs": [],
   "source": []
  },
  {
   "cell_type": "markdown",
   "metadata": {
    "id": "rOisMsLIASC0"
   },
   "source": [
    "### Implement Support Vector Machine\n",
    "- Import the modul \n",
    "- Fit the model \n",
    "- Predict the test set\n",
    "- Visualize and evaluate the result (use yellowbrick module)\n",
    "\n",
    "*Note: You probably won't get a successful result. You may need to make some changes to the model or data. This may be a topic worth investigating, you decide.*"
   ]
  },
  {
   "cell_type": "code",
   "execution_count": null,
   "metadata": {
    "cell_style": "split",
    "id": "OMc5EJsiASC0"
   },
   "outputs": [],
   "source": []
  },
  {
   "cell_type": "markdown",
   "metadata": {
    "id": "s2bAc81fASC0"
   },
   "source": [
    "### Implement Decision Tree Classifier\n",
    "- Import the modul \n",
    "- Fit the model \n",
    "- Predict the test set\n",
    "- Visualize and evaluate the result (use yellowbrick module)"
   ]
  },
  {
   "cell_type": "code",
   "execution_count": null,
   "metadata": {
    "cell_style": "split",
    "id": "vXlQnOe9OlvA"
   },
   "outputs": [],
   "source": []
  },
  {
   "cell_type": "markdown",
   "metadata": {
    "id": "8-Hv3OSrASC0"
   },
   "source": [
    "### Implement Random Forest Classifier\n",
    "- Import the modul \n",
    "- Fit the model \n",
    "- Predict the test set\n",
    "- Visualize and evaluate the result (use yellowbrick module)"
   ]
  },
  {
   "cell_type": "code",
   "execution_count": null,
   "metadata": {
    "cell_style": "split",
    "id": "C871JJvXASC0"
   },
   "outputs": [],
   "source": []
  },
  {
   "cell_type": "markdown",
   "metadata": {
    "id": "eI7Zd8TLIbfK"
   },
   "source": [
    "### Implement XGBoost Classifer\n",
    "- Import the modul \n",
    "- Fit the model \n",
    "- Predict the test set\n",
    "- Visualize and evaluate the result (use yellowbrick module)"
   ]
  },
  {
   "cell_type": "code",
   "execution_count": null,
   "metadata": {
    "cell_style": "split",
    "id": "ZER2XJrrASC0"
   },
   "outputs": [],
   "source": []
  },
  {
   "cell_type": "markdown",
   "metadata": {
    "id": "67xA-4xdASC0"
   },
   "source": [
    "### Compare The Models\n",
    "\n",
    "So far, you have created a multi-classifier model with 4 different algorithms and made predictions. You can observe the performance of the models together with a barplot of your choice.\n",
    "\n",
    "- Which algorithm did you achieve the highest prediction performance with? \n",
    "- What could be the factors that cause this? What are the principles of the most successful algorithm and its differences from other algorithms? \n",
    "\n",
    "In contrast;\n",
    "\n",
    "- Which algorithm did you achieve the lowest prediction performance with? \n",
    "- What could be the factors that cause this? What are the principles of the most successful algorithm and its differences from other algorithms? \n",
    "\n",
    "The answers you will look for to these questions will increase your gains from Machine Learning course."
   ]
  },
  {
   "cell_type": "markdown",
   "metadata": {
    "id": "9F79Rr6OzEVM"
   },
   "source": [
    "# Accuracy Comparison"
   ]
  },
  {
   "cell_type": "markdown",
   "metadata": {
    "id": "Gx90UY0cOlvB"
   },
   "source": []
  },
  {
   "cell_type": "markdown",
   "metadata": {
    "id": "jOJwsa3RzEVN"
   },
   "source": [
    "# F1 Score Comparison"
   ]
  },
  {
   "cell_type": "markdown",
   "metadata": {
    "id": "V9GMPY0yOlvB"
   },
   "source": []
  },
  {
   "cell_type": "markdown",
   "metadata": {
    "id": "e6wYrrIuASC0"
   },
   "source": [
    "___\n",
    "\n",
    "<p style=\"text-align: center;\"><img src=\"https://docs.google.com/uc?id=1lY0Uj5R04yMY3-ZppPWxqCr5pvBLYPnV\" class=\"img-fluid\" alt=\"CLRSWY\"></p>\n",
    "\n",
    "___"
   ]
  }
 ],
 "metadata": {
  "colab": {
   "collapsed_sections": [],
   "provenance": []
  },
  "hide_input": false,
  "kernelspec": {
   "display_name": "Python 3 (ipykernel)",
   "language": "python",
   "name": "python3"
  },
  "language_info": {
   "codemirror_mode": {
    "name": "ipython",
    "version": 3
   },
   "file_extension": ".py",
   "mimetype": "text/x-python",
   "name": "python",
   "nbconvert_exporter": "python",
   "pygments_lexer": "ipython3",
   "version": "3.9.7"
  },
  "toc": {
   "base_numbering": 1,
   "nav_menu": {},
   "number_sections": true,
   "sideBar": true,
   "skip_h1_title": false,
   "title_cell": "Table of Contents",
   "title_sidebar": "Contents",
   "toc_cell": false,
   "toc_position": {},
   "toc_section_display": true,
   "toc_window_display": false
  },
  "varInspector": {
   "cols": {
    "lenName": 16,
    "lenType": 16,
    "lenVar": 40
   },
   "kernels_config": {
    "python": {
     "delete_cmd_postfix": "",
     "delete_cmd_prefix": "del ",
     "library": "var_list.py",
     "varRefreshCmd": "print(var_dic_list())"
    },
    "r": {
     "delete_cmd_postfix": ") ",
     "delete_cmd_prefix": "rm(",
     "library": "var_list.r",
     "varRefreshCmd": "cat(var_dic_list()) "
    }
   },
   "oldHeight": 326.85,
   "position": {
    "height": "40px",
    "left": "1233.2px",
    "right": "20px",
    "top": "120px",
    "width": "250px"
   },
   "types_to_exclude": [
    "module",
    "function",
    "builtin_function_or_method",
    "instance",
    "_Feature"
   ],
   "varInspector_section_display": "none",
   "window_display": false
  }
 },
 "nbformat": 4,
 "nbformat_minor": 1
}
