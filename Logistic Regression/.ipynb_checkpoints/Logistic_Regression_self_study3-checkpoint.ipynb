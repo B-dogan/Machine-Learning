{
 "cells": [
  {
   "cell_type": "code",
   "execution_count": 1,
   "id": "451ce445",
   "metadata": {},
   "outputs": [],
   "source": [
    "import numpy as np\n",
    "import pandas as pd\n",
    "import seaborn as sns\n",
    "import matplotlib.pyplot as plt\n",
    "\n",
    "%matplotlib inline\n",
    "#%matplotlib notebook\n",
    "plt.rcParams[\"figure.figsize\"] = (10,6)\n",
    "import warnings\n",
    "warnings.filterwarnings(\"ignore\")\n",
    "warnings.warn(\"this will not show\")\n",
    "pd.set_option('display.float_format', lambda x: '%.3f' % x)\n",
    "#pd.options.display.float_format = '{:.3f}'.format"
   ]
  },
  {
   "cell_type": "code",
   "execution_count": 2,
   "id": "ef01328c",
   "metadata": {},
   "outputs": [],
   "source": [
    "from sklearn.model_selection import train_test_split,GridSearchCV,cross_val_score,cross_validate\n",
    "from sklearn.preprocessing import StandardScaler,RobustScaler"
   ]
  },
  {
   "cell_type": "code",
   "execution_count": 3,
   "id": "d6f642ac",
   "metadata": {},
   "outputs": [],
   "source": [
    "from sklearn.linear_model import LogisticRegression"
   ]
  },
  {
   "cell_type": "code",
   "execution_count": 4,
   "id": "4ac0f726",
   "metadata": {},
   "outputs": [],
   "source": [
    "from sklearn.metrics import precision_score, recall_score, accuracy_score, f1_score,confusion_matrix,classification_report"
   ]
  },
  {
   "cell_type": "code",
   "execution_count": 5,
   "id": "389c9c56",
   "metadata": {},
   "outputs": [],
   "source": [
    "from sklearn.metrics import roc_curve,roc_auc_score,mean_squared_error,r2_score,plot_roc_curve, plot_confusion_matrix"
   ]
  },
  {
   "cell_type": "code",
   "execution_count": 6,
   "id": "180e7445",
   "metadata": {},
   "outputs": [
    {
     "data": {
      "text/html": [
       "<div>\n",
       "<style scoped>\n",
       "    .dataframe tbody tr th:only-of-type {\n",
       "        vertical-align: middle;\n",
       "    }\n",
       "\n",
       "    .dataframe tbody tr th {\n",
       "        vertical-align: top;\n",
       "    }\n",
       "\n",
       "    .dataframe thead th {\n",
       "        text-align: right;\n",
       "    }\n",
       "</style>\n",
       "<table border=\"1\" class=\"dataframe\">\n",
       "  <thead>\n",
       "    <tr style=\"text-align: right;\">\n",
       "      <th></th>\n",
       "      <th>Pregnancies</th>\n",
       "      <th>Glucose</th>\n",
       "      <th>BloodPressure</th>\n",
       "      <th>SkinThickness</th>\n",
       "      <th>Insulin</th>\n",
       "      <th>BMI</th>\n",
       "      <th>DiabetesPedigreeFunction</th>\n",
       "      <th>Age</th>\n",
       "      <th>Outcome</th>\n",
       "    </tr>\n",
       "  </thead>\n",
       "  <tbody>\n",
       "    <tr>\n",
       "      <th>0</th>\n",
       "      <td>6</td>\n",
       "      <td>148</td>\n",
       "      <td>72</td>\n",
       "      <td>35</td>\n",
       "      <td>0</td>\n",
       "      <td>33.600</td>\n",
       "      <td>0.627</td>\n",
       "      <td>50</td>\n",
       "      <td>1</td>\n",
       "    </tr>\n",
       "    <tr>\n",
       "      <th>1</th>\n",
       "      <td>1</td>\n",
       "      <td>85</td>\n",
       "      <td>66</td>\n",
       "      <td>29</td>\n",
       "      <td>0</td>\n",
       "      <td>26.600</td>\n",
       "      <td>0.351</td>\n",
       "      <td>31</td>\n",
       "      <td>0</td>\n",
       "    </tr>\n",
       "    <tr>\n",
       "      <th>2</th>\n",
       "      <td>8</td>\n",
       "      <td>183</td>\n",
       "      <td>64</td>\n",
       "      <td>0</td>\n",
       "      <td>0</td>\n",
       "      <td>23.300</td>\n",
       "      <td>0.672</td>\n",
       "      <td>32</td>\n",
       "      <td>1</td>\n",
       "    </tr>\n",
       "    <tr>\n",
       "      <th>3</th>\n",
       "      <td>1</td>\n",
       "      <td>89</td>\n",
       "      <td>66</td>\n",
       "      <td>23</td>\n",
       "      <td>94</td>\n",
       "      <td>28.100</td>\n",
       "      <td>0.167</td>\n",
       "      <td>21</td>\n",
       "      <td>0</td>\n",
       "    </tr>\n",
       "    <tr>\n",
       "      <th>4</th>\n",
       "      <td>0</td>\n",
       "      <td>137</td>\n",
       "      <td>40</td>\n",
       "      <td>35</td>\n",
       "      <td>168</td>\n",
       "      <td>43.100</td>\n",
       "      <td>2.288</td>\n",
       "      <td>33</td>\n",
       "      <td>1</td>\n",
       "    </tr>\n",
       "  </tbody>\n",
       "</table>\n",
       "</div>"
      ],
      "text/plain": [
       "   Pregnancies  Glucose  BloodPressure  SkinThickness  Insulin    BMI  \\\n",
       "0            6      148             72             35        0 33.600   \n",
       "1            1       85             66             29        0 26.600   \n",
       "2            8      183             64              0        0 23.300   \n",
       "3            1       89             66             23       94 28.100   \n",
       "4            0      137             40             35      168 43.100   \n",
       "\n",
       "   DiabetesPedigreeFunction  Age  Outcome  \n",
       "0                     0.627   50        1  \n",
       "1                     0.351   31        0  \n",
       "2                     0.672   32        1  \n",
       "3                     0.167   21        0  \n",
       "4                     2.288   33        1  "
      ]
     },
     "execution_count": 6,
     "metadata": {},
     "output_type": "execute_result"
    }
   ],
   "source": [
    "df = pd.read_csv(\"diabetes.csv\")\n",
    "df.head()"
   ]
  },
  {
   "cell_type": "markdown",
   "id": "fb810ca7",
   "metadata": {},
   "source": [
    "# Özellikleri belirtildiğinde kişilerin diyabet hastası olup olmadıklarını tahmin edebilecek bir makine öğrenmesi modeli geliştirebilir misiniz?"
   ]
  },
  {
   "cell_type": "markdown",
   "id": "9760185d",
   "metadata": {},
   "source": [
    "\n",
    "## Veri seti ABD'deki Ulusal Diyabet-Sindirim-Böbrek Hastalıkları Enstitüleri'nde tutulan büyük veri setinin parçasıdır. ABD'deki Arizona Eyaleti'nin en büyük 5. şehri olan Phoenix şehrinde yaşayan 21 yaş ve üzerinde olan Pima Indian kadınları üzerinde yapılan diyabet araştırması için kullanılan verilerdir. 768 gözlem ve 8 sayısal bağımsız değişkenden oluşmaktadır. Hedef değişken \"outcome\" olarak belirtilmiş olup; 1 diyabet test sonucunun pozitif oluşunu, 0 ise negatif oluşunu belirtmektedir."
   ]
  },
  {
   "cell_type": "markdown",
   "id": "4f0de204",
   "metadata": {},
   "source": [
    "                # Değişkenler\n",
    "                # Pregnancies: Hamilelik sayısı\n",
    "                # Glucose: Glikoz.\n",
    "                # BloodPressure: Kan basıncı.\n",
    "                # SkinThickness: Cilt Kalınlığı\n",
    "                # Insulin: İnsülin.\n",
    "                # BMI: Beden kitle indeksi.\n",
    "                # DiabetesPedigreeFunction: Soyumuzdaki kişilere göre diyabet olma ihtimalimizi hesaplayan bir fonksiyon.\n",
    "                # Age: Yaş (yıl)\n",
    "                # Outcome: Kişinin diyabet olup olmadığı bilgisi. Hastalığa sahip (1) ya da değil (0)"
   ]
  },
  {
   "cell_type": "markdown",
   "id": "d2df2868",
   "metadata": {},
   "source": [
    "### Yapılacaklar : \n",
    "                    # 1. Exploratory Data Analysis\n",
    "                    # 2. Data Preprocessing\n",
    "                    # 3. Model & Prediction\n",
    "                    # 4. Model Evaluation\n",
    "                    # 5. Model Validation: Holdout\n",
    "                    # 6. Model Validation: 10-Fold Cross Validation\n",
    "                    # 7. Prediction for A New Observation\n"
   ]
  },
  {
   "cell_type": "code",
   "execution_count": 7,
   "id": "fd9da2b3",
   "metadata": {},
   "outputs": [],
   "source": [
    "def outlier_thresholds(dataframe, col_name, q1=0.05, q3=0.95):            # q1 ve q3'e dikkat\n",
    "    quartile1 = dataframe[col_name].quantile(q1)\n",
    "    quartile3 = dataframe[col_name].quantile(q3)\n",
    "    interquantile_range = quartile3 - quartile1\n",
    "    up_limit = quartile3 + 1.5 * interquantile_range\n",
    "    low_limit = quartile1 - 1.5 * interquantile_range\n",
    "    return low_limit, up_limit"
   ]
  },
  {
   "cell_type": "code",
   "execution_count": 8,
   "id": "d77b6577",
   "metadata": {},
   "outputs": [],
   "source": [
    "def check_outlier(dataframe, col_name):\n",
    "    low_limit, up_limit = outlier_thresholds(dataframe, col_name)\n",
    "    if dataframe[(dataframe[col_name] > up_limit) | (dataframe[col_name] < low_limit)].any(axis=None):\n",
    "        return True\n",
    "    else:\n",
    "        return False"
   ]
  },
  {
   "cell_type": "code",
   "execution_count": 9,
   "id": "a3cba1f3",
   "metadata": {},
   "outputs": [],
   "source": [
    "def replace_with_thresholds(dataframe, variable):\n",
    "    low_limit, up_limit = outlier_thresholds(dataframe, variable)\n",
    "    dataframe.loc[(dataframe[variable] < low_limit), variable] = low_limit\n",
    "    dataframe.loc[(dataframe[variable] > up_limit), variable] = up_limit"
   ]
  },
  {
   "cell_type": "markdown",
   "id": "59a533e0",
   "metadata": {},
   "source": [
    "# Exploratory Data Analysis"
   ]
  },
  {
   "cell_type": "code",
   "execution_count": 10,
   "id": "44617990",
   "metadata": {},
   "outputs": [
    {
     "data": {
      "text/plain": [
       "0    500\n",
       "1    268\n",
       "Name: Outcome, dtype: int64"
      ]
     },
     "execution_count": 10,
     "metadata": {},
     "output_type": "execute_result"
    }
   ],
   "source": [
    "df[\"Outcome\"].value_counts()"
   ]
  },
  {
   "cell_type": "code",
   "execution_count": 11,
   "id": "e07f075d",
   "metadata": {},
   "outputs": [
    {
     "data": {
      "image/png": "[encoded data removed]",
      "text/plain": [
       "<Figure size 720x432 with 1 Axes>"
      ]
     },
     "metadata": {
      "needs_background": "light"
     },
     "output_type": "display_data"
    }
   ],
   "source": [
    "ax = sns.countplot(x =\"Outcome\",data=df,palette=\"viridis\")\n",
    "for container in ax.containers:\n",
    "    ax.bar_label(container)"
   ]
  },
  {
   "cell_type": "code",
   "execution_count": 12,
   "id": "f7607c63",
   "metadata": {},
   "outputs": [
    {
     "data": {
      "text/plain": [
       "0   65.104\n",
       "1   34.896\n",
       "Name: Outcome, dtype: float64"
      ]
     },
     "execution_count": 12,
     "metadata": {},
     "output_type": "execute_result"
    }
   ],
   "source": [
    "df[\"Outcome\"].value_counts(normalize=True) * 100"
   ]
  },
  {
   "cell_type": "code",
   "execution_count": 13,
   "id": "171b4c1a",
   "metadata": {},
   "outputs": [
    {
     "data": {
      "text/plain": [
       "<AxesSubplot:>"
      ]
     },
     "execution_count": 13,
     "metadata": {},
     "output_type": "execute_result"
    },
    {
     "data": {
      "image/png": "[encoded data removed]",
      "text/plain": [
       "<Figure size 720x432 with 1 Axes>"
      ]
     },
     "metadata": {
      "needs_background": "light"
     },
     "output_type": "display_data"
    }
   ],
   "source": [
    "df[\"Outcome\"].value_counts(normalize=True).plot.bar()"
   ]
  },
  {
   "cell_type": "code",
   "execution_count": 14,
   "id": "35a69f4d",
   "metadata": {},
   "outputs": [
    {
     "data": {
      "text/html": [
       "<div>\n",
       "<style scoped>\n",
       "    .dataframe tbody tr th:only-of-type {\n",
       "        vertical-align: middle;\n",
       "    }\n",
       "\n",
       "    .dataframe tbody tr th {\n",
       "        vertical-align: top;\n",
       "    }\n",
       "\n",
       "    .dataframe thead th {\n",
       "        text-align: right;\n",
       "    }\n",
       "</style>\n",
       "<table border=\"1\" class=\"dataframe\">\n",
       "  <thead>\n",
       "    <tr style=\"text-align: right;\">\n",
       "      <th></th>\n",
       "      <th>Pregnancies</th>\n",
       "      <th>Glucose</th>\n",
       "      <th>BloodPressure</th>\n",
       "      <th>SkinThickness</th>\n",
       "      <th>Insulin</th>\n",
       "      <th>BMI</th>\n",
       "      <th>DiabetesPedigreeFunction</th>\n",
       "      <th>Age</th>\n",
       "      <th>Outcome</th>\n",
       "    </tr>\n",
       "  </thead>\n",
       "  <tbody>\n",
       "    <tr>\n",
       "      <th>0</th>\n",
       "      <td>6</td>\n",
       "      <td>148</td>\n",
       "      <td>72</td>\n",
       "      <td>35</td>\n",
       "      <td>0</td>\n",
       "      <td>33.600</td>\n",
       "      <td>0.627</td>\n",
       "      <td>50</td>\n",
       "      <td>1</td>\n",
       "    </tr>\n",
       "    <tr>\n",
       "      <th>1</th>\n",
       "      <td>1</td>\n",
       "      <td>85</td>\n",
       "      <td>66</td>\n",
       "      <td>29</td>\n",
       "      <td>0</td>\n",
       "      <td>26.600</td>\n",
       "      <td>0.351</td>\n",
       "      <td>31</td>\n",
       "      <td>0</td>\n",
       "    </tr>\n",
       "    <tr>\n",
       "      <th>2</th>\n",
       "      <td>8</td>\n",
       "      <td>183</td>\n",
       "      <td>64</td>\n",
       "      <td>0</td>\n",
       "      <td>0</td>\n",
       "      <td>23.300</td>\n",
       "      <td>0.672</td>\n",
       "      <td>32</td>\n",
       "      <td>1</td>\n",
       "    </tr>\n",
       "    <tr>\n",
       "      <th>3</th>\n",
       "      <td>1</td>\n",
       "      <td>89</td>\n",
       "      <td>66</td>\n",
       "      <td>23</td>\n",
       "      <td>94</td>\n",
       "      <td>28.100</td>\n",
       "      <td>0.167</td>\n",
       "      <td>21</td>\n",
       "      <td>0</td>\n",
       "    </tr>\n",
       "    <tr>\n",
       "      <th>4</th>\n",
       "      <td>0</td>\n",
       "      <td>137</td>\n",
       "      <td>40</td>\n",
       "      <td>35</td>\n",
       "      <td>168</td>\n",
       "      <td>43.100</td>\n",
       "      <td>2.288</td>\n",
       "      <td>33</td>\n",
       "      <td>1</td>\n",
       "    </tr>\n",
       "  </tbody>\n",
       "</table>\n",
       "</div>"
      ],
      "text/plain": [
       "   Pregnancies  Glucose  BloodPressure  SkinThickness  Insulin    BMI  \\\n",
       "0            6      148             72             35        0 33.600   \n",
       "1            1       85             66             29        0 26.600   \n",
       "2            8      183             64              0        0 23.300   \n",
       "3            1       89             66             23       94 28.100   \n",
       "4            0      137             40             35      168 43.100   \n",
       "\n",
       "   DiabetesPedigreeFunction  Age  Outcome  \n",
       "0                     0.627   50        1  \n",
       "1                     0.351   31        0  \n",
       "2                     0.672   32        1  \n",
       "3                     0.167   21        0  \n",
       "4                     2.288   33        1  "
      ]
     },
     "execution_count": 14,
     "metadata": {},
     "output_type": "execute_result"
    }
   ],
   "source": [
    "df.head()"
   ]
  },
  {
   "cell_type": "code",
   "execution_count": 15,
   "id": "743cb971",
   "metadata": {},
   "outputs": [
    {
     "data": {
      "text/html": [
       "<div>\n",
       "<style scoped>\n",
       "    .dataframe tbody tr th:only-of-type {\n",
       "        vertical-align: middle;\n",
       "    }\n",
       "\n",
       "    .dataframe tbody tr th {\n",
       "        vertical-align: top;\n",
       "    }\n",
       "\n",
       "    .dataframe thead th {\n",
       "        text-align: right;\n",
       "    }\n",
       "</style>\n",
       "<table border=\"1\" class=\"dataframe\">\n",
       "  <thead>\n",
       "    <tr style=\"text-align: right;\">\n",
       "      <th></th>\n",
       "      <th>Pregnancies</th>\n",
       "      <th>Glucose</th>\n",
       "      <th>BloodPressure</th>\n",
       "      <th>SkinThickness</th>\n",
       "      <th>Insulin</th>\n",
       "      <th>BMI</th>\n",
       "      <th>DiabetesPedigreeFunction</th>\n",
       "      <th>Age</th>\n",
       "      <th>Outcome</th>\n",
       "    </tr>\n",
       "  </thead>\n",
       "  <tbody>\n",
       "    <tr>\n",
       "      <th>count</th>\n",
       "      <td>768.000</td>\n",
       "      <td>768.000</td>\n",
       "      <td>768.000</td>\n",
       "      <td>768.000</td>\n",
       "      <td>768.000</td>\n",
       "      <td>768.000</td>\n",
       "      <td>768.000</td>\n",
       "      <td>768.000</td>\n",
       "      <td>768.000</td>\n",
       "    </tr>\n",
       "    <tr>\n",
       "      <th>mean</th>\n",
       "      <td>3.845</td>\n",
       "      <td>120.895</td>\n",
       "      <td>69.105</td>\n",
       "      <td>20.536</td>\n",
       "      <td>79.799</td>\n",
       "      <td>31.993</td>\n",
       "      <td>0.472</td>\n",
       "      <td>33.241</td>\n",
       "      <td>0.349</td>\n",
       "    </tr>\n",
       "    <tr>\n",
       "      <th>std</th>\n",
       "      <td>3.370</td>\n",
       "      <td>31.973</td>\n",
       "      <td>19.356</td>\n",
       "      <td>15.952</td>\n",
       "      <td>115.244</td>\n",
       "      <td>7.884</td>\n",
       "      <td>0.331</td>\n",
       "      <td>11.760</td>\n",
       "      <td>0.477</td>\n",
       "    </tr>\n",
       "    <tr>\n",
       "      <th>min</th>\n",
       "      <td>0.000</td>\n",
       "      <td>0.000</td>\n",
       "      <td>0.000</td>\n",
       "      <td>0.000</td>\n",
       "      <td>0.000</td>\n",
       "      <td>0.000</td>\n",
       "      <td>0.078</td>\n",
       "      <td>21.000</td>\n",
       "      <td>0.000</td>\n",
       "    </tr>\n",
       "    <tr>\n",
       "      <th>25%</th>\n",
       "      <td>1.000</td>\n",
       "      <td>99.000</td>\n",
       "      <td>62.000</td>\n",
       "      <td>0.000</td>\n",
       "      <td>0.000</td>\n",
       "      <td>27.300</td>\n",
       "      <td>0.244</td>\n",
       "      <td>24.000</td>\n",
       "      <td>0.000</td>\n",
       "    </tr>\n",
       "    <tr>\n",
       "      <th>50%</th>\n",
       "      <td>3.000</td>\n",
       "      <td>117.000</td>\n",
       "      <td>72.000</td>\n",
       "      <td>23.000</td>\n",
       "      <td>30.500</td>\n",
       "      <td>32.000</td>\n",
       "      <td>0.372</td>\n",
       "      <td>29.000</td>\n",
       "      <td>0.000</td>\n",
       "    </tr>\n",
       "    <tr>\n",
       "      <th>75%</th>\n",
       "      <td>6.000</td>\n",
       "      <td>140.250</td>\n",
       "      <td>80.000</td>\n",
       "      <td>32.000</td>\n",
       "      <td>127.250</td>\n",
       "      <td>36.600</td>\n",
       "      <td>0.626</td>\n",
       "      <td>41.000</td>\n",
       "      <td>1.000</td>\n",
       "    </tr>\n",
       "    <tr>\n",
       "      <th>max</th>\n",
       "      <td>17.000</td>\n",
       "      <td>199.000</td>\n",
       "      <td>122.000</td>\n",
       "      <td>99.000</td>\n",
       "      <td>846.000</td>\n",
       "      <td>67.100</td>\n",
       "      <td>2.420</td>\n",
       "      <td>81.000</td>\n",
       "      <td>1.000</td>\n",
       "    </tr>\n",
       "  </tbody>\n",
       "</table>\n",
       "</div>"
      ],
      "text/plain": [
       "       Pregnancies  Glucose  BloodPressure  SkinThickness  Insulin     BMI  \\\n",
       "count      768.000  768.000        768.000        768.000  768.000 768.000   \n",
       "mean         3.845  120.895         69.105         20.536   79.799  31.993   \n",
       "std          3.370   31.973         19.356         15.952  115.244   7.884   \n",
       "min          0.000    0.000          0.000          0.000    0.000   0.000   \n",
       "25%          1.000   99.000         62.000          0.000    0.000  27.300   \n",
       "50%          3.000  117.000         72.000         23.000   30.500  32.000   \n",
       "75%          6.000  140.250         80.000         32.000  127.250  36.600   \n",
       "max         17.000  199.000        122.000         99.000  846.000  67.100   \n",
       "\n",
       "       DiabetesPedigreeFunction     Age  Outcome  \n",
       "count                   768.000 768.000  768.000  \n",
       "mean                      0.472  33.241    0.349  \n",
       "std                       0.331  11.760    0.477  \n",
       "min                       0.078  21.000    0.000  \n",
       "25%                       0.244  24.000    0.000  \n",
       "50%                       0.372  29.000    0.000  \n",
       "75%                       0.626  41.000    1.000  \n",
       "max                       2.420  81.000    1.000  "
      ]
     },
     "execution_count": 15,
     "metadata": {},
     "output_type": "execute_result"
    }
   ],
   "source": [
    "df.describe()"
   ]
  },
  {
   "cell_type": "code",
   "execution_count": 16,
   "id": "c0ac9be3",
   "metadata": {},
   "outputs": [
    {
     "name": "stdout",
     "output_type": "stream",
     "text": [
      "<class 'pandas.core.frame.DataFrame'>\n",
      "RangeIndex: 768 entries, 0 to 767\n",
      "Data columns (total 9 columns):\n",
      " #   Column                    Non-Null Count  Dtype  \n",
      "---  ------                    --------------  -----  \n",
      " 0   Pregnancies               768 non-null    int64  \n",
      " 1   Glucose                   768 non-null    int64  \n",
      " 2   BloodPressure             768 non-null    int64  \n",
      " 3   SkinThickness             768 non-null    int64  \n",
      " 4   Insulin                   768 non-null    int64  \n",
      " 5   BMI                       768 non-null    float64\n",
      " 6   DiabetesPedigreeFunction  768 non-null    float64\n",
      " 7   Age                       768 non-null    int64  \n",
      " 8   Outcome                   768 non-null    int64  \n",
      "dtypes: float64(2), int64(7)\n",
      "memory usage: 54.1 KB\n"
     ]
    }
   ],
   "source": [
    "df.info()"
   ]
  },
  {
   "cell_type": "code",
   "execution_count": 17,
   "id": "0e966577",
   "metadata": {},
   "outputs": [
    {
     "data": {
      "image/png": "[encoded data removed]",
      "text/plain": [
       "<Figure size 720x432 with 1 Axes>"
      ]
     },
     "metadata": {
      "needs_background": "light"
     },
     "output_type": "display_data"
    }
   ],
   "source": [
    "df[\"BloodPressure\"].hist(bins=20)\n",
    "plt.xlabel(\"BloodPressure\")\n",
    "plt.show()"
   ]
  },
  {
   "cell_type": "code",
   "execution_count": 18,
   "id": "3088828a",
   "metadata": {},
   "outputs": [
    {
     "data": {
      "image/png": "[encoded data removed]",
      "text/plain": [
       "<Figure size 720x432 with 1 Axes>"
      ]
     },
     "metadata": {
      "needs_background": "light"
     },
     "output_type": "display_data"
    }
   ],
   "source": [
    "df[\"Glucose\"].hist(bins=20)\n",
    "plt.xlabel(\"Glucose\")\n",
    "plt.show()"
   ]
  },
  {
   "cell_type": "code",
   "execution_count": 19,
   "id": "7d13494d",
   "metadata": {},
   "outputs": [],
   "source": [
    "def plot_numerical_col(dataframe, numerical_col):\n",
    "    dataframe[numerical_col].hist(bins=20)\n",
    "    plt.xlabel(numerical_col)\n",
    "    plt.show(block=True)               # ------------> grafikler üst üste binmesin diye block =True"
   ]
  },
  {
   "cell_type": "code",
   "execution_count": 20,
   "id": "fe209d60",
   "metadata": {},
   "outputs": [
    {
     "data": {
      "image/png": "[encoded data removed]",
      "text/plain": [
       "<Figure size 720x432 with 1 Axes>"
      ]
     },
     "metadata": {
      "needs_background": "light"
     },
     "output_type": "display_data"
    },
    {
     "data": {
      "image/png": "[encoded data removed]",
      "text/plain": [
       "<Figure size 720x432 with 1 Axes>"
      ]
     },
     "metadata": {
      "needs_background": "light"
     },
     "output_type": "display_data"
    },
    {
     "data": {
      "image/png": "[encoded data removed]",
      "text/plain": [
       "<Figure size 720x432 with 1 Axes>"
      ]
     },
     "metadata": {
      "needs_background": "light"
     },
     "output_type": "display_data"
    },
    {
     "data": {
      "image/png": "[encoded data removed]",
      "text/plain": [
       "<Figure size 720x432 with 1 Axes>"
      ]
     },
     "metadata": {
      "needs_background": "light"
     },
     "output_type": "display_data"
    },
    {
     "data": {
      "image/png": "[encoded data removed]",
      "text/plain": [
       "<Figure size 720x432 with 1 Axes>"
      ]
     },
     "metadata": {
      "needs_background": "light"
     },
     "output_type": "display_data"
    },
    {
     "data": {
      "image/png": "[encoded data removed]",
      "text/plain": [
       "<Figure size 720x432 with 1 Axes>"
      ]
     },
     "metadata": {
      "needs_background": "light"
     },
     "output_type": "display_data"
    },
    {
     "data": {
      "image/png": "[encoded data removed]",
      "text/plain": [
       "<Figure size 720x432 with 1 Axes>"
      ]
     },
     "metadata": {
      "needs_background": "light"
     },
     "output_type": "display_data"
    },
    {
     "data": {
      "image/png": "[encoded data removed]",
      "text/plain": [
       "<Figure size 720x432 with 1 Axes>"
      ]
     },
     "metadata": {
      "needs_background": "light"
     },
     "output_type": "display_data"
    },
    {
     "data": {
      "image/png": "[encoded data removed]",
      "text/plain": [
       "<Figure size 720x432 with 1 Axes>"
      ]
     },
     "metadata": {
      "needs_background": "light"
     },
     "output_type": "display_data"
    }
   ],
   "source": [
    "for col in df.columns:\n",
    "    plot_numerical_col(df, col)"
   ]
  },
  {
   "cell_type": "code",
   "execution_count": 21,
   "id": "85da0d80",
   "metadata": {},
   "outputs": [],
   "source": [
    "cols = [col for col in df.columns if \"Outcome\" not in col]          # target'ı görmek istemezsek : "
   ]
  },
  {
   "cell_type": "code",
   "execution_count": 22,
   "id": "4f3d4fe6",
   "metadata": {},
   "outputs": [
    {
     "data": {
      "image/png": "[encoded data removed]",
      "text/plain": [
       "<Figure size 720x432 with 1 Axes>"
      ]
     },
     "metadata": {
      "needs_background": "light"
     },
     "output_type": "display_data"
    },
    {
     "data": {
      "image/png": "[encoded data removed]",
      "text/plain": [
       "<Figure size 720x432 with 1 Axes>"
      ]
     },
     "metadata": {
      "needs_background": "light"
     },
     "output_type": "display_data"
    },
    {
     "data": {
      "image/png": "[encoded data removed]",
      "text/plain": [
       "<Figure size 720x432 with 1 Axes>"
      ]
     },
     "metadata": {
      "needs_background": "light"
     },
     "output_type": "display_data"
    },
    {
     "data": {
      "image/png": "[encoded data removed]",
      "text/plain": [
       "<Figure size 720x432 with 1 Axes>"
      ]
     },
     "metadata": {
      "needs_background": "light"
     },
     "output_type": "display_data"
    },
    {
     "data": {
      "image/png": "[encoded data removed]",
      "text/plain": [
       "<Figure size 720x432 with 1 Axes>"
      ]
     },
     "metadata": {
      "needs_background": "light"
     },
     "output_type": "display_data"
    },
    {
     "data": {
      "image/png": "[encoded data removed]",
      "text/plain": [
       "<Figure size 720x432 with 1 Axes>"
      ]
     },
     "metadata": {
      "needs_background": "light"
     },
     "output_type": "display_data"
    },
    {
     "data": {
      "image/png": "[encoded data removed]",
      "text/plain": [
       "<Figure size 720x432 with 1 Axes>"
      ]
     },
     "metadata": {
      "needs_background": "light"
     },
     "output_type": "display_data"
    },
    {
     "data": {
      "image/png": "[encoded data removed]",
      "text/plain": [
       "<Figure size 720x432 with 1 Axes>"
      ]
     },
     "metadata": {
      "needs_background": "light"
     },
     "output_type": "display_data"
    }
   ],
   "source": [
    "for col in cols:\n",
    "    plot_numerical_col(df, col)"
   ]
  },
  {
   "cell_type": "code",
   "execution_count": 23,
   "id": "25bd3631",
   "metadata": {},
   "outputs": [
    {
     "data": {
      "image/png": "[encoded data removed]",
      "text/plain": [
       "<Figure size 1440x1440 with 8 Axes>"
      ]
     },
     "metadata": {
      "needs_background": "light"
     },
     "output_type": "display_data"
    }
   ],
   "source": [
    "index = 0\n",
    "plt.figure(figsize=(20,20))\n",
    "for feature in df.columns:\n",
    "    if feature != \"Outcome\":\n",
    "        index += 1\n",
    "        plt.subplot(3,3,index)\n",
    "        sns.boxplot(x='Outcome',y=feature,data=df)"
   ]
  },
  {
   "cell_type": "code",
   "execution_count": 24,
   "id": "1f926970",
   "metadata": {},
   "outputs": [
    {
     "data": {
      "text/plain": [
       "<AxesSubplot:>"
      ]
     },
     "execution_count": 24,
     "metadata": {},
     "output_type": "execute_result"
    },
    {
     "data": {
      "image/png": "[encoded data removed]",
      "text/plain": [
       "<Figure size 720x432 with 1 Axes>"
      ]
     },
     "metadata": {
      "needs_background": "light"
     },
     "output_type": "display_data"
    }
   ],
   "source": [
    "df.corr()[\"Outcome\"].drop(\"Outcome\").sort_values().plot.barh()"
   ]
  },
  {
   "cell_type": "code",
   "execution_count": 25,
   "id": "ca3d3514",
   "metadata": {},
   "outputs": [
    {
     "data": {
      "text/html": [
       "<div>\n",
       "<style scoped>\n",
       "    .dataframe tbody tr th:only-of-type {\n",
       "        vertical-align: middle;\n",
       "    }\n",
       "\n",
       "    .dataframe tbody tr th {\n",
       "        vertical-align: top;\n",
       "    }\n",
       "\n",
       "    .dataframe thead th {\n",
       "        text-align: right;\n",
       "    }\n",
       "</style>\n",
       "<table border=\"1\" class=\"dataframe\">\n",
       "  <thead>\n",
       "    <tr style=\"text-align: right;\">\n",
       "      <th></th>\n",
       "      <th>count</th>\n",
       "      <th>mean</th>\n",
       "      <th>std</th>\n",
       "      <th>min</th>\n",
       "      <th>25%</th>\n",
       "      <th>50%</th>\n",
       "      <th>75%</th>\n",
       "      <th>max</th>\n",
       "    </tr>\n",
       "  </thead>\n",
       "  <tbody>\n",
       "    <tr>\n",
       "      <th>Pregnancies</th>\n",
       "      <td>768.000</td>\n",
       "      <td>3.845</td>\n",
       "      <td>3.370</td>\n",
       "      <td>0.000</td>\n",
       "      <td>1.000</td>\n",
       "      <td>3.000</td>\n",
       "      <td>6.000</td>\n",
       "      <td>17.000</td>\n",
       "    </tr>\n",
       "    <tr>\n",
       "      <th>Glucose</th>\n",
       "      <td>768.000</td>\n",
       "      <td>120.895</td>\n",
       "      <td>31.973</td>\n",
       "      <td>0.000</td>\n",
       "      <td>99.000</td>\n",
       "      <td>117.000</td>\n",
       "      <td>140.250</td>\n",
       "      <td>199.000</td>\n",
       "    </tr>\n",
       "    <tr>\n",
       "      <th>BloodPressure</th>\n",
       "      <td>768.000</td>\n",
       "      <td>69.105</td>\n",
       "      <td>19.356</td>\n",
       "      <td>0.000</td>\n",
       "      <td>62.000</td>\n",
       "      <td>72.000</td>\n",
       "      <td>80.000</td>\n",
       "      <td>122.000</td>\n",
       "    </tr>\n",
       "    <tr>\n",
       "      <th>SkinThickness</th>\n",
       "      <td>768.000</td>\n",
       "      <td>20.536</td>\n",
       "      <td>15.952</td>\n",
       "      <td>0.000</td>\n",
       "      <td>0.000</td>\n",
       "      <td>23.000</td>\n",
       "      <td>32.000</td>\n",
       "      <td>99.000</td>\n",
       "    </tr>\n",
       "    <tr>\n",
       "      <th>Insulin</th>\n",
       "      <td>768.000</td>\n",
       "      <td>79.799</td>\n",
       "      <td>115.244</td>\n",
       "      <td>0.000</td>\n",
       "      <td>0.000</td>\n",
       "      <td>30.500</td>\n",
       "      <td>127.250</td>\n",
       "      <td>846.000</td>\n",
       "    </tr>\n",
       "    <tr>\n",
       "      <th>BMI</th>\n",
       "      <td>768.000</td>\n",
       "      <td>31.993</td>\n",
       "      <td>7.884</td>\n",
       "      <td>0.000</td>\n",
       "      <td>27.300</td>\n",
       "      <td>32.000</td>\n",
       "      <td>36.600</td>\n",
       "      <td>67.100</td>\n",
       "    </tr>\n",
       "    <tr>\n",
       "      <th>DiabetesPedigreeFunction</th>\n",
       "      <td>768.000</td>\n",
       "      <td>0.472</td>\n",
       "      <td>0.331</td>\n",
       "      <td>0.078</td>\n",
       "      <td>0.244</td>\n",
       "      <td>0.372</td>\n",
       "      <td>0.626</td>\n",
       "      <td>2.420</td>\n",
       "    </tr>\n",
       "    <tr>\n",
       "      <th>Age</th>\n",
       "      <td>768.000</td>\n",
       "      <td>33.241</td>\n",
       "      <td>11.760</td>\n",
       "      <td>21.000</td>\n",
       "      <td>24.000</td>\n",
       "      <td>29.000</td>\n",
       "      <td>41.000</td>\n",
       "      <td>81.000</td>\n",
       "    </tr>\n",
       "    <tr>\n",
       "      <th>Outcome</th>\n",
       "      <td>768.000</td>\n",
       "      <td>0.349</td>\n",
       "      <td>0.477</td>\n",
       "      <td>0.000</td>\n",
       "      <td>0.000</td>\n",
       "      <td>0.000</td>\n",
       "      <td>1.000</td>\n",
       "      <td>1.000</td>\n",
       "    </tr>\n",
       "  </tbody>\n",
       "</table>\n",
       "</div>"
      ],
      "text/plain": [
       "                           count    mean     std    min    25%     50%  \\\n",
       "Pregnancies              768.000   3.845   3.370  0.000  1.000   3.000   \n",
       "Glucose                  768.000 120.895  31.973  0.000 99.000 117.000   \n",
       "BloodPressure            768.000  69.105  19.356  0.000 62.000  72.000   \n",
       "SkinThickness            768.000  20.536  15.952  0.000  0.000  23.000   \n",
       "Insulin                  768.000  79.799 115.244  0.000  0.000  30.500   \n",
       "BMI                      768.000  31.993   7.884  0.000 27.300  32.000   \n",
       "DiabetesPedigreeFunction 768.000   0.472   0.331  0.078  0.244   0.372   \n",
       "Age                      768.000  33.241  11.760 21.000 24.000  29.000   \n",
       "Outcome                  768.000   0.349   0.477  0.000  0.000   0.000   \n",
       "\n",
       "                             75%     max  \n",
       "Pregnancies                6.000  17.000  \n",
       "Glucose                  140.250 199.000  \n",
       "BloodPressure             80.000 122.000  \n",
       "SkinThickness             32.000  99.000  \n",
       "Insulin                  127.250 846.000  \n",
       "BMI                       36.600  67.100  \n",
       "DiabetesPedigreeFunction   0.626   2.420  \n",
       "Age                       41.000  81.000  \n",
       "Outcome                    1.000   1.000  "
      ]
     },
     "execution_count": 25,
     "metadata": {},
     "output_type": "execute_result"
    }
   ],
   "source": [
    "df.describe().T"
   ]
  },
  {
   "cell_type": "code",
   "execution_count": 26,
   "id": "5734d4ba",
   "metadata": {
    "scrolled": true
   },
   "outputs": [
    {
     "data": {
      "text/html": [
       "<div>\n",
       "<style scoped>\n",
       "    .dataframe tbody tr th:only-of-type {\n",
       "        vertical-align: middle;\n",
       "    }\n",
       "\n",
       "    .dataframe tbody tr th {\n",
       "        vertical-align: top;\n",
       "    }\n",
       "\n",
       "    .dataframe thead th {\n",
       "        text-align: right;\n",
       "    }\n",
       "</style>\n",
       "<table border=\"1\" class=\"dataframe\">\n",
       "  <thead>\n",
       "    <tr style=\"text-align: right;\">\n",
       "      <th></th>\n",
       "      <th>Pregnancies</th>\n",
       "      <th>Glucose</th>\n",
       "      <th>BloodPressure</th>\n",
       "      <th>SkinThickness</th>\n",
       "      <th>Insulin</th>\n",
       "      <th>BMI</th>\n",
       "      <th>DiabetesPedigreeFunction</th>\n",
       "      <th>Age</th>\n",
       "      <th>Outcome</th>\n",
       "    </tr>\n",
       "  </thead>\n",
       "  <tbody>\n",
       "    <tr>\n",
       "      <th>159</th>\n",
       "      <td>17</td>\n",
       "      <td>163</td>\n",
       "      <td>72</td>\n",
       "      <td>41</td>\n",
       "      <td>114</td>\n",
       "      <td>40.900</td>\n",
       "      <td>0.817</td>\n",
       "      <td>47</td>\n",
       "      <td>1</td>\n",
       "    </tr>\n",
       "  </tbody>\n",
       "</table>\n",
       "</div>"
      ],
      "text/plain": [
       "     Pregnancies  Glucose  BloodPressure  SkinThickness  Insulin    BMI  \\\n",
       "159           17      163             72             41      114 40.900   \n",
       "\n",
       "     DiabetesPedigreeFunction  Age  Outcome  \n",
       "159                     0.817   47        1  "
      ]
     },
     "execution_count": 26,
     "metadata": {},
     "output_type": "execute_result"
    }
   ],
   "source": [
    "df.loc[df[\"Pregnancies\"] == 17]"
   ]
  },
  {
   "cell_type": "code",
   "execution_count": 27,
   "id": "92227b02",
   "metadata": {},
   "outputs": [
    {
     "data": {
      "text/html": [
       "<div>\n",
       "<style scoped>\n",
       "    .dataframe tbody tr th:only-of-type {\n",
       "        vertical-align: middle;\n",
       "    }\n",
       "\n",
       "    .dataframe tbody tr th {\n",
       "        vertical-align: top;\n",
       "    }\n",
       "\n",
       "    .dataframe thead th {\n",
       "        text-align: right;\n",
       "    }\n",
       "</style>\n",
       "<table border=\"1\" class=\"dataframe\">\n",
       "  <thead>\n",
       "    <tr style=\"text-align: right;\">\n",
       "      <th></th>\n",
       "      <th>Pregnancies</th>\n",
       "      <th>Glucose</th>\n",
       "      <th>BloodPressure</th>\n",
       "      <th>SkinThickness</th>\n",
       "      <th>Insulin</th>\n",
       "      <th>BMI</th>\n",
       "      <th>DiabetesPedigreeFunction</th>\n",
       "      <th>Age</th>\n",
       "      <th>Outcome</th>\n",
       "    </tr>\n",
       "  </thead>\n",
       "  <tbody>\n",
       "    <tr>\n",
       "      <th>9</th>\n",
       "      <td>8</td>\n",
       "      <td>125</td>\n",
       "      <td>96</td>\n",
       "      <td>0</td>\n",
       "      <td>0</td>\n",
       "      <td>0.000</td>\n",
       "      <td>0.232</td>\n",
       "      <td>54</td>\n",
       "      <td>1</td>\n",
       "    </tr>\n",
       "    <tr>\n",
       "      <th>49</th>\n",
       "      <td>7</td>\n",
       "      <td>105</td>\n",
       "      <td>0</td>\n",
       "      <td>0</td>\n",
       "      <td>0</td>\n",
       "      <td>0.000</td>\n",
       "      <td>0.305</td>\n",
       "      <td>24</td>\n",
       "      <td>0</td>\n",
       "    </tr>\n",
       "    <tr>\n",
       "      <th>60</th>\n",
       "      <td>2</td>\n",
       "      <td>84</td>\n",
       "      <td>0</td>\n",
       "      <td>0</td>\n",
       "      <td>0</td>\n",
       "      <td>0.000</td>\n",
       "      <td>0.304</td>\n",
       "      <td>21</td>\n",
       "      <td>0</td>\n",
       "    </tr>\n",
       "    <tr>\n",
       "      <th>81</th>\n",
       "      <td>2</td>\n",
       "      <td>74</td>\n",
       "      <td>0</td>\n",
       "      <td>0</td>\n",
       "      <td>0</td>\n",
       "      <td>0.000</td>\n",
       "      <td>0.102</td>\n",
       "      <td>22</td>\n",
       "      <td>0</td>\n",
       "    </tr>\n",
       "    <tr>\n",
       "      <th>145</th>\n",
       "      <td>0</td>\n",
       "      <td>102</td>\n",
       "      <td>75</td>\n",
       "      <td>23</td>\n",
       "      <td>0</td>\n",
       "      <td>0.000</td>\n",
       "      <td>0.572</td>\n",
       "      <td>21</td>\n",
       "      <td>0</td>\n",
       "    </tr>\n",
       "    <tr>\n",
       "      <th>371</th>\n",
       "      <td>0</td>\n",
       "      <td>118</td>\n",
       "      <td>64</td>\n",
       "      <td>23</td>\n",
       "      <td>89</td>\n",
       "      <td>0.000</td>\n",
       "      <td>1.731</td>\n",
       "      <td>21</td>\n",
       "      <td>0</td>\n",
       "    </tr>\n",
       "    <tr>\n",
       "      <th>426</th>\n",
       "      <td>0</td>\n",
       "      <td>94</td>\n",
       "      <td>0</td>\n",
       "      <td>0</td>\n",
       "      <td>0</td>\n",
       "      <td>0.000</td>\n",
       "      <td>0.256</td>\n",
       "      <td>25</td>\n",
       "      <td>0</td>\n",
       "    </tr>\n",
       "    <tr>\n",
       "      <th>494</th>\n",
       "      <td>3</td>\n",
       "      <td>80</td>\n",
       "      <td>0</td>\n",
       "      <td>0</td>\n",
       "      <td>0</td>\n",
       "      <td>0.000</td>\n",
       "      <td>0.174</td>\n",
       "      <td>22</td>\n",
       "      <td>0</td>\n",
       "    </tr>\n",
       "    <tr>\n",
       "      <th>522</th>\n",
       "      <td>6</td>\n",
       "      <td>114</td>\n",
       "      <td>0</td>\n",
       "      <td>0</td>\n",
       "      <td>0</td>\n",
       "      <td>0.000</td>\n",
       "      <td>0.189</td>\n",
       "      <td>26</td>\n",
       "      <td>0</td>\n",
       "    </tr>\n",
       "    <tr>\n",
       "      <th>684</th>\n",
       "      <td>5</td>\n",
       "      <td>136</td>\n",
       "      <td>82</td>\n",
       "      <td>0</td>\n",
       "      <td>0</td>\n",
       "      <td>0.000</td>\n",
       "      <td>0.640</td>\n",
       "      <td>69</td>\n",
       "      <td>0</td>\n",
       "    </tr>\n",
       "    <tr>\n",
       "      <th>706</th>\n",
       "      <td>10</td>\n",
       "      <td>115</td>\n",
       "      <td>0</td>\n",
       "      <td>0</td>\n",
       "      <td>0</td>\n",
       "      <td>0.000</td>\n",
       "      <td>0.261</td>\n",
       "      <td>30</td>\n",
       "      <td>1</td>\n",
       "    </tr>\n",
       "  </tbody>\n",
       "</table>\n",
       "</div>"
      ],
      "text/plain": [
       "     Pregnancies  Glucose  BloodPressure  SkinThickness  Insulin   BMI  \\\n",
       "9              8      125             96              0        0 0.000   \n",
       "49             7      105              0              0        0 0.000   \n",
       "60             2       84              0              0        0 0.000   \n",
       "81             2       74              0              0        0 0.000   \n",
       "145            0      102             75             23        0 0.000   \n",
       "371            0      118             64             23       89 0.000   \n",
       "426            0       94              0              0        0 0.000   \n",
       "494            3       80              0              0        0 0.000   \n",
       "522            6      114              0              0        0 0.000   \n",
       "684            5      136             82              0        0 0.000   \n",
       "706           10      115              0              0        0 0.000   \n",
       "\n",
       "     DiabetesPedigreeFunction  Age  Outcome  \n",
       "9                       0.232   54        1  \n",
       "49                      0.305   24        0  \n",
       "60                      0.304   21        0  \n",
       "81                      0.102   22        0  \n",
       "145                     0.572   21        0  \n",
       "371                     1.731   21        0  \n",
       "426                     0.256   25        0  \n",
       "494                     0.174   22        0  \n",
       "522                     0.189   26        0  \n",
       "684                     0.640   69        0  \n",
       "706                     0.261   30        1  "
      ]
     },
     "execution_count": 27,
     "metadata": {},
     "output_type": "execute_result"
    }
   ],
   "source": [
    "df[df[\"BMI\"] == 0]"
   ]
  },
  {
   "cell_type": "code",
   "execution_count": 28,
   "id": "8b36d4b0",
   "metadata": {},
   "outputs": [
    {
     "data": {
      "text/html": [
       "<div>\n",
       "<style scoped>\n",
       "    .dataframe tbody tr th:only-of-type {\n",
       "        vertical-align: middle;\n",
       "    }\n",
       "\n",
       "    .dataframe tbody tr th {\n",
       "        vertical-align: top;\n",
       "    }\n",
       "\n",
       "    .dataframe thead th {\n",
       "        text-align: right;\n",
       "    }\n",
       "</style>\n",
       "<table border=\"1\" class=\"dataframe\">\n",
       "  <thead>\n",
       "    <tr style=\"text-align: right;\">\n",
       "      <th></th>\n",
       "      <th>Pregnancies</th>\n",
       "      <th>Glucose</th>\n",
       "      <th>BloodPressure</th>\n",
       "      <th>SkinThickness</th>\n",
       "      <th>Insulin</th>\n",
       "      <th>BMI</th>\n",
       "      <th>DiabetesPedigreeFunction</th>\n",
       "      <th>Age</th>\n",
       "      <th>Outcome</th>\n",
       "    </tr>\n",
       "  </thead>\n",
       "  <tbody>\n",
       "    <tr>\n",
       "      <th>7</th>\n",
       "      <td>10</td>\n",
       "      <td>115</td>\n",
       "      <td>0</td>\n",
       "      <td>0</td>\n",
       "      <td>0</td>\n",
       "      <td>35.300</td>\n",
       "      <td>0.134</td>\n",
       "      <td>29</td>\n",
       "      <td>0</td>\n",
       "    </tr>\n",
       "    <tr>\n",
       "      <th>15</th>\n",
       "      <td>7</td>\n",
       "      <td>100</td>\n",
       "      <td>0</td>\n",
       "      <td>0</td>\n",
       "      <td>0</td>\n",
       "      <td>30.000</td>\n",
       "      <td>0.484</td>\n",
       "      <td>32</td>\n",
       "      <td>1</td>\n",
       "    </tr>\n",
       "    <tr>\n",
       "      <th>49</th>\n",
       "      <td>7</td>\n",
       "      <td>105</td>\n",
       "      <td>0</td>\n",
       "      <td>0</td>\n",
       "      <td>0</td>\n",
       "      <td>0.000</td>\n",
       "      <td>0.305</td>\n",
       "      <td>24</td>\n",
       "      <td>0</td>\n",
       "    </tr>\n",
       "    <tr>\n",
       "      <th>60</th>\n",
       "      <td>2</td>\n",
       "      <td>84</td>\n",
       "      <td>0</td>\n",
       "      <td>0</td>\n",
       "      <td>0</td>\n",
       "      <td>0.000</td>\n",
       "      <td>0.304</td>\n",
       "      <td>21</td>\n",
       "      <td>0</td>\n",
       "    </tr>\n",
       "    <tr>\n",
       "      <th>78</th>\n",
       "      <td>0</td>\n",
       "      <td>131</td>\n",
       "      <td>0</td>\n",
       "      <td>0</td>\n",
       "      <td>0</td>\n",
       "      <td>43.200</td>\n",
       "      <td>0.270</td>\n",
       "      <td>26</td>\n",
       "      <td>1</td>\n",
       "    </tr>\n",
       "    <tr>\n",
       "      <th>81</th>\n",
       "      <td>2</td>\n",
       "      <td>74</td>\n",
       "      <td>0</td>\n",
       "      <td>0</td>\n",
       "      <td>0</td>\n",
       "      <td>0.000</td>\n",
       "      <td>0.102</td>\n",
       "      <td>22</td>\n",
       "      <td>0</td>\n",
       "    </tr>\n",
       "    <tr>\n",
       "      <th>172</th>\n",
       "      <td>2</td>\n",
       "      <td>87</td>\n",
       "      <td>0</td>\n",
       "      <td>23</td>\n",
       "      <td>0</td>\n",
       "      <td>28.900</td>\n",
       "      <td>0.773</td>\n",
       "      <td>25</td>\n",
       "      <td>0</td>\n",
       "    </tr>\n",
       "    <tr>\n",
       "      <th>193</th>\n",
       "      <td>11</td>\n",
       "      <td>135</td>\n",
       "      <td>0</td>\n",
       "      <td>0</td>\n",
       "      <td>0</td>\n",
       "      <td>52.300</td>\n",
       "      <td>0.578</td>\n",
       "      <td>40</td>\n",
       "      <td>1</td>\n",
       "    </tr>\n",
       "    <tr>\n",
       "      <th>222</th>\n",
       "      <td>7</td>\n",
       "      <td>119</td>\n",
       "      <td>0</td>\n",
       "      <td>0</td>\n",
       "      <td>0</td>\n",
       "      <td>25.200</td>\n",
       "      <td>0.209</td>\n",
       "      <td>37</td>\n",
       "      <td>0</td>\n",
       "    </tr>\n",
       "    <tr>\n",
       "      <th>261</th>\n",
       "      <td>3</td>\n",
       "      <td>141</td>\n",
       "      <td>0</td>\n",
       "      <td>0</td>\n",
       "      <td>0</td>\n",
       "      <td>30.000</td>\n",
       "      <td>0.761</td>\n",
       "      <td>27</td>\n",
       "      <td>1</td>\n",
       "    </tr>\n",
       "    <tr>\n",
       "      <th>266</th>\n",
       "      <td>0</td>\n",
       "      <td>138</td>\n",
       "      <td>0</td>\n",
       "      <td>0</td>\n",
       "      <td>0</td>\n",
       "      <td>36.300</td>\n",
       "      <td>0.933</td>\n",
       "      <td>25</td>\n",
       "      <td>1</td>\n",
       "    </tr>\n",
       "    <tr>\n",
       "      <th>269</th>\n",
       "      <td>2</td>\n",
       "      <td>146</td>\n",
       "      <td>0</td>\n",
       "      <td>0</td>\n",
       "      <td>0</td>\n",
       "      <td>27.500</td>\n",
       "      <td>0.240</td>\n",
       "      <td>28</td>\n",
       "      <td>1</td>\n",
       "    </tr>\n",
       "    <tr>\n",
       "      <th>300</th>\n",
       "      <td>0</td>\n",
       "      <td>167</td>\n",
       "      <td>0</td>\n",
       "      <td>0</td>\n",
       "      <td>0</td>\n",
       "      <td>32.300</td>\n",
       "      <td>0.839</td>\n",
       "      <td>30</td>\n",
       "      <td>1</td>\n",
       "    </tr>\n",
       "    <tr>\n",
       "      <th>332</th>\n",
       "      <td>1</td>\n",
       "      <td>180</td>\n",
       "      <td>0</td>\n",
       "      <td>0</td>\n",
       "      <td>0</td>\n",
       "      <td>43.300</td>\n",
       "      <td>0.282</td>\n",
       "      <td>41</td>\n",
       "      <td>1</td>\n",
       "    </tr>\n",
       "    <tr>\n",
       "      <th>336</th>\n",
       "      <td>0</td>\n",
       "      <td>117</td>\n",
       "      <td>0</td>\n",
       "      <td>0</td>\n",
       "      <td>0</td>\n",
       "      <td>33.800</td>\n",
       "      <td>0.932</td>\n",
       "      <td>44</td>\n",
       "      <td>0</td>\n",
       "    </tr>\n",
       "    <tr>\n",
       "      <th>347</th>\n",
       "      <td>3</td>\n",
       "      <td>116</td>\n",
       "      <td>0</td>\n",
       "      <td>0</td>\n",
       "      <td>0</td>\n",
       "      <td>23.500</td>\n",
       "      <td>0.187</td>\n",
       "      <td>23</td>\n",
       "      <td>0</td>\n",
       "    </tr>\n",
       "    <tr>\n",
       "      <th>357</th>\n",
       "      <td>13</td>\n",
       "      <td>129</td>\n",
       "      <td>0</td>\n",
       "      <td>30</td>\n",
       "      <td>0</td>\n",
       "      <td>39.900</td>\n",
       "      <td>0.569</td>\n",
       "      <td>44</td>\n",
       "      <td>1</td>\n",
       "    </tr>\n",
       "    <tr>\n",
       "      <th>426</th>\n",
       "      <td>0</td>\n",
       "      <td>94</td>\n",
       "      <td>0</td>\n",
       "      <td>0</td>\n",
       "      <td>0</td>\n",
       "      <td>0.000</td>\n",
       "      <td>0.256</td>\n",
       "      <td>25</td>\n",
       "      <td>0</td>\n",
       "    </tr>\n",
       "    <tr>\n",
       "      <th>430</th>\n",
       "      <td>2</td>\n",
       "      <td>99</td>\n",
       "      <td>0</td>\n",
       "      <td>0</td>\n",
       "      <td>0</td>\n",
       "      <td>22.200</td>\n",
       "      <td>0.108</td>\n",
       "      <td>23</td>\n",
       "      <td>0</td>\n",
       "    </tr>\n",
       "    <tr>\n",
       "      <th>435</th>\n",
       "      <td>0</td>\n",
       "      <td>141</td>\n",
       "      <td>0</td>\n",
       "      <td>0</td>\n",
       "      <td>0</td>\n",
       "      <td>42.400</td>\n",
       "      <td>0.205</td>\n",
       "      <td>29</td>\n",
       "      <td>1</td>\n",
       "    </tr>\n",
       "    <tr>\n",
       "      <th>453</th>\n",
       "      <td>2</td>\n",
       "      <td>119</td>\n",
       "      <td>0</td>\n",
       "      <td>0</td>\n",
       "      <td>0</td>\n",
       "      <td>19.600</td>\n",
       "      <td>0.832</td>\n",
       "      <td>72</td>\n",
       "      <td>0</td>\n",
       "    </tr>\n",
       "    <tr>\n",
       "      <th>468</th>\n",
       "      <td>8</td>\n",
       "      <td>120</td>\n",
       "      <td>0</td>\n",
       "      <td>0</td>\n",
       "      <td>0</td>\n",
       "      <td>30.000</td>\n",
       "      <td>0.183</td>\n",
       "      <td>38</td>\n",
       "      <td>1</td>\n",
       "    </tr>\n",
       "    <tr>\n",
       "      <th>484</th>\n",
       "      <td>0</td>\n",
       "      <td>145</td>\n",
       "      <td>0</td>\n",
       "      <td>0</td>\n",
       "      <td>0</td>\n",
       "      <td>44.200</td>\n",
       "      <td>0.630</td>\n",
       "      <td>31</td>\n",
       "      <td>1</td>\n",
       "    </tr>\n",
       "    <tr>\n",
       "      <th>494</th>\n",
       "      <td>3</td>\n",
       "      <td>80</td>\n",
       "      <td>0</td>\n",
       "      <td>0</td>\n",
       "      <td>0</td>\n",
       "      <td>0.000</td>\n",
       "      <td>0.174</td>\n",
       "      <td>22</td>\n",
       "      <td>0</td>\n",
       "    </tr>\n",
       "    <tr>\n",
       "      <th>522</th>\n",
       "      <td>6</td>\n",
       "      <td>114</td>\n",
       "      <td>0</td>\n",
       "      <td>0</td>\n",
       "      <td>0</td>\n",
       "      <td>0.000</td>\n",
       "      <td>0.189</td>\n",
       "      <td>26</td>\n",
       "      <td>0</td>\n",
       "    </tr>\n",
       "    <tr>\n",
       "      <th>533</th>\n",
       "      <td>6</td>\n",
       "      <td>91</td>\n",
       "      <td>0</td>\n",
       "      <td>0</td>\n",
       "      <td>0</td>\n",
       "      <td>29.800</td>\n",
       "      <td>0.501</td>\n",
       "      <td>31</td>\n",
       "      <td>0</td>\n",
       "    </tr>\n",
       "    <tr>\n",
       "      <th>535</th>\n",
       "      <td>4</td>\n",
       "      <td>132</td>\n",
       "      <td>0</td>\n",
       "      <td>0</td>\n",
       "      <td>0</td>\n",
       "      <td>32.900</td>\n",
       "      <td>0.302</td>\n",
       "      <td>23</td>\n",
       "      <td>1</td>\n",
       "    </tr>\n",
       "    <tr>\n",
       "      <th>589</th>\n",
       "      <td>0</td>\n",
       "      <td>73</td>\n",
       "      <td>0</td>\n",
       "      <td>0</td>\n",
       "      <td>0</td>\n",
       "      <td>21.100</td>\n",
       "      <td>0.342</td>\n",
       "      <td>25</td>\n",
       "      <td>0</td>\n",
       "    </tr>\n",
       "    <tr>\n",
       "      <th>601</th>\n",
       "      <td>6</td>\n",
       "      <td>96</td>\n",
       "      <td>0</td>\n",
       "      <td>0</td>\n",
       "      <td>0</td>\n",
       "      <td>23.700</td>\n",
       "      <td>0.190</td>\n",
       "      <td>28</td>\n",
       "      <td>0</td>\n",
       "    </tr>\n",
       "    <tr>\n",
       "      <th>604</th>\n",
       "      <td>4</td>\n",
       "      <td>183</td>\n",
       "      <td>0</td>\n",
       "      <td>0</td>\n",
       "      <td>0</td>\n",
       "      <td>28.400</td>\n",
       "      <td>0.212</td>\n",
       "      <td>36</td>\n",
       "      <td>1</td>\n",
       "    </tr>\n",
       "    <tr>\n",
       "      <th>619</th>\n",
       "      <td>0</td>\n",
       "      <td>119</td>\n",
       "      <td>0</td>\n",
       "      <td>0</td>\n",
       "      <td>0</td>\n",
       "      <td>32.400</td>\n",
       "      <td>0.141</td>\n",
       "      <td>24</td>\n",
       "      <td>1</td>\n",
       "    </tr>\n",
       "    <tr>\n",
       "      <th>643</th>\n",
       "      <td>4</td>\n",
       "      <td>90</td>\n",
       "      <td>0</td>\n",
       "      <td>0</td>\n",
       "      <td>0</td>\n",
       "      <td>28.000</td>\n",
       "      <td>0.610</td>\n",
       "      <td>31</td>\n",
       "      <td>0</td>\n",
       "    </tr>\n",
       "    <tr>\n",
       "      <th>697</th>\n",
       "      <td>0</td>\n",
       "      <td>99</td>\n",
       "      <td>0</td>\n",
       "      <td>0</td>\n",
       "      <td>0</td>\n",
       "      <td>25.000</td>\n",
       "      <td>0.253</td>\n",
       "      <td>22</td>\n",
       "      <td>0</td>\n",
       "    </tr>\n",
       "    <tr>\n",
       "      <th>703</th>\n",
       "      <td>2</td>\n",
       "      <td>129</td>\n",
       "      <td>0</td>\n",
       "      <td>0</td>\n",
       "      <td>0</td>\n",
       "      <td>38.500</td>\n",
       "      <td>0.304</td>\n",
       "      <td>41</td>\n",
       "      <td>0</td>\n",
       "    </tr>\n",
       "    <tr>\n",
       "      <th>706</th>\n",
       "      <td>10</td>\n",
       "      <td>115</td>\n",
       "      <td>0</td>\n",
       "      <td>0</td>\n",
       "      <td>0</td>\n",
       "      <td>0.000</td>\n",
       "      <td>0.261</td>\n",
       "      <td>30</td>\n",
       "      <td>1</td>\n",
       "    </tr>\n",
       "  </tbody>\n",
       "</table>\n",
       "</div>"
      ],
      "text/plain": [
       "     Pregnancies  Glucose  BloodPressure  SkinThickness  Insulin    BMI  \\\n",
       "7             10      115              0              0        0 35.300   \n",
       "15             7      100              0              0        0 30.000   \n",
       "49             7      105              0              0        0  0.000   \n",
       "60             2       84              0              0        0  0.000   \n",
       "78             0      131              0              0        0 43.200   \n",
       "81             2       74              0              0        0  0.000   \n",
       "172            2       87              0             23        0 28.900   \n",
       "193           11      135              0              0        0 52.300   \n",
       "222            7      119              0              0        0 25.200   \n",
       "261            3      141              0              0        0 30.000   \n",
       "266            0      138              0              0        0 36.300   \n",
       "269            2      146              0              0        0 27.500   \n",
       "300            0      167              0              0        0 32.300   \n",
       "332            1      180              0              0        0 43.300   \n",
       "336            0      117              0              0        0 33.800   \n",
       "347            3      116              0              0        0 23.500   \n",
       "357           13      129              0             30        0 39.900   \n",
       "426            0       94              0              0        0  0.000   \n",
       "430            2       99              0              0        0 22.200   \n",
       "435            0      141              0              0        0 42.400   \n",
       "453            2      119              0              0        0 19.600   \n",
       "468            8      120              0              0        0 30.000   \n",
       "484            0      145              0              0        0 44.200   \n",
       "494            3       80              0              0        0  0.000   \n",
       "522            6      114              0              0        0  0.000   \n",
       "533            6       91              0              0        0 29.800   \n",
       "535            4      132              0              0        0 32.900   \n",
       "589            0       73              0              0        0 21.100   \n",
       "601            6       96              0              0        0 23.700   \n",
       "604            4      183              0              0        0 28.400   \n",
       "619            0      119              0              0        0 32.400   \n",
       "643            4       90              0              0        0 28.000   \n",
       "697            0       99              0              0        0 25.000   \n",
       "703            2      129              0              0        0 38.500   \n",
       "706           10      115              0              0        0  0.000   \n",
       "\n",
       "     DiabetesPedigreeFunction  Age  Outcome  \n",
       "7                       0.134   29        0  \n",
       "15                      0.484   32        1  \n",
       "49                      0.305   24        0  \n",
       "60                      0.304   21        0  \n",
       "78                      0.270   26        1  \n",
       "81                      0.102   22        0  \n",
       "172                     0.773   25        0  \n",
       "193                     0.578   40        1  \n",
       "222                     0.209   37        0  \n",
       "261                     0.761   27        1  \n",
       "266                     0.933   25        1  \n",
       "269                     0.240   28        1  \n",
       "300                     0.839   30        1  \n",
       "332                     0.282   41        1  \n",
       "336                     0.932   44        0  \n",
       "347                     0.187   23        0  \n",
       "357                     0.569   44        1  \n",
       "426                     0.256   25        0  \n",
       "430                     0.108   23        0  \n",
       "435                     0.205   29        1  \n",
       "453                     0.832   72        0  \n",
       "468                     0.183   38        1  \n",
       "484                     0.630   31        1  \n",
       "494                     0.174   22        0  \n",
       "522                     0.189   26        0  \n",
       "533                     0.501   31        0  \n",
       "535                     0.302   23        1  \n",
       "589                     0.342   25        0  \n",
       "601                     0.190   28        0  \n",
       "604                     0.212   36        1  \n",
       "619                     0.141   24        1  \n",
       "643                     0.610   31        0  \n",
       "697                     0.253   22        0  \n",
       "703                     0.304   41        0  \n",
       "706                     0.261   30        1  "
      ]
     },
     "execution_count": 28,
     "metadata": {},
     "output_type": "execute_result"
    }
   ],
   "source": [
    "df[df[\"BloodPressure\"] == 0]"
   ]
  },
  {
   "cell_type": "code",
   "execution_count": 81,
   "id": "3b4a4480",
   "metadata": {},
   "outputs": [
    {
     "data": {
      "text/plain": [
       "Pregnancies                 22\n",
       "Glucose                     22\n",
       "BloodPressure               22\n",
       "SkinThickness               22\n",
       "Insulin                     22\n",
       "BMI                         22\n",
       "DiabetesPedigreeFunction    22\n",
       "Age                         22\n",
       "Outcome                     22\n",
       "dtype: int64"
      ]
     },
     "execution_count": 81,
     "metadata": {},
     "output_type": "execute_result"
    }
   ],
   "source": [
    "df[df[\"SkinThickness\"] == 0].count()"
   ]
  },
  {
   "cell_type": "markdown",
   "id": "65dc9a56",
   "metadata": {},
   "source": [
    "# Target vs Features"
   ]
  },
  {
   "cell_type": "code",
   "execution_count": 29,
   "id": "61a8f0fc",
   "metadata": {},
   "outputs": [
    {
     "data": {
      "text/html": [
       "<div>\n",
       "<style scoped>\n",
       "    .dataframe tbody tr th:only-of-type {\n",
       "        vertical-align: middle;\n",
       "    }\n",
       "\n",
       "    .dataframe tbody tr th {\n",
       "        vertical-align: top;\n",
       "    }\n",
       "\n",
       "    .dataframe thead th {\n",
       "        text-align: right;\n",
       "    }\n",
       "</style>\n",
       "<table border=\"1\" class=\"dataframe\">\n",
       "  <thead>\n",
       "    <tr style=\"text-align: right;\">\n",
       "      <th></th>\n",
       "      <th>Pregnancies</th>\n",
       "    </tr>\n",
       "    <tr>\n",
       "      <th>Outcome</th>\n",
       "      <th></th>\n",
       "    </tr>\n",
       "  </thead>\n",
       "  <tbody>\n",
       "    <tr>\n",
       "      <th>0</th>\n",
       "      <td>3.298</td>\n",
       "    </tr>\n",
       "    <tr>\n",
       "      <th>1</th>\n",
       "      <td>4.866</td>\n",
       "    </tr>\n",
       "  </tbody>\n",
       "</table>\n",
       "</div>"
      ],
      "text/plain": [
       "         Pregnancies\n",
       "Outcome             \n",
       "0              3.298\n",
       "1              4.866"
      ]
     },
     "execution_count": 29,
     "metadata": {},
     "output_type": "execute_result"
    }
   ],
   "source": [
    "df.groupby(\"Outcome\").agg({\"Pregnancies\": \"mean\"})"
   ]
  },
  {
   "cell_type": "code",
   "execution_count": 30,
   "id": "3cb8da3d",
   "metadata": {},
   "outputs": [],
   "source": [
    "def target_summary_with_num(dataframe, target, numerical_col):\n",
    "    print(dataframe.groupby(target).agg({numerical_col: \"mean\"}), end=\"\\n\\n\\n\")"
   ]
  },
  {
   "cell_type": "code",
   "execution_count": 31,
   "id": "8584c182",
   "metadata": {},
   "outputs": [
    {
     "name": "stdout",
     "output_type": "stream",
     "text": [
      "         Pregnancies\n",
      "Outcome             \n",
      "0              3.298\n",
      "1              4.866\n",
      "\n",
      "\n",
      "         Glucose\n",
      "Outcome         \n",
      "0        109.980\n",
      "1        141.257\n",
      "\n",
      "\n",
      "         BloodPressure\n",
      "Outcome               \n",
      "0               68.184\n",
      "1               70.825\n",
      "\n",
      "\n",
      "         SkinThickness\n",
      "Outcome               \n",
      "0               19.664\n",
      "1               22.164\n",
      "\n",
      "\n",
      "         Insulin\n",
      "Outcome         \n",
      "0         68.792\n",
      "1        100.336\n",
      "\n",
      "\n",
      "           BMI\n",
      "Outcome       \n",
      "0       30.304\n",
      "1       35.143\n",
      "\n",
      "\n",
      "         DiabetesPedigreeFunction\n",
      "Outcome                          \n",
      "0                           0.430\n",
      "1                           0.550\n",
      "\n",
      "\n",
      "           Age\n",
      "Outcome       \n",
      "0       31.190\n",
      "1       37.067\n",
      "\n",
      "\n"
     ]
    }
   ],
   "source": [
    "for col in cols:\n",
    "    target_summary_with_num(df, \"Outcome\", col)"
   ]
  },
  {
   "cell_type": "markdown",
   "id": "52bab1d3",
   "metadata": {},
   "source": [
    "# Data Preprocessing (Veri Ön İşleme)"
   ]
  },
  {
   "cell_type": "code",
   "execution_count": 32,
   "id": "b6d75980",
   "metadata": {},
   "outputs": [
    {
     "data": {
      "text/html": [
       "<div>\n",
       "<style scoped>\n",
       "    .dataframe tbody tr th:only-of-type {\n",
       "        vertical-align: middle;\n",
       "    }\n",
       "\n",
       "    .dataframe tbody tr th {\n",
       "        vertical-align: top;\n",
       "    }\n",
       "\n",
       "    .dataframe thead th {\n",
       "        text-align: right;\n",
       "    }\n",
       "</style>\n",
       "<table border=\"1\" class=\"dataframe\">\n",
       "  <thead>\n",
       "    <tr style=\"text-align: right;\">\n",
       "      <th></th>\n",
       "      <th>Pregnancies</th>\n",
       "      <th>Glucose</th>\n",
       "      <th>BloodPressure</th>\n",
       "      <th>SkinThickness</th>\n",
       "      <th>Insulin</th>\n",
       "      <th>BMI</th>\n",
       "      <th>DiabetesPedigreeFunction</th>\n",
       "      <th>Age</th>\n",
       "      <th>Outcome</th>\n",
       "    </tr>\n",
       "  </thead>\n",
       "  <tbody>\n",
       "    <tr>\n",
       "      <th>0</th>\n",
       "      <td>6</td>\n",
       "      <td>148</td>\n",
       "      <td>72</td>\n",
       "      <td>35</td>\n",
       "      <td>0</td>\n",
       "      <td>33.600</td>\n",
       "      <td>0.627</td>\n",
       "      <td>50</td>\n",
       "      <td>1</td>\n",
       "    </tr>\n",
       "    <tr>\n",
       "      <th>1</th>\n",
       "      <td>1</td>\n",
       "      <td>85</td>\n",
       "      <td>66</td>\n",
       "      <td>29</td>\n",
       "      <td>0</td>\n",
       "      <td>26.600</td>\n",
       "      <td>0.351</td>\n",
       "      <td>31</td>\n",
       "      <td>0</td>\n",
       "    </tr>\n",
       "    <tr>\n",
       "      <th>2</th>\n",
       "      <td>8</td>\n",
       "      <td>183</td>\n",
       "      <td>64</td>\n",
       "      <td>0</td>\n",
       "      <td>0</td>\n",
       "      <td>23.300</td>\n",
       "      <td>0.672</td>\n",
       "      <td>32</td>\n",
       "      <td>1</td>\n",
       "    </tr>\n",
       "    <tr>\n",
       "      <th>3</th>\n",
       "      <td>1</td>\n",
       "      <td>89</td>\n",
       "      <td>66</td>\n",
       "      <td>23</td>\n",
       "      <td>94</td>\n",
       "      <td>28.100</td>\n",
       "      <td>0.167</td>\n",
       "      <td>21</td>\n",
       "      <td>0</td>\n",
       "    </tr>\n",
       "    <tr>\n",
       "      <th>4</th>\n",
       "      <td>0</td>\n",
       "      <td>137</td>\n",
       "      <td>40</td>\n",
       "      <td>35</td>\n",
       "      <td>168</td>\n",
       "      <td>43.100</td>\n",
       "      <td>2.288</td>\n",
       "      <td>33</td>\n",
       "      <td>1</td>\n",
       "    </tr>\n",
       "  </tbody>\n",
       "</table>\n",
       "</div>"
      ],
      "text/plain": [
       "   Pregnancies  Glucose  BloodPressure  SkinThickness  Insulin    BMI  \\\n",
       "0            6      148             72             35        0 33.600   \n",
       "1            1       85             66             29        0 26.600   \n",
       "2            8      183             64              0        0 23.300   \n",
       "3            1       89             66             23       94 28.100   \n",
       "4            0      137             40             35      168 43.100   \n",
       "\n",
       "   DiabetesPedigreeFunction  Age  Outcome  \n",
       "0                     0.627   50        1  \n",
       "1                     0.351   31        0  \n",
       "2                     0.672   32        1  \n",
       "3                     0.167   21        0  \n",
       "4                     2.288   33        1  "
      ]
     },
     "execution_count": 32,
     "metadata": {},
     "output_type": "execute_result"
    }
   ],
   "source": [
    "df.head()"
   ]
  },
  {
   "cell_type": "code",
   "execution_count": 33,
   "id": "400ae0a7",
   "metadata": {},
   "outputs": [
    {
     "data": {
      "text/plain": [
       "Pregnancies                 0\n",
       "Glucose                     0\n",
       "BloodPressure               0\n",
       "SkinThickness               0\n",
       "Insulin                     0\n",
       "BMI                         0\n",
       "DiabetesPedigreeFunction    0\n",
       "Age                         0\n",
       "Outcome                     0\n",
       "dtype: int64"
      ]
     },
     "execution_count": 33,
     "metadata": {},
     "output_type": "execute_result"
    }
   ],
   "source": [
    "df.isnull().sum()"
   ]
  },
  {
   "cell_type": "code",
   "execution_count": 34,
   "id": "b0c6c9a1",
   "metadata": {},
   "outputs": [
    {
     "data": {
      "text/html": [
       "<div>\n",
       "<style scoped>\n",
       "    .dataframe tbody tr th:only-of-type {\n",
       "        vertical-align: middle;\n",
       "    }\n",
       "\n",
       "    .dataframe tbody tr th {\n",
       "        vertical-align: top;\n",
       "    }\n",
       "\n",
       "    .dataframe thead th {\n",
       "        text-align: right;\n",
       "    }\n",
       "</style>\n",
       "<table border=\"1\" class=\"dataframe\">\n",
       "  <thead>\n",
       "    <tr style=\"text-align: right;\">\n",
       "      <th></th>\n",
       "      <th>count</th>\n",
       "      <th>mean</th>\n",
       "      <th>std</th>\n",
       "      <th>min</th>\n",
       "      <th>25%</th>\n",
       "      <th>50%</th>\n",
       "      <th>75%</th>\n",
       "      <th>max</th>\n",
       "    </tr>\n",
       "  </thead>\n",
       "  <tbody>\n",
       "    <tr>\n",
       "      <th>Pregnancies</th>\n",
       "      <td>768.000</td>\n",
       "      <td>3.845</td>\n",
       "      <td>3.370</td>\n",
       "      <td>0.000</td>\n",
       "      <td>1.000</td>\n",
       "      <td>3.000</td>\n",
       "      <td>6.000</td>\n",
       "      <td>17.000</td>\n",
       "    </tr>\n",
       "    <tr>\n",
       "      <th>Glucose</th>\n",
       "      <td>768.000</td>\n",
       "      <td>120.895</td>\n",
       "      <td>31.973</td>\n",
       "      <td>0.000</td>\n",
       "      <td>99.000</td>\n",
       "      <td>117.000</td>\n",
       "      <td>140.250</td>\n",
       "      <td>199.000</td>\n",
       "    </tr>\n",
       "    <tr>\n",
       "      <th>BloodPressure</th>\n",
       "      <td>768.000</td>\n",
       "      <td>69.105</td>\n",
       "      <td>19.356</td>\n",
       "      <td>0.000</td>\n",
       "      <td>62.000</td>\n",
       "      <td>72.000</td>\n",
       "      <td>80.000</td>\n",
       "      <td>122.000</td>\n",
       "    </tr>\n",
       "    <tr>\n",
       "      <th>SkinThickness</th>\n",
       "      <td>768.000</td>\n",
       "      <td>20.536</td>\n",
       "      <td>15.952</td>\n",
       "      <td>0.000</td>\n",
       "      <td>0.000</td>\n",
       "      <td>23.000</td>\n",
       "      <td>32.000</td>\n",
       "      <td>99.000</td>\n",
       "    </tr>\n",
       "    <tr>\n",
       "      <th>Insulin</th>\n",
       "      <td>768.000</td>\n",
       "      <td>79.799</td>\n",
       "      <td>115.244</td>\n",
       "      <td>0.000</td>\n",
       "      <td>0.000</td>\n",
       "      <td>30.500</td>\n",
       "      <td>127.250</td>\n",
       "      <td>846.000</td>\n",
       "    </tr>\n",
       "    <tr>\n",
       "      <th>BMI</th>\n",
       "      <td>768.000</td>\n",
       "      <td>31.993</td>\n",
       "      <td>7.884</td>\n",
       "      <td>0.000</td>\n",
       "      <td>27.300</td>\n",
       "      <td>32.000</td>\n",
       "      <td>36.600</td>\n",
       "      <td>67.100</td>\n",
       "    </tr>\n",
       "    <tr>\n",
       "      <th>DiabetesPedigreeFunction</th>\n",
       "      <td>768.000</td>\n",
       "      <td>0.472</td>\n",
       "      <td>0.331</td>\n",
       "      <td>0.078</td>\n",
       "      <td>0.244</td>\n",
       "      <td>0.372</td>\n",
       "      <td>0.626</td>\n",
       "      <td>2.420</td>\n",
       "    </tr>\n",
       "    <tr>\n",
       "      <th>Age</th>\n",
       "      <td>768.000</td>\n",
       "      <td>33.241</td>\n",
       "      <td>11.760</td>\n",
       "      <td>21.000</td>\n",
       "      <td>24.000</td>\n",
       "      <td>29.000</td>\n",
       "      <td>41.000</td>\n",
       "      <td>81.000</td>\n",
       "    </tr>\n",
       "    <tr>\n",
       "      <th>Outcome</th>\n",
       "      <td>768.000</td>\n",
       "      <td>0.349</td>\n",
       "      <td>0.477</td>\n",
       "      <td>0.000</td>\n",
       "      <td>0.000</td>\n",
       "      <td>0.000</td>\n",
       "      <td>1.000</td>\n",
       "      <td>1.000</td>\n",
       "    </tr>\n",
       "  </tbody>\n",
       "</table>\n",
       "</div>"
      ],
      "text/plain": [
       "                           count    mean     std    min    25%     50%  \\\n",
       "Pregnancies              768.000   3.845   3.370  0.000  1.000   3.000   \n",
       "Glucose                  768.000 120.895  31.973  0.000 99.000 117.000   \n",
       "BloodPressure            768.000  69.105  19.356  0.000 62.000  72.000   \n",
       "SkinThickness            768.000  20.536  15.952  0.000  0.000  23.000   \n",
       "Insulin                  768.000  79.799 115.244  0.000  0.000  30.500   \n",
       "BMI                      768.000  31.993   7.884  0.000 27.300  32.000   \n",
       "DiabetesPedigreeFunction 768.000   0.472   0.331  0.078  0.244   0.372   \n",
       "Age                      768.000  33.241  11.760 21.000 24.000  29.000   \n",
       "Outcome                  768.000   0.349   0.477  0.000  0.000   0.000   \n",
       "\n",
       "                             75%     max  \n",
       "Pregnancies                6.000  17.000  \n",
       "Glucose                  140.250 199.000  \n",
       "BloodPressure             80.000 122.000  \n",
       "SkinThickness             32.000  99.000  \n",
       "Insulin                  127.250 846.000  \n",
       "BMI                       36.600  67.100  \n",
       "DiabetesPedigreeFunction   0.626   2.420  \n",
       "Age                       41.000  81.000  \n",
       "Outcome                    1.000   1.000  "
      ]
     },
     "execution_count": 34,
     "metadata": {},
     "output_type": "execute_result"
    }
   ],
   "source": [
    "df.describe().T"
   ]
  },
  {
   "cell_type": "markdown",
   "id": "7524dd61",
   "metadata": {},
   "source": [
    "## missing_valulelar sanki 0 ile doldurulmuş. aslında yoğunlaşarak bunları NaN yapıp doldurmak daha uygun."
   ]
  },
  {
   "cell_type": "code",
   "execution_count": 35,
   "id": "1ebf4936",
   "metadata": {},
   "outputs": [
    {
     "name": "stdout",
     "output_type": "stream",
     "text": [
      "Pregnancies False\n",
      "Glucose False\n",
      "BloodPressure False\n",
      "SkinThickness False\n",
      "Insulin True\n",
      "BMI False\n",
      "DiabetesPedigreeFunction False\n",
      "Age False\n"
     ]
    }
   ],
   "source": [
    "for col in cols:\n",
    "    print(col, check_outlier(df, col))"
   ]
  },
  {
   "cell_type": "markdown",
   "id": "9f7d2a50",
   "metadata": {},
   "source": [
    "### biz q1 ve q3'ü değiştirdik nedeni : sadece ucundan en fazla olanlara dokunalım gibi.çok değişkenli bir etki olabilir diye."
   ]
  },
  {
   "cell_type": "code",
   "execution_count": 36,
   "id": "e483dae7",
   "metadata": {},
   "outputs": [],
   "source": [
    "replace_with_thresholds(df, \"Insulin\")         # fazla True olsaydı döngüye alırdık."
   ]
  },
  {
   "cell_type": "code",
   "execution_count": 37,
   "id": "bd66b952",
   "metadata": {},
   "outputs": [
    {
     "name": "stdout",
     "output_type": "stream",
     "text": [
      "Pregnancies False\n",
      "Glucose False\n",
      "BloodPressure False\n",
      "SkinThickness False\n",
      "Insulin False\n",
      "BMI False\n",
      "DiabetesPedigreeFunction False\n",
      "Age False\n"
     ]
    }
   ],
   "source": [
    "for col in cols:\n",
    "    print(col, check_outlier(df, col))"
   ]
  },
  {
   "cell_type": "code",
   "execution_count": 38,
   "id": "f532ab38",
   "metadata": {},
   "outputs": [
    {
     "data": {
      "text/html": [
       "<div>\n",
       "<style scoped>\n",
       "    .dataframe tbody tr th:only-of-type {\n",
       "        vertical-align: middle;\n",
       "    }\n",
       "\n",
       "    .dataframe tbody tr th {\n",
       "        vertical-align: top;\n",
       "    }\n",
       "\n",
       "    .dataframe thead th {\n",
       "        text-align: right;\n",
       "    }\n",
       "</style>\n",
       "<table border=\"1\" class=\"dataframe\">\n",
       "  <thead>\n",
       "    <tr style=\"text-align: right;\">\n",
       "      <th></th>\n",
       "      <th>Pregnancies</th>\n",
       "      <th>Glucose</th>\n",
       "      <th>BloodPressure</th>\n",
       "      <th>SkinThickness</th>\n",
       "      <th>Insulin</th>\n",
       "      <th>BMI</th>\n",
       "      <th>DiabetesPedigreeFunction</th>\n",
       "      <th>Age</th>\n",
       "      <th>Outcome</th>\n",
       "    </tr>\n",
       "  </thead>\n",
       "  <tbody>\n",
       "    <tr>\n",
       "      <th>0</th>\n",
       "      <td>6</td>\n",
       "      <td>148</td>\n",
       "      <td>72</td>\n",
       "      <td>35</td>\n",
       "      <td>0.000</td>\n",
       "      <td>33.600</td>\n",
       "      <td>0.627</td>\n",
       "      <td>50</td>\n",
       "      <td>1</td>\n",
       "    </tr>\n",
       "    <tr>\n",
       "      <th>1</th>\n",
       "      <td>1</td>\n",
       "      <td>85</td>\n",
       "      <td>66</td>\n",
       "      <td>29</td>\n",
       "      <td>0.000</td>\n",
       "      <td>26.600</td>\n",
       "      <td>0.351</td>\n",
       "      <td>31</td>\n",
       "      <td>0</td>\n",
       "    </tr>\n",
       "    <tr>\n",
       "      <th>2</th>\n",
       "      <td>8</td>\n",
       "      <td>183</td>\n",
       "      <td>64</td>\n",
       "      <td>0</td>\n",
       "      <td>0.000</td>\n",
       "      <td>23.300</td>\n",
       "      <td>0.672</td>\n",
       "      <td>32</td>\n",
       "      <td>1</td>\n",
       "    </tr>\n",
       "    <tr>\n",
       "      <th>3</th>\n",
       "      <td>1</td>\n",
       "      <td>89</td>\n",
       "      <td>66</td>\n",
       "      <td>23</td>\n",
       "      <td>94.000</td>\n",
       "      <td>28.100</td>\n",
       "      <td>0.167</td>\n",
       "      <td>21</td>\n",
       "      <td>0</td>\n",
       "    </tr>\n",
       "    <tr>\n",
       "      <th>4</th>\n",
       "      <td>0</td>\n",
       "      <td>137</td>\n",
       "      <td>40</td>\n",
       "      <td>35</td>\n",
       "      <td>168.000</td>\n",
       "      <td>43.100</td>\n",
       "      <td>2.288</td>\n",
       "      <td>33</td>\n",
       "      <td>1</td>\n",
       "    </tr>\n",
       "  </tbody>\n",
       "</table>\n",
       "</div>"
      ],
      "text/plain": [
       "   Pregnancies  Glucose  BloodPressure  SkinThickness  Insulin    BMI  \\\n",
       "0            6      148             72             35    0.000 33.600   \n",
       "1            1       85             66             29    0.000 26.600   \n",
       "2            8      183             64              0    0.000 23.300   \n",
       "3            1       89             66             23   94.000 28.100   \n",
       "4            0      137             40             35  168.000 43.100   \n",
       "\n",
       "   DiabetesPedigreeFunction  Age  Outcome  \n",
       "0                     0.627   50        1  \n",
       "1                     0.351   31        0  \n",
       "2                     0.672   32        1  \n",
       "3                     0.167   21        0  \n",
       "4                     2.288   33        1  "
      ]
     },
     "execution_count": 38,
     "metadata": {},
     "output_type": "execute_result"
    }
   ],
   "source": [
    "df.head()"
   ]
  },
  {
   "cell_type": "markdown",
   "id": "a6ea54b7",
   "metadata": {},
   "source": [
    "## bu yapılanda data leakage olabilir bir de data leakage'ı engelleyerek çözmekte yarar var."
   ]
  },
  {
   "cell_type": "code",
   "execution_count": 39,
   "id": "5e13c494",
   "metadata": {},
   "outputs": [],
   "source": [
    "for col in cols: #bağımsızlar.\n",
    "    df[col] = RobustScaler().fit_transform(df[[col]])    # robust-------> outlierlara karşı dayanıklı."
   ]
  },
  {
   "cell_type": "code",
   "execution_count": 40,
   "id": "b89d8c12",
   "metadata": {},
   "outputs": [
    {
     "data": {
      "text/html": [
       "<div>\n",
       "<style scoped>\n",
       "    .dataframe tbody tr th:only-of-type {\n",
       "        vertical-align: middle;\n",
       "    }\n",
       "\n",
       "    .dataframe tbody tr th {\n",
       "        vertical-align: top;\n",
       "    }\n",
       "\n",
       "    .dataframe thead th {\n",
       "        text-align: right;\n",
       "    }\n",
       "</style>\n",
       "<table border=\"1\" class=\"dataframe\">\n",
       "  <thead>\n",
       "    <tr style=\"text-align: right;\">\n",
       "      <th></th>\n",
       "      <th>Pregnancies</th>\n",
       "      <th>Glucose</th>\n",
       "      <th>BloodPressure</th>\n",
       "      <th>SkinThickness</th>\n",
       "      <th>Insulin</th>\n",
       "      <th>BMI</th>\n",
       "      <th>DiabetesPedigreeFunction</th>\n",
       "      <th>Age</th>\n",
       "      <th>Outcome</th>\n",
       "    </tr>\n",
       "  </thead>\n",
       "  <tbody>\n",
       "    <tr>\n",
       "      <th>0</th>\n",
       "      <td>0.600</td>\n",
       "      <td>0.752</td>\n",
       "      <td>0.000</td>\n",
       "      <td>0.375</td>\n",
       "      <td>-0.240</td>\n",
       "      <td>0.172</td>\n",
       "      <td>0.665</td>\n",
       "      <td>1.235</td>\n",
       "      <td>1</td>\n",
       "    </tr>\n",
       "    <tr>\n",
       "      <th>1</th>\n",
       "      <td>-0.400</td>\n",
       "      <td>-0.776</td>\n",
       "      <td>-0.333</td>\n",
       "      <td>0.188</td>\n",
       "      <td>-0.240</td>\n",
       "      <td>-0.581</td>\n",
       "      <td>-0.056</td>\n",
       "      <td>0.118</td>\n",
       "      <td>0</td>\n",
       "    </tr>\n",
       "    <tr>\n",
       "      <th>2</th>\n",
       "      <td>1.000</td>\n",
       "      <td>1.600</td>\n",
       "      <td>-0.444</td>\n",
       "      <td>-0.719</td>\n",
       "      <td>-0.240</td>\n",
       "      <td>-0.935</td>\n",
       "      <td>0.783</td>\n",
       "      <td>0.176</td>\n",
       "      <td>1</td>\n",
       "    </tr>\n",
       "    <tr>\n",
       "      <th>3</th>\n",
       "      <td>-0.400</td>\n",
       "      <td>-0.679</td>\n",
       "      <td>-0.333</td>\n",
       "      <td>0.000</td>\n",
       "      <td>0.499</td>\n",
       "      <td>-0.419</td>\n",
       "      <td>-0.537</td>\n",
       "      <td>-0.471</td>\n",
       "      <td>0</td>\n",
       "    </tr>\n",
       "    <tr>\n",
       "      <th>4</th>\n",
       "      <td>-0.600</td>\n",
       "      <td>0.485</td>\n",
       "      <td>-1.778</td>\n",
       "      <td>0.375</td>\n",
       "      <td>1.081</td>\n",
       "      <td>1.194</td>\n",
       "      <td>5.008</td>\n",
       "      <td>0.235</td>\n",
       "      <td>1</td>\n",
       "    </tr>\n",
       "  </tbody>\n",
       "</table>\n",
       "</div>"
      ],
      "text/plain": [
       "   Pregnancies  Glucose  BloodPressure  SkinThickness  Insulin    BMI  \\\n",
       "0        0.600    0.752          0.000          0.375   -0.240  0.172   \n",
       "1       -0.400   -0.776         -0.333          0.188   -0.240 -0.581   \n",
       "2        1.000    1.600         -0.444         -0.719   -0.240 -0.935   \n",
       "3       -0.400   -0.679         -0.333          0.000    0.499 -0.419   \n",
       "4       -0.600    0.485         -1.778          0.375    1.081  1.194   \n",
       "\n",
       "   DiabetesPedigreeFunction    Age  Outcome  \n",
       "0                     0.665  1.235        1  \n",
       "1                    -0.056  0.118        0  \n",
       "2                     0.783  0.176        1  \n",
       "3                    -0.537 -0.471        0  \n",
       "4                     5.008  0.235        1  "
      ]
     },
     "execution_count": 40,
     "metadata": {},
     "output_type": "execute_result"
    }
   ],
   "source": [
    "df.head()"
   ]
  },
  {
   "cell_type": "markdown",
   "id": "0e3271d8",
   "metadata": {},
   "source": [
    "# Model & Prediction"
   ]
  },
  {
   "cell_type": "code",
   "execution_count": 41,
   "id": "85d00061",
   "metadata": {},
   "outputs": [],
   "source": [
    "y = df[\"Outcome\"]"
   ]
  },
  {
   "cell_type": "code",
   "execution_count": 42,
   "id": "7e6122aa",
   "metadata": {},
   "outputs": [],
   "source": [
    "X = df.drop([\"Outcome\"], axis=1)"
   ]
  },
  {
   "cell_type": "code",
   "execution_count": 43,
   "id": "5a393dad",
   "metadata": {},
   "outputs": [],
   "source": [
    "log_model = LogisticRegression().fit(X, y)"
   ]
  },
  {
   "cell_type": "code",
   "execution_count": 44,
   "id": "954b12d9",
   "metadata": {},
   "outputs": [
    {
     "data": {
      "text/plain": [
       "array([-1.23439588])"
      ]
     },
     "execution_count": 44,
     "metadata": {},
     "output_type": "execute_result"
    }
   ],
   "source": [
    "log_model.intercept_"
   ]
  },
  {
   "cell_type": "code",
   "execution_count": 45,
   "id": "c8c8f500",
   "metadata": {},
   "outputs": [
    {
     "data": {
      "text/plain": [
       "array([[ 0.59906785,  1.41770936, -0.23152362,  0.01973855, -0.14571255,\n",
       "         0.81741997,  0.35522795,  0.25655154]])"
      ]
     },
     "execution_count": 45,
     "metadata": {},
     "output_type": "execute_result"
    }
   ],
   "source": [
    "log_model.coef_"
   ]
  },
  {
   "cell_type": "code",
   "execution_count": 46,
   "id": "49dc2ab0",
   "metadata": {},
   "outputs": [],
   "source": [
    "y_pred = log_model.predict(X)"
   ]
  },
  {
   "cell_type": "code",
   "execution_count": 47,
   "id": "356cf87e",
   "metadata": {},
   "outputs": [
    {
     "data": {
      "text/plain": [
       "array([1, 0, 1, 0, 1, 0, 0, 1, 1, 0], dtype=int64)"
      ]
     },
     "execution_count": 47,
     "metadata": {},
     "output_type": "execute_result"
    }
   ],
   "source": [
    "y_pred[0:10]"
   ]
  },
  {
   "cell_type": "code",
   "execution_count": 48,
   "id": "728330ec",
   "metadata": {
    "scrolled": false
   },
   "outputs": [
    {
     "data": {
      "text/plain": [
       "0    1\n",
       "1    0\n",
       "2    1\n",
       "3    0\n",
       "4    1\n",
       "5    0\n",
       "6    1\n",
       "7    0\n",
       "8    1\n",
       "9    1\n",
       "Name: Outcome, dtype: int64"
      ]
     },
     "execution_count": 48,
     "metadata": {},
     "output_type": "execute_result"
    }
   ],
   "source": [
    "y[0:10]"
   ]
  },
  {
   "cell_type": "markdown",
   "id": "102549ba",
   "metadata": {},
   "source": [
    "## burada bütün veriyle model kuruldu bütün veriyle bir değerlendirme yapıldı bu sıkıntılı bir durum."
   ]
  },
  {
   "cell_type": "markdown",
   "id": "1a1250ac",
   "metadata": {},
   "source": [
    "# Model Evaluation"
   ]
  },
  {
   "cell_type": "code",
   "execution_count": 49,
   "id": "df79194e",
   "metadata": {},
   "outputs": [
    {
     "data": {
      "image/png": "[encoded data removed]",
      "text/plain": [
       "<Figure size 720x432 with 2 Axes>"
      ]
     },
     "metadata": {
      "needs_background": "light"
     },
     "output_type": "display_data"
    }
   ],
   "source": [
    "plot_confusion_matrix(log_model, X, y,xticks_rotation=\"vertical\");       "
   ]
  },
  {
   "cell_type": "code",
   "execution_count": 50,
   "id": "3d41e7fd",
   "metadata": {},
   "outputs": [
    {
     "name": "stdout",
     "output_type": "stream",
     "text": [
      "              precision    recall  f1-score   support\n",
      "\n",
      "           0       0.80      0.89      0.84       500\n",
      "           1       0.74      0.58      0.65       268\n",
      "\n",
      "    accuracy                           0.78       768\n",
      "   macro avg       0.77      0.74      0.75       768\n",
      "weighted avg       0.78      0.78      0.78       768\n",
      "\n"
     ]
    }
   ],
   "source": [
    "print(classification_report(y, y_pred))"
   ]
  },
  {
   "cell_type": "code",
   "execution_count": 51,
   "id": "5729379a",
   "metadata": {},
   "outputs": [
    {
     "data": {
      "image/png": "[encoded data removed]",
      "text/plain": [
       "<Figure size 576x396 with 2 Axes>"
      ]
     },
     "metadata": {},
     "output_type": "display_data"
    },
    {
     "data": {
      "text/plain": [
       "<AxesSubplot:title={'center':'LogisticRegression Classification Report'}>"
      ]
     },
     "execution_count": 51,
     "metadata": {},
     "output_type": "execute_result"
    }
   ],
   "source": [
    "from yellowbrick.classifier import ClassificationReport\n",
    "\n",
    "visualizer = ClassificationReport(log_model,support=True)\n",
    "\n",
    "visualizer.fit(X, y)        # Fit the visualizer and the model\n",
    "visualizer.score(X, y)        # Evaluate the model on the test data\n",
    "visualizer.show()                       # Finalize and show the figure"
   ]
  },
  {
   "cell_type": "markdown",
   "id": "ffad0e97",
   "metadata": {},
   "source": [
    "# ROC AUC  : farklı thresholda göre oluşabilecek başarılara yönelik genel bir metric."
   ]
  },
  {
   "cell_type": "code",
   "execution_count": 52,
   "id": "27c6696c",
   "metadata": {},
   "outputs": [
    {
     "data": {
      "text/plain": [
       "(768,)"
      ]
     },
     "execution_count": 52,
     "metadata": {},
     "output_type": "execute_result"
    }
   ],
   "source": [
    "y.shape"
   ]
  },
  {
   "cell_type": "code",
   "execution_count": 53,
   "id": "5b41f1fa",
   "metadata": {},
   "outputs": [
    {
     "data": {
      "text/plain": [
       "array([[0.28359381, 0.71640619],\n",
       "       [0.94894448, 0.05105552],\n",
       "       [0.21158782, 0.78841218],\n",
       "       ...,\n",
       "       [0.82688728, 0.17311272],\n",
       "       [0.71234466, 0.28765534],\n",
       "       [0.92538489, 0.07461511]])"
      ]
     },
     "execution_count": 53,
     "metadata": {},
     "output_type": "execute_result"
    }
   ],
   "source": [
    "y_prob = log_model.predict_proba(X)\n",
    "y_prob"
   ]
  },
  {
   "cell_type": "code",
   "execution_count": 54,
   "id": "422b187a",
   "metadata": {},
   "outputs": [
    {
     "data": {
      "text/plain": [
       "array([0, 1], dtype=int64)"
      ]
     },
     "execution_count": 54,
     "metadata": {},
     "output_type": "execute_result"
    }
   ],
   "source": [
    "log_model.classes_"
   ]
  },
  {
   "cell_type": "code",
   "execution_count": 55,
   "id": "c1d07208",
   "metadata": {},
   "outputs": [
    {
     "data": {
      "text/plain": [
       "(768, 2)"
      ]
     },
     "execution_count": 55,
     "metadata": {},
     "output_type": "execute_result"
    }
   ],
   "source": [
    "y_prob.shape                 # -------> 1 sınıfının gerçekleşme olasılıkları ve 0 sınıfının gerçekleşme olasılıkları"
   ]
  },
  {
   "cell_type": "code",
   "execution_count": 56,
   "id": "8c00260a",
   "metadata": {},
   "outputs": [
    {
     "data": {
      "text/plain": [
       "array([0.71640619, 0.05105552, 0.78841218, 0.04367789, 0.89752376,\n",
       "       0.14920746, 0.06908148, 0.63435631, 0.70658734, 0.03863606,\n",
       "       0.22219307, 0.89165049, 0.77944549, 0.65935946, 0.62425143,\n",
       "       0.39662625, 0.37318974, 0.19866947, 0.35703823, 0.23711181,\n",
       "       0.3930209 , 0.3192061 , 0.93636117, 0.29468743, 0.69739181,\n",
       "       0.43942323, 0.73098803, 0.04800202, 0.53661347, 0.28012375,\n",
       "       0.42776085, 0.56949791, 0.05108714, 0.03839617, 0.43121533,\n",
       "       0.15293469, 0.65819897, 0.3937366 , 0.17535934, 0.57262782,\n",
       "       0.73613722, 0.69062599, 0.1174309 , 0.92351316, 0.62263968,\n",
       "       0.9490217 , 0.43165427, 0.04184679, 0.37968488, 0.04025223,\n",
       "       0.03814319, 0.08782561, 0.06990396, 0.82257852, 0.70382787,\n",
       "       0.02403838, 0.87770227, 0.36040116, 0.82871081, 0.18605478,\n",
       "       0.01057618, 0.51752669, 0.0249713 , 0.30863948, 0.354305  ,\n",
       "       0.1215789 , 0.19663257, 0.47275093, 0.03377323, 0.30252771,\n",
       "       0.19654497, 0.36306089, 0.81091235, 0.24827821, 0.05400336,\n",
       "       0.00220113, 0.07937683, 0.2242112 , 0.66331721, 0.10283457,\n",
       "       0.10448869, 0.00633877, 0.1405557 , 0.05227294, 0.67096   ,\n",
       "       0.19501332, 0.52619454, 0.18982141, 0.77769857, 0.07688914,\n",
       "       0.02048885, 0.26078649, 0.33304267, 0.29918673, 0.25604617,\n",
       "       0.5132953 , 0.08450782, 0.01847555, 0.1362494 , 0.45224052,\n",
       "       0.83093023, 0.28204904, 0.06505848, 0.03361905, 0.23367663,\n",
       "       0.24839936, 0.0209218 , 0.42378208, 0.10951401, 0.09625021,\n",
       "       0.5952467 , 0.70264983, 0.05641516, 0.09606504, 0.73371011,\n",
       "       0.55300842, 0.35682057, 0.16040373, 0.1205908 , 0.05488216,\n",
       "       0.88121862, 0.28494963, 0.15192921, 0.35709311, 0.13870714,\n",
       "       0.5234289 , 0.45662566, 0.19716482, 0.19841157, 0.15976172,\n",
       "       0.6272218 , 0.67833388, 0.66718161, 0.27443494, 0.05731056,\n",
       "       0.24453577, 0.1006006 , 0.07036544, 0.26367516, 0.17896049,\n",
       "       0.17143315, 0.32136468, 0.17451649, 0.38483006, 0.46363136,\n",
       "       0.0076824 , 0.06646205, 0.30460798, 0.62926814, 0.04693316,\n",
       "       0.35320617, 0.1395946 , 0.84049826, 0.52081939, 0.95845348,\n",
       "       0.87485842, 0.08958158, 0.12734573, 0.05178651, 0.96789635,\n",
       "       0.42486976, 0.30381555, 0.22562215, 0.10643165, 0.28018669,\n",
       "       0.2362827 , 0.44385834, 0.31815333, 0.23603118, 0.12609199,\n",
       "       0.15749558, 0.51932983, 0.20018397, 0.19309156, 0.05384239,\n",
       "       0.86787226, 0.13050547, 0.77210024, 0.74784775, 0.65267472,\n",
       "       0.0481399 , 0.26815705, 0.00228048, 0.05135908, 0.34642513,\n",
       "       0.94534625, 0.83450305, 0.37530144, 0.24430303, 0.35694547,\n",
       "       0.07927411, 0.48019637, 0.68157423, 0.96865017, 0.10203262,\n",
       "       0.67631209, 0.06565523, 0.11082549, 0.34146925, 0.37171445,\n",
       "       0.17559454, 0.42798461, 0.14166673, 0.04131431, 0.33517367,\n",
       "       0.133188  , 0.94625445, 0.69069173, 0.09553077, 0.87065704,\n",
       "       0.0512828 , 0.54988041, 0.83023674, 0.52127478, 0.31402515,\n",
       "       0.89222024, 0.30201163, 0.3335299 , 0.18040507, 0.38192968,\n",
       "       0.70502254, 0.68330545, 0.40893558, 0.64007415, 0.07403723,\n",
       "       0.06234116, 0.11339025, 0.77812789, 0.95799067, 0.28985265,\n",
       "       0.68728722, 0.64703613, 0.03294567, 0.35734645, 0.04561383,\n",
       "       0.86238913, 0.87836269, 0.83299688, 0.79327277, 0.04301133,\n",
       "       0.05932128, 0.12095363, 0.29592262, 0.45445066, 0.47895285,\n",
       "       0.92801414, 0.46325978, 0.69658714, 0.40656348, 0.09124432,\n",
       "       0.38160351, 0.17663024, 0.03637501, 0.0817641 , 0.30930385,\n",
       "       0.21618701, 0.2367505 , 0.12105521, 0.66215576, 0.9004094 ,\n",
       "       0.75987244, 0.66643707, 0.16127992, 0.4849978 , 0.30906061,\n",
       "       0.2983361 , 0.71358452, 0.61719273, 0.05561474, 0.51390789,\n",
       "       0.72274879, 0.07557595, 0.1353937 , 0.04304981, 0.51493984,\n",
       "       0.27774377, 0.18275801, 0.0816864 , 0.27700922, 0.11419185,\n",
       "       0.47927464, 0.56743151, 0.37630239, 0.63089353, 0.12526707,\n",
       "       0.45360788, 0.61632378, 0.45198129, 0.06207726, 0.26431379,\n",
       "       0.05840774, 0.23987636, 0.64474218, 0.48352587, 0.44215938,\n",
       "       0.71380046, 0.25267547, 0.15457355, 0.48628438, 0.34232866,\n",
       "       0.82435409, 0.39909772, 0.09306914, 0.57269928, 0.24402261,\n",
       "       0.2997039 , 0.67015558, 0.12327019, 0.3579404 , 0.332246  ,\n",
       "       0.08210145, 0.21225673, 0.3540567 , 0.23076448, 0.54032236,\n",
       "       0.18815724, 0.03973202, 0.6978757 , 0.26365707, 0.76754392,\n",
       "       0.26775493, 0.16094263, 0.15404995, 0.73694922, 0.17826058,\n",
       "       0.24459493, 0.3201347 , 0.88232406, 0.21818976, 0.17998825,\n",
       "       0.48265921, 0.08130478, 0.93867579, 0.20637017, 0.04598238,\n",
       "       0.7323384 , 0.56394375, 0.27576615, 0.76731966, 0.88540698,\n",
       "       0.16214247, 0.07891338, 0.00410392, 0.31838617, 0.39609254,\n",
       "       0.55941345, 0.35885557, 0.20885223, 0.05703739, 0.01490326,\n",
       "       0.21665361, 0.32564434, 0.05203373, 0.0691965 , 0.2269099 ,\n",
       "       0.7397835 , 0.39764728, 0.92017506, 0.35137048, 0.85932201,\n",
       "       0.7984755 , 0.65177405, 0.31389384, 0.75165162, 0.46829173,\n",
       "       0.24405891, 0.26804748, 0.03882501, 0.0369822 , 0.22284758,\n",
       "       0.902063  , 0.03934394, 0.09171253, 0.16920936, 0.42731   ,\n",
       "       0.80151518, 0.03867032, 0.12843412, 0.82649597, 0.24570038,\n",
       "       0.16290476, 0.03887904, 0.12513754, 0.10486884, 0.10511709,\n",
       "       0.09230157, 0.34698496, 0.43677316, 0.50661613, 0.2075274 ,\n",
       "       0.12961815, 0.85843811, 0.10240975, 0.13172262, 0.67856648,\n",
       "       0.39935872, 0.14181691, 0.25779024, 0.03248569, 0.81989202,\n",
       "       0.12861123, 0.37185468, 0.43120092, 0.11023299, 0.71530835,\n",
       "       0.49792081, 0.2359068 , 0.0485048 , 0.92301814, 0.74282082,\n",
       "       0.27148666, 0.18047033, 0.60036066, 0.20094221, 0.35231787,\n",
       "       0.53679818, 0.12644066, 0.64240771, 0.02712152, 0.18816351,\n",
       "       0.37493887, 0.06776977, 0.21470164, 0.18741413, 0.81045977,\n",
       "       0.76984627, 0.01190676, 0.71923576, 0.3215476 , 0.10125947,\n",
       "       0.09765379, 0.10638535, 0.04971212, 0.20272966, 0.10270662,\n",
       "       0.71837024, 0.73975138, 0.46901191, 0.02536285, 0.34923538,\n",
       "       0.72042457, 0.08014806, 0.22898988, 0.39443865, 0.24270262,\n",
       "       0.99173353, 0.07950084, 0.09984768, 0.14127184, 0.14001904,\n",
       "       0.02522442, 0.28311047, 0.11982705, 0.41268654, 0.22473299,\n",
       "       0.91468288, 0.43072891, 0.09165426, 0.84582785, 0.58546936,\n",
       "       0.30893264, 0.02173149, 0.20613241, 0.08304047, 0.30946261,\n",
       "       0.10134599, 0.03230558, 0.15748413, 0.54950085, 0.83183759,\n",
       "       0.59648207, 0.26409599, 0.26426939, 0.4178763 , 0.15830352,\n",
       "       0.24690333, 0.17136785, 0.16684523, 0.27404923, 0.36945477,\n",
       "       0.55868104, 0.19285162, 0.07571002, 0.06691587, 0.83982912,\n",
       "       0.41569184, 0.4262651 , 0.91932467, 0.0868661 , 0.89562807,\n",
       "       0.13174403, 0.09487215, 0.1521044 , 0.44120128, 0.0093608 ,\n",
       "       0.69513879, 0.14802213, 0.06216244, 0.8049832 , 0.63117779,\n",
       "       0.08254593, 0.12088205, 0.02477013, 0.29687417, 0.18518833,\n",
       "       0.14201168, 0.66936861, 0.23949091, 0.12283797, 0.34483327,\n",
       "       0.21992485, 0.11275219, 0.14867322, 0.07759007, 0.07388889,\n",
       "       0.53409653, 0.66298794, 0.53023159, 0.2318928 , 0.18697324,\n",
       "       0.01992699, 0.23023764, 0.04480709, 0.66198262, 0.25446183,\n",
       "       0.04608354, 0.02869625, 0.0990559 , 0.14291551, 0.11481139,\n",
       "       0.25037283, 0.35811717, 0.2385222 , 0.2961797 , 0.14025368,\n",
       "       0.56730528, 0.08831141, 0.03000099, 0.29695858, 0.44504923,\n",
       "       0.42153488, 0.29549217, 0.40907385, 0.1082342 , 0.06892916,\n",
       "       0.84245879, 0.9591466 , 0.29856933, 0.5844823 , 0.73296673,\n",
       "       0.10657733, 0.09402223, 0.25153272, 0.0700391 , 0.10958553,\n",
       "       0.20735529, 0.15676512, 0.276084  , 0.63533589, 0.17880632,\n",
       "       0.41853427, 0.87175002, 0.11335957, 0.16030165, 0.08687512,\n",
       "       0.09746786, 0.17108312, 0.15189653, 0.51963209, 0.19407033,\n",
       "       0.08101433, 0.09627077, 0.17609474, 0.12031676, 0.29437402,\n",
       "       0.28778054, 0.24169129, 0.43363582, 0.4437745 , 0.91880392,\n",
       "       0.53939338, 0.14701131, 0.46123661, 0.34644217, 0.32112975,\n",
       "       0.04903884, 0.6378448 , 0.11408396, 0.8401285 , 0.03894171,\n",
       "       0.8122002 , 0.21074928, 0.4167052 , 0.17750878, 0.41757565,\n",
       "       0.67195575, 0.11073978, 0.10604377, 0.67680742, 0.09861442,\n",
       "       0.08037351, 0.17307772, 0.1390312 , 0.7597776 , 0.85078193,\n",
       "       0.33315812, 0.85562478, 0.03651754, 0.4808591 , 0.06049769,\n",
       "       0.14491403, 0.75145329, 0.82733157, 0.292321  , 0.75779776,\n",
       "       0.08943585, 0.16273587, 0.01564508, 0.51178031, 0.30289302,\n",
       "       0.19580186, 0.1542722 , 0.95918241, 0.16987567, 0.12289458,\n",
       "       0.14564259, 0.10305899, 0.23124826, 0.39147985, 0.05999796,\n",
       "       0.32528223, 0.09754381, 0.11783772, 0.10496616, 0.14156173,\n",
       "       0.4228939 , 0.16179573, 0.10824502, 0.43359492, 0.03137432,\n",
       "       0.08734889, 0.34798529, 0.4976232 , 0.23209228, 0.12616767,\n",
       "       0.49432991, 0.36788027, 0.76163048, 0.47071663, 0.07227903,\n",
       "       0.04603206, 0.23303244, 0.3135284 , 0.19631951, 0.11211991,\n",
       "       0.50839189, 0.04792885, 0.46711979, 0.60563435, 0.1600531 ,\n",
       "       0.69840151, 0.95855674, 0.71933476, 0.76393659, 0.36643683,\n",
       "       0.13881269, 0.57100467, 0.27223514, 0.25277003, 0.63525537,\n",
       "       0.79463913, 0.0816047 , 0.11504009, 0.72483736, 0.36990734,\n",
       "       0.85124997, 0.56526028, 0.10758942, 0.31957687, 0.07255399,\n",
       "       0.01650822, 0.80814898, 0.20970709, 0.31566512, 0.08239826,\n",
       "       0.28547823, 0.16711755, 0.1186439 , 0.224349  , 0.65234063,\n",
       "       0.23377557, 0.86735731, 0.43808821, 0.61323019, 0.04380952,\n",
       "       0.31046015, 0.54113896, 0.10933793, 0.32902631, 0.62557101,\n",
       "       0.2639955 , 0.36738392, 0.77152191, 0.66682104, 0.11194713,\n",
       "       0.15217706, 0.08175837, 0.24914192, 0.75890056, 0.1821165 ,\n",
       "       0.41228723, 0.32440329, 0.76787657, 0.14658768, 0.10312782,\n",
       "       0.89930101, 0.76661977, 0.21040229, 0.18063352, 0.26355499,\n",
       "       0.06635132, 0.20617334, 0.37929819, 0.36622808, 0.15051982,\n",
       "       0.3410283 , 0.2077801 , 0.28887472, 0.37882246, 0.08143007,\n",
       "       0.23018818, 0.22810813, 0.82954196, 0.11944979, 0.11786091,\n",
       "       0.18628874, 0.12375783, 0.12130711, 0.16629149, 0.22917491,\n",
       "       0.76337171, 0.16944716, 0.09746505, 0.65733545, 0.92619258,\n",
       "       0.31307022, 0.68933697, 0.31384987, 0.82168031, 0.56966757,\n",
       "       0.54009242, 0.27747046, 0.10850326, 0.66195342, 0.71944453,\n",
       "       0.44251042, 0.47872056, 0.32121878, 0.16691781, 0.8980457 ,\n",
       "       0.09894611, 0.93178902, 0.08971046, 0.32131287, 0.31914156,\n",
       "       0.17311272, 0.28765534, 0.07461511])"
      ]
     },
     "execution_count": 56,
     "metadata": {},
     "output_type": "execute_result"
    }
   ],
   "source": [
    "y_prob = log_model.predict_proba(X)[:, 1]    # --------> sınıf 1'in gerçekleşme olasılığının tahim değerleri\n",
    "y_prob"
   ]
  },
  {
   "cell_type": "code",
   "execution_count": 57,
   "id": "8c6aae7b",
   "metadata": {},
   "outputs": [
    {
     "data": {
      "text/plain": [
       "(768,)"
      ]
     },
     "execution_count": 57,
     "metadata": {},
     "output_type": "execute_result"
    }
   ],
   "source": [
    "y_prob.shape"
   ]
  },
  {
   "cell_type": "markdown",
   "id": "d6615787",
   "metadata": {},
   "source": [
    "## thresholdlar değişerek elde ediliyor bu değerler ayrıca şunu da unutmayalım bu thresholdlara göre hesaplamalar yapılıyor roc eğrisinde ve auc'de"
   ]
  },
  {
   "cell_type": "code",
   "execution_count": 58,
   "id": "5adb494f",
   "metadata": {},
   "outputs": [
    {
     "data": {
      "text/plain": [
       "0.8393955223880598"
      ]
     },
     "execution_count": 58,
     "metadata": {},
     "output_type": "execute_result"
    }
   ],
   "source": [
    "roc_auc_score(y, y_prob)          # 1sınıfının gerçekleşme olasılıkları ile ilgilendik burada dikkat : auc scoru döndü"
   ]
  },
  {
   "cell_type": "markdown",
   "id": "cac8f077",
   "metadata": {},
   "source": [
    "## aldığımız sonuçları doğrulamak lazım çünkü modeli eğittiğimiz set ile test yaptık bunu doğrulamamız gerekecek :"
   ]
  },
  {
   "cell_type": "code",
   "execution_count": 59,
   "id": "df10fecf",
   "metadata": {},
   "outputs": [],
   "source": [
    "X_train, X_test, y_train, y_test = train_test_split(X,\n",
    "                                                    y,\n",
    "                                                    test_size=0.20, random_state=17)"
   ]
  },
  {
   "cell_type": "code",
   "execution_count": 60,
   "id": "9779781e",
   "metadata": {},
   "outputs": [
    {
     "data": {
      "text/plain": [
       "(614,)"
      ]
     },
     "execution_count": 60,
     "metadata": {},
     "output_type": "execute_result"
    }
   ],
   "source": [
    "y_train.shape"
   ]
  },
  {
   "cell_type": "code",
   "execution_count": 61,
   "id": "ea3b30e4",
   "metadata": {},
   "outputs": [
    {
     "data": {
      "text/plain": [
       "(154,)"
      ]
     },
     "execution_count": 61,
     "metadata": {},
     "output_type": "execute_result"
    }
   ],
   "source": [
    "y_test.shape"
   ]
  },
  {
   "cell_type": "code",
   "execution_count": 62,
   "id": "215e3232",
   "metadata": {},
   "outputs": [
    {
     "data": {
      "text/html": [
       "<style>#sk-container-id-1 {color: black;background-color: white;}#sk-container-id-1 pre{padding: 0;}#sk-container-id-1 div.sk-toggleable {background-color: white;}#sk-container-id-1 label.sk-toggleable__label {cursor: pointer;display: block;width: 100%;margin-bottom: 0;padding: 0.3em;box-sizing: border-box;text-align: center;}#sk-container-id-1 label.sk-toggleable__label-arrow:before {content: \"▸\";float: left;margin-right: 0.25em;color: #696969;}#sk-container-id-1 label.sk-toggleable__label-arrow:hover:before {color: black;}#sk-container-id-1 div.sk-estimator:hover label.sk-toggleable__label-arrow:before {color: black;}#sk-container-id-1 div.sk-toggleable__content {max-height: 0;max-width: 0;overflow: hidden;text-align: left;background-color: #f0f8ff;}#sk-container-id-1 div.sk-toggleable__content pre {margin: 0.2em;color: black;border-radius: 0.25em;background-color: #f0f8ff;}#sk-container-id-1 input.sk-toggleable__control:checked~div.sk-toggleable__content {max-height: 200px;max-width: 100%;overflow: auto;}#sk-container-id-1 input.sk-toggleable__control:checked~label.sk-toggleable__label-arrow:before {content: \"▾\";}#sk-container-id-1 div.sk-estimator input.sk-toggleable__control:checked~label.sk-toggleable__label {background-color: #d4ebff;}#sk-container-id-1 div.sk-label input.sk-toggleable__control:checked~label.sk-toggleable__label {background-color: #d4ebff;}#sk-container-id-1 input.sk-hidden--visually {border: 0;clip: rect(1px 1px 1px 1px);clip: rect(1px, 1px, 1px, 1px);height: 1px;margin: -1px;overflow: hidden;padding: 0;position: absolute;width: 1px;}#sk-container-id-1 div.sk-estimator {font-family: monospace;background-color: #f0f8ff;border: 1px dotted black;border-radius: 0.25em;box-sizing: border-box;margin-bottom: 0.5em;}#sk-container-id-1 div.sk-estimator:hover {background-color: #d4ebff;}#sk-container-id-1 div.sk-parallel-item::after {content: \"\";width: 100%;border-bottom: 1px solid gray;flex-grow: 1;}#sk-container-id-1 div.sk-label:hover label.sk-toggleable__label {background-color: #d4ebff;}#sk-container-id-1 div.sk-serial::before {content: \"\";position: absolute;border-left: 1px solid gray;box-sizing: border-box;top: 0;bottom: 0;left: 50%;z-index: 0;}#sk-container-id-1 div.sk-serial {display: flex;flex-direction: column;align-items: center;background-color: white;padding-right: 0.2em;padding-left: 0.2em;position: relative;}#sk-container-id-1 div.sk-item {position: relative;z-index: 1;}#sk-container-id-1 div.sk-parallel {display: flex;align-items: stretch;justify-content: center;background-color: white;position: relative;}#sk-container-id-1 div.sk-item::before, #sk-container-id-1 div.sk-parallel-item::before {content: \"\";position: absolute;border-left: 1px solid gray;box-sizing: border-box;top: 0;bottom: 0;left: 50%;z-index: -1;}#sk-container-id-1 div.sk-parallel-item {display: flex;flex-direction: column;z-index: 1;position: relative;background-color: white;}#sk-container-id-1 div.sk-parallel-item:first-child::after {align-self: flex-end;width: 50%;}#sk-container-id-1 div.sk-parallel-item:last-child::after {align-self: flex-start;width: 50%;}#sk-container-id-1 div.sk-parallel-item:only-child::after {width: 0;}#sk-container-id-1 div.sk-dashed-wrapped {border: 1px dashed gray;margin: 0 0.4em 0.5em 0.4em;box-sizing: border-box;padding-bottom: 0.4em;background-color: white;}#sk-container-id-1 div.sk-label label {font-family: monospace;font-weight: bold;display: inline-block;line-height: 1.2em;}#sk-container-id-1 div.sk-label-container {text-align: center;}#sk-container-id-1 div.sk-container {/* jupyter's `normalize.less` sets `[hidden] { display: none; }` but bootstrap.min.css set `[hidden] { display: none !important; }` so we also need the `!important` here to be able to override the default hidden behavior on the sphinx rendered scikit-learn.org. See: https://github.com/scikit-learn/scikit-learn/issues/21755 */display: inline-block !important;position: relative;}#sk-container-id-1 div.sk-text-repr-fallback {display: none;}</style><div id=\"sk-container-id-1\" class=\"sk-top-container\"><div class=\"sk-text-repr-fallback\"><pre>LogisticRegression()</pre><b>In a Jupyter environment, please rerun this cell to show the HTML representation or trust the notebook. <br />On GitHub, the HTML representation is unable to render, please try loading this page with nbviewer.org.</b></div><div class=\"sk-container\" hidden><div class=\"sk-item\"><div class=\"sk-estimator sk-toggleable\"><input class=\"sk-toggleable__control sk-hidden--visually\" id=\"sk-estimator-id-1\" type=\"checkbox\" checked><label for=\"sk-estimator-id-1\" class=\"sk-toggleable__label sk-toggleable__label-arrow\">LogisticRegression</label><div class=\"sk-toggleable__content\"><pre>LogisticRegression()</pre></div></div></div></div></div>"
      ],
      "text/plain": [
       "LogisticRegression()"
      ]
     },
     "execution_count": 62,
     "metadata": {},
     "output_type": "execute_result"
    }
   ],
   "source": [
    "log_model = LogisticRegression()\n",
    "log_model"
   ]
  },
  {
   "cell_type": "code",
   "execution_count": 63,
   "id": "9074bf34",
   "metadata": {},
   "outputs": [
    {
     "data": {
      "text/html": [
       "<style>#sk-container-id-2 {color: black;background-color: white;}#sk-container-id-2 pre{padding: 0;}#sk-container-id-2 div.sk-toggleable {background-color: white;}#sk-container-id-2 label.sk-toggleable__label {cursor: pointer;display: block;width: 100%;margin-bottom: 0;padding: 0.3em;box-sizing: border-box;text-align: center;}#sk-container-id-2 label.sk-toggleable__label-arrow:before {content: \"▸\";float: left;margin-right: 0.25em;color: #696969;}#sk-container-id-2 label.sk-toggleable__label-arrow:hover:before {color: black;}#sk-container-id-2 div.sk-estimator:hover label.sk-toggleable__label-arrow:before {color: black;}#sk-container-id-2 div.sk-toggleable__content {max-height: 0;max-width: 0;overflow: hidden;text-align: left;background-color: #f0f8ff;}#sk-container-id-2 div.sk-toggleable__content pre {margin: 0.2em;color: black;border-radius: 0.25em;background-color: #f0f8ff;}#sk-container-id-2 input.sk-toggleable__control:checked~div.sk-toggleable__content {max-height: 200px;max-width: 100%;overflow: auto;}#sk-container-id-2 input.sk-toggleable__control:checked~label.sk-toggleable__label-arrow:before {content: \"▾\";}#sk-container-id-2 div.sk-estimator input.sk-toggleable__control:checked~label.sk-toggleable__label {background-color: #d4ebff;}#sk-container-id-2 div.sk-label input.sk-toggleable__control:checked~label.sk-toggleable__label {background-color: #d4ebff;}#sk-container-id-2 input.sk-hidden--visually {border: 0;clip: rect(1px 1px 1px 1px);clip: rect(1px, 1px, 1px, 1px);height: 1px;margin: -1px;overflow: hidden;padding: 0;position: absolute;width: 1px;}#sk-container-id-2 div.sk-estimator {font-family: monospace;background-color: #f0f8ff;border: 1px dotted black;border-radius: 0.25em;box-sizing: border-box;margin-bottom: 0.5em;}#sk-container-id-2 div.sk-estimator:hover {background-color: #d4ebff;}#sk-container-id-2 div.sk-parallel-item::after {content: \"\";width: 100%;border-bottom: 1px solid gray;flex-grow: 1;}#sk-container-id-2 div.sk-label:hover label.sk-toggleable__label {background-color: #d4ebff;}#sk-container-id-2 div.sk-serial::before {content: \"\";position: absolute;border-left: 1px solid gray;box-sizing: border-box;top: 0;bottom: 0;left: 50%;z-index: 0;}#sk-container-id-2 div.sk-serial {display: flex;flex-direction: column;align-items: center;background-color: white;padding-right: 0.2em;padding-left: 0.2em;position: relative;}#sk-container-id-2 div.sk-item {position: relative;z-index: 1;}#sk-container-id-2 div.sk-parallel {display: flex;align-items: stretch;justify-content: center;background-color: white;position: relative;}#sk-container-id-2 div.sk-item::before, #sk-container-id-2 div.sk-parallel-item::before {content: \"\";position: absolute;border-left: 1px solid gray;box-sizing: border-box;top: 0;bottom: 0;left: 50%;z-index: -1;}#sk-container-id-2 div.sk-parallel-item {display: flex;flex-direction: column;z-index: 1;position: relative;background-color: white;}#sk-container-id-2 div.sk-parallel-item:first-child::after {align-self: flex-end;width: 50%;}#sk-container-id-2 div.sk-parallel-item:last-child::after {align-self: flex-start;width: 50%;}#sk-container-id-2 div.sk-parallel-item:only-child::after {width: 0;}#sk-container-id-2 div.sk-dashed-wrapped {border: 1px dashed gray;margin: 0 0.4em 0.5em 0.4em;box-sizing: border-box;padding-bottom: 0.4em;background-color: white;}#sk-container-id-2 div.sk-label label {font-family: monospace;font-weight: bold;display: inline-block;line-height: 1.2em;}#sk-container-id-2 div.sk-label-container {text-align: center;}#sk-container-id-2 div.sk-container {/* jupyter's `normalize.less` sets `[hidden] { display: none; }` but bootstrap.min.css set `[hidden] { display: none !important; }` so we also need the `!important` here to be able to override the default hidden behavior on the sphinx rendered scikit-learn.org. See: https://github.com/scikit-learn/scikit-learn/issues/21755 */display: inline-block !important;position: relative;}#sk-container-id-2 div.sk-text-repr-fallback {display: none;}</style><div id=\"sk-container-id-2\" class=\"sk-top-container\"><div class=\"sk-text-repr-fallback\"><pre>LogisticRegression()</pre><b>In a Jupyter environment, please rerun this cell to show the HTML representation or trust the notebook. <br />On GitHub, the HTML representation is unable to render, please try loading this page with nbviewer.org.</b></div><div class=\"sk-container\" hidden><div class=\"sk-item\"><div class=\"sk-estimator sk-toggleable\"><input class=\"sk-toggleable__control sk-hidden--visually\" id=\"sk-estimator-id-2\" type=\"checkbox\" checked><label for=\"sk-estimator-id-2\" class=\"sk-toggleable__label sk-toggleable__label-arrow\">LogisticRegression</label><div class=\"sk-toggleable__content\"><pre>LogisticRegression()</pre></div></div></div></div></div>"
      ],
      "text/plain": [
       "LogisticRegression()"
      ]
     },
     "execution_count": 63,
     "metadata": {},
     "output_type": "execute_result"
    }
   ],
   "source": [
    "log_model.fit(X_train,y_train)"
   ]
  },
  {
   "cell_type": "code",
   "execution_count": 64,
   "id": "b739e6b6",
   "metadata": {},
   "outputs": [
    {
     "data": {
      "text/plain": [
       "array([0, 1, 0, 0, 0, 0, 0, 1, 1, 1, 1, 1, 0, 0, 0, 0, 1, 0, 0, 0, 1, 0,\n",
       "       0, 1, 0, 0, 1, 0, 1, 0, 1, 0, 0, 0, 0, 0, 1, 0, 0, 1, 0, 0, 0, 1,\n",
       "       0, 0, 1, 0, 1, 0, 0, 0, 0, 0, 1, 1, 0, 0, 0, 0, 0, 0, 0, 1, 0, 0,\n",
       "       0, 0, 0, 0, 1, 0, 0, 0, 0, 0, 0, 0, 1, 0, 0, 1, 0, 0, 0, 1, 1, 0,\n",
       "       0, 0, 0, 0, 0, 0, 0, 0, 0, 0, 1, 0, 0, 1, 1, 1, 0, 0, 1, 0, 0, 1,\n",
       "       0, 1, 0, 0, 1, 0, 0, 0, 0, 0, 0, 0, 0, 0, 0, 0, 0, 0, 0, 0, 0, 1,\n",
       "       0, 0, 0, 0, 0, 0, 0, 0, 1, 0, 1, 0, 1, 0, 0, 0, 0, 0, 0, 1, 0, 0],\n",
       "      dtype=int64)"
      ]
     },
     "execution_count": 64,
     "metadata": {},
     "output_type": "execute_result"
    }
   ],
   "source": [
    "y_pred = log_model.predict(X_test)\n",
    "y_pred"
   ]
  },
  {
   "cell_type": "code",
   "execution_count": 65,
   "id": "8c2186e3",
   "metadata": {},
   "outputs": [
    {
     "data": {
      "text/plain": [
       "(154,)"
      ]
     },
     "execution_count": 65,
     "metadata": {},
     "output_type": "execute_result"
    }
   ],
   "source": [
    "y_pred.shape"
   ]
  },
  {
   "cell_type": "code",
   "execution_count": 66,
   "id": "1b5d4b91",
   "metadata": {},
   "outputs": [
    {
     "data": {
      "text/plain": [
       "array([0.06804212, 0.67362318, 0.15580225, 0.04115179, 0.22638023,\n",
       "       0.43013794, 0.12701295, 0.79226746, 0.68292189, 0.78866052,\n",
       "       0.69662761, 0.80288574, 0.13490687, 0.34575988, 0.14099292,\n",
       "       0.13085956, 0.61420479, 0.15645542, 0.23147392, 0.25430899,\n",
       "       0.78882317, 0.14551328, 0.04506302, 0.86731296, 0.34282373,\n",
       "       0.20787647, 0.84258175, 0.01771794, 0.6548531 , 0.28856996,\n",
       "       0.85053315, 0.32086825, 0.08155495, 0.10163576, 0.24474319,\n",
       "       0.03774459, 0.76384136, 0.46241654, 0.05351762, 0.57510688,\n",
       "       0.05112654, 0.05187473, 0.15240088, 0.95510929, 0.03464702,\n",
       "       0.31139817, 0.72175728, 0.33397601, 0.63178928, 0.45530048,\n",
       "       0.28943527, 0.04520906, 0.42362836, 0.37393817, 0.50028372,\n",
       "       0.71740476, 0.29559   , 0.18998347, 0.38165279, 0.09060687,\n",
       "       0.27784606, 0.18514527, 0.17436361, 0.67764698, 0.20620011,\n",
       "       0.06686608, 0.2565223 , 0.2421511 , 0.37481733, 0.22976379,\n",
       "       0.70913772, 0.13838746, 0.22106238, 0.07364074, 0.03165822,\n",
       "       0.44955753, 0.10423122, 0.4966746 , 0.61965712, 0.28592618,\n",
       "       0.09659896, 0.80703728, 0.27572308, 0.02867177, 0.27345378,\n",
       "       0.99031091, 0.66854873, 0.10230029, 0.10166652, 0.0045713 ,\n",
       "       0.07525333, 0.08815006, 0.31304503, 0.06470998, 0.06028692,\n",
       "       0.42661069, 0.15960463, 0.1552255 , 0.66751814, 0.17669145,\n",
       "       0.43143481, 0.83943198, 0.80017261, 0.75005879, 0.08544565,\n",
       "       0.16659475, 0.85021962, 0.13549191, 0.05440189, 0.81036156,\n",
       "       0.02580901, 0.87162671, 0.13405277, 0.27002536, 0.63257447,\n",
       "       0.34943043, 0.33754556, 0.07243866, 0.14559544, 0.22406428,\n",
       "       0.08623673, 0.19526605, 0.06973176, 0.18941374, 0.30913687,\n",
       "       0.3157333 , 0.11997476, 0.10866339, 0.09198539, 0.14478981,\n",
       "       0.17214589, 0.86781775, 0.10581552, 0.43602137, 0.21485289,\n",
       "       0.4329179 , 0.23134477, 0.02701843, 0.25070529, 0.39209564,\n",
       "       0.84052824, 0.17691559, 0.74785215, 0.01394721, 0.88709905,\n",
       "       0.00752411, 0.03792124, 0.21578603, 0.21594245, 0.19683086,\n",
       "       0.18461747, 0.67507776, 0.10576179, 0.32501754])"
      ]
     },
     "execution_count": 66,
     "metadata": {},
     "output_type": "execute_result"
    }
   ],
   "source": [
    "y_prob = log_model.predict_proba(X_test)[:, 1]\n",
    "y_prob"
   ]
  },
  {
   "cell_type": "code",
   "execution_count": 67,
   "id": "16cc1ea3",
   "metadata": {},
   "outputs": [
    {
     "name": "stdout",
     "output_type": "stream",
     "text": [
      "              precision    recall  f1-score   support\n",
      "\n",
      "           0       0.77      0.92      0.84        97\n",
      "           1       0.79      0.53      0.63        57\n",
      "\n",
      "    accuracy                           0.77       154\n",
      "   macro avg       0.78      0.72      0.73       154\n",
      "weighted avg       0.78      0.77      0.76       154\n",
      "\n"
     ]
    }
   ],
   "source": [
    "print(classification_report(y_test, y_pred))"
   ]
  },
  {
   "cell_type": "markdown",
   "id": "222f5357",
   "metadata": {},
   "source": [
    "## train datası ile eğitim ve test yapınca sonuçlarımız şöyleydi. :\n",
    "# Accuracy: 0.78\n",
    "# Precision: 0.74\n",
    "# Recall: 0.58\n",
    "# F1-score: 0.65"
   ]
  },
  {
   "cell_type": "markdown",
   "id": "e23c42d7",
   "metadata": {},
   "source": [
    "## model görmediği veride zannetiğimiz kadar başarılı değil gibi cv ile buna odaklanabiliriz."
   ]
  },
  {
   "cell_type": "code",
   "execution_count": 68,
   "id": "f32992ff",
   "metadata": {},
   "outputs": [
    {
     "data": {
      "image/png": "[encoded data removed]",
      "text/plain": [
       "<Figure size 576x396 with 2 Axes>"
      ]
     },
     "metadata": {},
     "output_type": "display_data"
    },
    {
     "data": {
      "text/plain": [
       "<AxesSubplot:title={'center':'LogisticRegression Classification Report'}>"
      ]
     },
     "execution_count": 68,
     "metadata": {},
     "output_type": "execute_result"
    }
   ],
   "source": [
    "from yellowbrick.classifier import ClassificationReport\n",
    "\n",
    "visualizer = ClassificationReport(log_model,support=True)\n",
    "\n",
    "visualizer.fit(X_train, y_train)        # Fit the visualizer and the model\n",
    "visualizer.score(X_test, y_test)        # Evaluate the model on the test data\n",
    "visualizer.show()                       # Finalize and show the figure"
   ]
  },
  {
   "cell_type": "code",
   "execution_count": 69,
   "id": "f21aae1a",
   "metadata": {},
   "outputs": [
    {
     "data": {
      "image/png": "[encoded data removed]",
      "text/plain": [
       "<Figure size 576x396 with 1 Axes>"
      ]
     },
     "metadata": {},
     "output_type": "display_data"
    }
   ],
   "source": [
    "plot_roc_curve(log_model, X_test, y_test)\n",
    "plt.title('ROC Curve')\n",
    "plt.plot([0, 1], [0, 1], 'r--')\n",
    "plt.show()"
   ]
  },
  {
   "cell_type": "code",
   "execution_count": 70,
   "id": "1a69da26",
   "metadata": {},
   "outputs": [
    {
     "data": {
      "text/plain": [
       "0.8755652016639537"
      ]
     },
     "execution_count": 70,
     "metadata": {},
     "output_type": "execute_result"
    }
   ],
   "source": [
    "# AUC\n",
    "roc_auc_score(y_test, y_prob)             # bunu hemen üstteki grafikte de görebiliyoruz."
   ]
  },
  {
   "cell_type": "markdown",
   "id": "da302480",
   "metadata": {},
   "source": [
    "# önceki auc değeri 0.84 idi"
   ]
  },
  {
   "cell_type": "markdown",
   "id": "50bcc464",
   "metadata": {},
   "source": [
    "## auc daha yüksek çıktı recall daha düşük çıktı bunun için cv gerekiyor ."
   ]
  },
  {
   "cell_type": "markdown",
   "id": "4c17c48e",
   "metadata": {},
   "source": [
    "# Model Validation: 5-Fold Cross Validation"
   ]
  },
  {
   "cell_type": "code",
   "execution_count": 71,
   "id": "4620d666",
   "metadata": {},
   "outputs": [],
   "source": [
    "y = df[\"Outcome\"]\n",
    "X = df.drop([\"Outcome\"], axis=1)"
   ]
  },
  {
   "cell_type": "code",
   "execution_count": 72,
   "id": "d0e83581",
   "metadata": {},
   "outputs": [],
   "source": [
    "log_model = LogisticRegression().fit(X, y)             # train test split de yapılabilir."
   ]
  },
  {
   "cell_type": "code",
   "execution_count": 73,
   "id": "b49c828b",
   "metadata": {},
   "outputs": [
    {
     "data": {
      "text/plain": [
       "{'fit_time': array([0.00615048, 0.0039978 , 0.00459957, 0.00439835, 0.00650668]),\n",
       " 'score_time': array([0.00527978, 0.00609708, 0.00501037, 0.00515008, 0.00499964]),\n",
       " 'test_accuracy': array([0.77272727, 0.74675325, 0.75324675, 0.81699346, 0.77124183]),\n",
       " 'test_precision': array([0.71111111, 0.64705882, 0.71052632, 0.79069767, 0.73684211]),\n",
       " 'test_recall': array([0.59259259, 0.61111111, 0.5       , 0.64150943, 0.52830189]),\n",
       " 'test_f1': array([0.64646465, 0.62857143, 0.58695652, 0.70833333, 0.61538462]),\n",
       " 'test_roc_auc': array([0.81277778, 0.80888889, 0.825     , 0.87339623, 0.84358491])}"
      ]
     },
     "execution_count": 73,
     "metadata": {},
     "output_type": "execute_result"
    }
   ],
   "source": [
    "cv_results = cross_validate(log_model,\n",
    "                            X, y,\n",
    "                            cv=5,\n",
    "                            scoring=[\"accuracy\", \"precision\", \"recall\", \"f1\", \"roc_auc\"],)\n",
    "cv_results"
   ]
  },
  {
   "cell_type": "code",
   "execution_count": 74,
   "id": "f11e1152",
   "metadata": {},
   "outputs": [
    {
     "data": {
      "text/html": [
       "<div>\n",
       "<style scoped>\n",
       "    .dataframe tbody tr th:only-of-type {\n",
       "        vertical-align: middle;\n",
       "    }\n",
       "\n",
       "    .dataframe tbody tr th {\n",
       "        vertical-align: top;\n",
       "    }\n",
       "\n",
       "    .dataframe thead th {\n",
       "        text-align: right;\n",
       "    }\n",
       "</style>\n",
       "<table border=\"1\" class=\"dataframe\">\n",
       "  <thead>\n",
       "    <tr style=\"text-align: right;\">\n",
       "      <th></th>\n",
       "      <th>fit_time</th>\n",
       "      <th>score_time</th>\n",
       "      <th>test_accuracy</th>\n",
       "      <th>test_precision</th>\n",
       "      <th>test_recall</th>\n",
       "      <th>test_f1</th>\n",
       "      <th>test_roc_auc</th>\n",
       "    </tr>\n",
       "  </thead>\n",
       "  <tbody>\n",
       "    <tr>\n",
       "      <th>1</th>\n",
       "      <td>0.006</td>\n",
       "      <td>0.005</td>\n",
       "      <td>0.773</td>\n",
       "      <td>0.711</td>\n",
       "      <td>0.593</td>\n",
       "      <td>0.646</td>\n",
       "      <td>0.813</td>\n",
       "    </tr>\n",
       "    <tr>\n",
       "      <th>2</th>\n",
       "      <td>0.004</td>\n",
       "      <td>0.006</td>\n",
       "      <td>0.747</td>\n",
       "      <td>0.647</td>\n",
       "      <td>0.611</td>\n",
       "      <td>0.629</td>\n",
       "      <td>0.809</td>\n",
       "    </tr>\n",
       "    <tr>\n",
       "      <th>3</th>\n",
       "      <td>0.005</td>\n",
       "      <td>0.005</td>\n",
       "      <td>0.753</td>\n",
       "      <td>0.711</td>\n",
       "      <td>0.500</td>\n",
       "      <td>0.587</td>\n",
       "      <td>0.825</td>\n",
       "    </tr>\n",
       "    <tr>\n",
       "      <th>4</th>\n",
       "      <td>0.004</td>\n",
       "      <td>0.005</td>\n",
       "      <td>0.817</td>\n",
       "      <td>0.791</td>\n",
       "      <td>0.642</td>\n",
       "      <td>0.708</td>\n",
       "      <td>0.873</td>\n",
       "    </tr>\n",
       "    <tr>\n",
       "      <th>5</th>\n",
       "      <td>0.007</td>\n",
       "      <td>0.005</td>\n",
       "      <td>0.771</td>\n",
       "      <td>0.737</td>\n",
       "      <td>0.528</td>\n",
       "      <td>0.615</td>\n",
       "      <td>0.844</td>\n",
       "    </tr>\n",
       "  </tbody>\n",
       "</table>\n",
       "</div>"
      ],
      "text/plain": [
       "   fit_time  score_time  test_accuracy  test_precision  test_recall  test_f1  \\\n",
       "1     0.006       0.005          0.773           0.711        0.593    0.646   \n",
       "2     0.004       0.006          0.747           0.647        0.611    0.629   \n",
       "3     0.005       0.005          0.753           0.711        0.500    0.587   \n",
       "4     0.004       0.005          0.817           0.791        0.642    0.708   \n",
       "5     0.007       0.005          0.771           0.737        0.528    0.615   \n",
       "\n",
       "   test_roc_auc  \n",
       "1         0.813  \n",
       "2         0.809  \n",
       "3         0.825  \n",
       "4         0.873  \n",
       "5         0.844  "
      ]
     },
     "execution_count": 74,
     "metadata": {},
     "output_type": "execute_result"
    }
   ],
   "source": [
    "pd.DataFrame(cv_results, index = range(1,6))"
   ]
  },
  {
   "cell_type": "code",
   "execution_count": 75,
   "id": "4946c184",
   "metadata": {},
   "outputs": [
    {
     "data": {
      "text/plain": [
       "test_accuracy    0.772\n",
       "test_precision   0.719\n",
       "test_recall      0.575\n",
       "test_f1          0.637\n",
       "test_roc_auc     0.833\n",
       "dtype: float64"
      ]
     },
     "execution_count": 75,
     "metadata": {},
     "output_type": "execute_result"
    }
   ],
   "source": [
    "scores = pd.DataFrame(cv_results, index=range(1,6))\n",
    "scores.iloc[:, 2:].mean()    "
   ]
  },
  {
   "cell_type": "code",
   "execution_count": 76,
   "id": "ef870be1",
   "metadata": {},
   "outputs": [],
   "source": [
    "# modelimizin gerçek skorları cv ile alınır."
   ]
  },
  {
   "cell_type": "markdown",
   "id": "b35e5250",
   "metadata": {},
   "source": [
    "                önceki değerler\n",
    "                            # Accuracy: 0.78\n",
    "                            # Precision: 0.74\n",
    "                            # Recall: 0.58               --------> bütün veri\n",
    "                            # F1-score: 0.65\n",
    "\n",
    "                            # Accuracy: 0.77\n",
    "                            # Precision: 0.79             -----------> train test ayırarak\n",
    "                            # Recall: 0.53\n",
    "                            # F1-score: 0.63"
   ]
  },
  {
   "cell_type": "markdown",
   "id": "8aa7ec81",
   "metadata": {},
   "source": [
    "# Prediction for A New Observation"
   ]
  },
  {
   "cell_type": "code",
   "execution_count": 77,
   "id": "86ad2806",
   "metadata": {},
   "outputs": [
    {
     "data": {
      "text/plain": [
       "Index(['Pregnancies', 'Glucose', 'BloodPressure', 'SkinThickness', 'Insulin',\n",
       "       'BMI', 'DiabetesPedigreeFunction', 'Age'],\n",
       "      dtype='object')"
      ]
     },
     "execution_count": 77,
     "metadata": {},
     "output_type": "execute_result"
    }
   ],
   "source": [
    "X.columns"
   ]
  },
  {
   "cell_type": "code",
   "execution_count": 78,
   "id": "8767f6a8",
   "metadata": {},
   "outputs": [
    {
     "data": {
      "text/html": [
       "<div>\n",
       "<style scoped>\n",
       "    .dataframe tbody tr th:only-of-type {\n",
       "        vertical-align: middle;\n",
       "    }\n",
       "\n",
       "    .dataframe tbody tr th {\n",
       "        vertical-align: top;\n",
       "    }\n",
       "\n",
       "    .dataframe thead th {\n",
       "        text-align: right;\n",
       "    }\n",
       "</style>\n",
       "<table border=\"1\" class=\"dataframe\">\n",
       "  <thead>\n",
       "    <tr style=\"text-align: right;\">\n",
       "      <th></th>\n",
       "      <th>Pregnancies</th>\n",
       "      <th>Glucose</th>\n",
       "      <th>BloodPressure</th>\n",
       "      <th>SkinThickness</th>\n",
       "      <th>Insulin</th>\n",
       "      <th>BMI</th>\n",
       "      <th>DiabetesPedigreeFunction</th>\n",
       "      <th>Age</th>\n",
       "    </tr>\n",
       "  </thead>\n",
       "  <tbody>\n",
       "    <tr>\n",
       "      <th>668</th>\n",
       "      <td>0.600</td>\n",
       "      <td>-0.461</td>\n",
       "      <td>-0.778</td>\n",
       "      <td>0.312</td>\n",
       "      <td>1.253</td>\n",
       "      <td>0.215</td>\n",
       "      <td>0.150</td>\n",
       "      <td>0.824</td>\n",
       "    </tr>\n",
       "  </tbody>\n",
       "</table>\n",
       "</div>"
      ],
      "text/plain": [
       "     Pregnancies  Glucose  BloodPressure  SkinThickness  Insulin   BMI  \\\n",
       "668        0.600   -0.461         -0.778          0.312    1.253 0.215   \n",
       "\n",
       "     DiabetesPedigreeFunction   Age  \n",
       "668                     0.150 0.824  "
      ]
     },
     "execution_count": 78,
     "metadata": {},
     "output_type": "execute_result"
    }
   ],
   "source": [
    "random_user = X.sample(1, random_state=42)\n",
    "random_user"
   ]
  },
  {
   "cell_type": "code",
   "execution_count": 79,
   "id": "d7fb2f12",
   "metadata": {},
   "outputs": [
    {
     "data": {
      "text/plain": [
       "array([0], dtype=int64)"
      ]
     },
     "execution_count": 79,
     "metadata": {},
     "output_type": "execute_result"
    }
   ],
   "source": [
    "log_model.predict(random_user)"
   ]
  },
  {
   "cell_type": "code",
   "execution_count": null,
   "id": "04c0517d",
   "metadata": {},
   "outputs": [],
   "source": []
  },
  {
   "cell_type": "code",
   "execution_count": null,
   "id": "f6f3046f",
   "metadata": {},
   "outputs": [],
   "source": []
  },
  {
   "cell_type": "code",
   "execution_count": null,
   "id": "0ad119f5",
   "metadata": {},
   "outputs": [],
   "source": []
  },
  {
   "cell_type": "code",
   "execution_count": null,
   "id": "5a32d9e4",
   "metadata": {},
   "outputs": [],
   "source": []
  },
  {
   "cell_type": "code",
   "execution_count": null,
   "id": "d3056987",
   "metadata": {},
   "outputs": [],
   "source": []
  },
  {
   "cell_type": "code",
   "execution_count": null,
   "id": "00137b8c",
   "metadata": {},
   "outputs": [],
   "source": []
  }
 ],
 "metadata": {
  "kernelspec": {
   "display_name": "Python 3 (ipykernel)",
   "language": "python",
   "name": "python3"
  },
  "language_info": {
   "codemirror_mode": {
    "name": "ipython",
    "version": 3
   },
   "file_extension": ".py",
   "mimetype": "text/x-python",
   "name": "python",
   "nbconvert_exporter": "python",
   "pygments_lexer": "ipython3",
   "version": "3.9.7"
  }
 },
 "nbformat": 4,
 "nbformat_minor": 5
}
