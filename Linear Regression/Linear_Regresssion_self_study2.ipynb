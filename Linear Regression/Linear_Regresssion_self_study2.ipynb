{
 "cells": [
  {
   "cell_type": "code",
   "execution_count": 1,
   "id": "0ae10faf",
   "metadata": {},
   "outputs": [],
   "source": [
    "import numpy as np\n",
    "import pandas as pd\n",
    "import matplotlib.pyplot as plt\n",
    "import seaborn as sns\n",
    "\n",
    "pd.set_option('display.float_format', lambda x: '%.2f' % x)\n",
    "\n",
    "from sklearn.linear_model import LinearRegression\n",
    "from sklearn.metrics import mean_squared_error, mean_absolute_error\n",
    "from sklearn.model_selection import train_test_split, cross_val_score"
   ]
  },
  {
   "cell_type": "code",
   "execution_count": 2,
   "id": "44a90d6c",
   "metadata": {},
   "outputs": [],
   "source": [
    "df = pd.read_csv(\"advertising.csv\")"
   ]
  },
  {
   "cell_type": "code",
   "execution_count": 3,
   "id": "07efd27b",
   "metadata": {},
   "outputs": [
    {
     "data": {
      "text/plain": [
       "(200, 4)"
      ]
     },
     "execution_count": 3,
     "metadata": {},
     "output_type": "execute_result"
    }
   ],
   "source": [
    "df.shape"
   ]
  },
  {
   "cell_type": "code",
   "execution_count": 4,
   "id": "d65f7e45",
   "metadata": {},
   "outputs": [
    {
     "data": {
      "text/html": [
       "<div>\n",
       "<style scoped>\n",
       "    .dataframe tbody tr th:only-of-type {\n",
       "        vertical-align: middle;\n",
       "    }\n",
       "\n",
       "    .dataframe tbody tr th {\n",
       "        vertical-align: top;\n",
       "    }\n",
       "\n",
       "    .dataframe thead th {\n",
       "        text-align: right;\n",
       "    }\n",
       "</style>\n",
       "<table border=\"1\" class=\"dataframe\">\n",
       "  <thead>\n",
       "    <tr style=\"text-align: right;\">\n",
       "      <th></th>\n",
       "      <th>TV</th>\n",
       "      <th>radio</th>\n",
       "      <th>newspaper</th>\n",
       "      <th>sales</th>\n",
       "    </tr>\n",
       "  </thead>\n",
       "  <tbody>\n",
       "    <tr>\n",
       "      <th>0</th>\n",
       "      <td>230.10</td>\n",
       "      <td>37.80</td>\n",
       "      <td>69.20</td>\n",
       "      <td>22.10</td>\n",
       "    </tr>\n",
       "    <tr>\n",
       "      <th>1</th>\n",
       "      <td>44.50</td>\n",
       "      <td>39.30</td>\n",
       "      <td>45.10</td>\n",
       "      <td>10.40</td>\n",
       "    </tr>\n",
       "    <tr>\n",
       "      <th>2</th>\n",
       "      <td>17.20</td>\n",
       "      <td>45.90</td>\n",
       "      <td>69.30</td>\n",
       "      <td>9.30</td>\n",
       "    </tr>\n",
       "    <tr>\n",
       "      <th>3</th>\n",
       "      <td>151.50</td>\n",
       "      <td>41.30</td>\n",
       "      <td>58.50</td>\n",
       "      <td>18.50</td>\n",
       "    </tr>\n",
       "    <tr>\n",
       "      <th>4</th>\n",
       "      <td>180.80</td>\n",
       "      <td>10.80</td>\n",
       "      <td>58.40</td>\n",
       "      <td>12.90</td>\n",
       "    </tr>\n",
       "  </tbody>\n",
       "</table>\n",
       "</div>"
      ],
      "text/plain": [
       "      TV  radio  newspaper  sales\n",
       "0 230.10  37.80      69.20  22.10\n",
       "1  44.50  39.30      45.10  10.40\n",
       "2  17.20  45.90      69.30   9.30\n",
       "3 151.50  41.30      58.50  18.50\n",
       "4 180.80  10.80      58.40  12.90"
      ]
     },
     "execution_count": 4,
     "metadata": {},
     "output_type": "execute_result"
    }
   ],
   "source": [
    "df.head()"
   ]
  },
  {
   "cell_type": "code",
   "execution_count": 5,
   "id": "29284e2f",
   "metadata": {},
   "outputs": [
    {
     "name": "stdout",
     "output_type": "stream",
     "text": [
      "<class 'pandas.core.frame.DataFrame'>\n",
      "RangeIndex: 200 entries, 0 to 199\n",
      "Data columns (total 4 columns):\n",
      " #   Column     Non-Null Count  Dtype  \n",
      "---  ------     --------------  -----  \n",
      " 0   TV         200 non-null    float64\n",
      " 1   radio      200 non-null    float64\n",
      " 2   newspaper  200 non-null    float64\n",
      " 3   sales      200 non-null    float64\n",
      "dtypes: float64(4)\n",
      "memory usage: 6.4 KB\n"
     ]
    }
   ],
   "source": [
    "df.info()"
   ]
  },
  {
   "cell_type": "markdown",
   "id": "71f85a77",
   "metadata": {},
   "source": [
    "### simple linear reg."
   ]
  },
  {
   "cell_type": "code",
   "execution_count": 6,
   "id": "d0572d85",
   "metadata": {},
   "outputs": [],
   "source": [
    "X = df[[\"TV\"]]\n",
    "y = df[[\"sales\"]]"
   ]
  },
  {
   "cell_type": "code",
   "execution_count": 7,
   "id": "2db7d88d",
   "metadata": {},
   "outputs": [],
   "source": [
    "X_train , X_test , y_train , y_test = train_test_split(X, y , test_size=0.2)   "
   ]
  },
  {
   "cell_type": "code",
   "execution_count": 9,
   "id": "80200dfb",
   "metadata": {},
   "outputs": [],
   "source": [
    "reg_model = LinearRegression() "
   ]
  },
  {
   "cell_type": "code",
   "execution_count": 10,
   "id": "12920ee5",
   "metadata": {},
   "outputs": [
    {
     "data": {
      "text/html": [
       "<style>#sk-container-id-1 {color: black;background-color: white;}#sk-container-id-1 pre{padding: 0;}#sk-container-id-1 div.sk-toggleable {background-color: white;}#sk-container-id-1 label.sk-toggleable__label {cursor: pointer;display: block;width: 100%;margin-bottom: 0;padding: 0.3em;box-sizing: border-box;text-align: center;}#sk-container-id-1 label.sk-toggleable__label-arrow:before {content: \"▸\";float: left;margin-right: 0.25em;color: #696969;}#sk-container-id-1 label.sk-toggleable__label-arrow:hover:before {color: black;}#sk-container-id-1 div.sk-estimator:hover label.sk-toggleable__label-arrow:before {color: black;}#sk-container-id-1 div.sk-toggleable__content {max-height: 0;max-width: 0;overflow: hidden;text-align: left;background-color: #f0f8ff;}#sk-container-id-1 div.sk-toggleable__content pre {margin: 0.2em;color: black;border-radius: 0.25em;background-color: #f0f8ff;}#sk-container-id-1 input.sk-toggleable__control:checked~div.sk-toggleable__content {max-height: 200px;max-width: 100%;overflow: auto;}#sk-container-id-1 input.sk-toggleable__control:checked~label.sk-toggleable__label-arrow:before {content: \"▾\";}#sk-container-id-1 div.sk-estimator input.sk-toggleable__control:checked~label.sk-toggleable__label {background-color: #d4ebff;}#sk-container-id-1 div.sk-label input.sk-toggleable__control:checked~label.sk-toggleable__label {background-color: #d4ebff;}#sk-container-id-1 input.sk-hidden--visually {border: 0;clip: rect(1px 1px 1px 1px);clip: rect(1px, 1px, 1px, 1px);height: 1px;margin: -1px;overflow: hidden;padding: 0;position: absolute;width: 1px;}#sk-container-id-1 div.sk-estimator {font-family: monospace;background-color: #f0f8ff;border: 1px dotted black;border-radius: 0.25em;box-sizing: border-box;margin-bottom: 0.5em;}#sk-container-id-1 div.sk-estimator:hover {background-color: #d4ebff;}#sk-container-id-1 div.sk-parallel-item::after {content: \"\";width: 100%;border-bottom: 1px solid gray;flex-grow: 1;}#sk-container-id-1 div.sk-label:hover label.sk-toggleable__label {background-color: #d4ebff;}#sk-container-id-1 div.sk-serial::before {content: \"\";position: absolute;border-left: 1px solid gray;box-sizing: border-box;top: 0;bottom: 0;left: 50%;z-index: 0;}#sk-container-id-1 div.sk-serial {display: flex;flex-direction: column;align-items: center;background-color: white;padding-right: 0.2em;padding-left: 0.2em;position: relative;}#sk-container-id-1 div.sk-item {position: relative;z-index: 1;}#sk-container-id-1 div.sk-parallel {display: flex;align-items: stretch;justify-content: center;background-color: white;position: relative;}#sk-container-id-1 div.sk-item::before, #sk-container-id-1 div.sk-parallel-item::before {content: \"\";position: absolute;border-left: 1px solid gray;box-sizing: border-box;top: 0;bottom: 0;left: 50%;z-index: -1;}#sk-container-id-1 div.sk-parallel-item {display: flex;flex-direction: column;z-index: 1;position: relative;background-color: white;}#sk-container-id-1 div.sk-parallel-item:first-child::after {align-self: flex-end;width: 50%;}#sk-container-id-1 div.sk-parallel-item:last-child::after {align-self: flex-start;width: 50%;}#sk-container-id-1 div.sk-parallel-item:only-child::after {width: 0;}#sk-container-id-1 div.sk-dashed-wrapped {border: 1px dashed gray;margin: 0 0.4em 0.5em 0.4em;box-sizing: border-box;padding-bottom: 0.4em;background-color: white;}#sk-container-id-1 div.sk-label label {font-family: monospace;font-weight: bold;display: inline-block;line-height: 1.2em;}#sk-container-id-1 div.sk-label-container {text-align: center;}#sk-container-id-1 div.sk-container {/* jupyter's `normalize.less` sets `[hidden] { display: none; }` but bootstrap.min.css set `[hidden] { display: none !important; }` so we also need the `!important` here to be able to override the default hidden behavior on the sphinx rendered scikit-learn.org. See: https://github.com/scikit-learn/scikit-learn/issues/21755 */display: inline-block !important;position: relative;}#sk-container-id-1 div.sk-text-repr-fallback {display: none;}</style><div id=\"sk-container-id-1\" class=\"sk-top-container\"><div class=\"sk-text-repr-fallback\"><pre>LinearRegression()</pre><b>In a Jupyter environment, please rerun this cell to show the HTML representation or trust the notebook. <br />On GitHub, the HTML representation is unable to render, please try loading this page with nbviewer.org.</b></div><div class=\"sk-container\" hidden><div class=\"sk-item\"><div class=\"sk-estimator sk-toggleable\"><input class=\"sk-toggleable__control sk-hidden--visually\" id=\"sk-estimator-id-1\" type=\"checkbox\" checked><label for=\"sk-estimator-id-1\" class=\"sk-toggleable__label sk-toggleable__label-arrow\">LinearRegression</label><div class=\"sk-toggleable__content\"><pre>LinearRegression()</pre></div></div></div></div></div>"
      ],
      "text/plain": [
       "LinearRegression()"
      ]
     },
     "execution_count": 10,
     "metadata": {},
     "output_type": "execute_result"
    }
   ],
   "source": [
    "reg_model.fit(X_train,y_train)"
   ]
  },
  {
   "cell_type": "markdown",
   "id": "f9f8e82d",
   "metadata": {},
   "source": [
    "## y_pred = b+w*TV"
   ]
  },
  {
   "cell_type": "code",
   "execution_count": 11,
   "id": "273ce733",
   "metadata": {},
   "outputs": [
    {
     "data": {
      "text/plain": [
       "array([7.22661581])"
      ]
     },
     "execution_count": 11,
     "metadata": {},
     "output_type": "execute_result"
    }
   ],
   "source": [
    "reg_model.intercept_"
   ]
  },
  {
   "cell_type": "code",
   "execution_count": 13,
   "id": "a102d862",
   "metadata": {},
   "outputs": [
    {
     "data": {
      "text/plain": [
       "7.226615809756848"
      ]
     },
     "execution_count": 13,
     "metadata": {},
     "output_type": "execute_result"
    }
   ],
   "source": [
    "reg_model.intercept_[0]              # bias , intercept,sabit aynı anlamda"
   ]
  },
  {
   "cell_type": "code",
   "execution_count": 14,
   "id": "895e4393",
   "metadata": {},
   "outputs": [
    {
     "data": {
      "text/plain": [
       "array([[0.04556878]])"
      ]
     },
     "execution_count": 14,
     "metadata": {},
     "output_type": "execute_result"
    }
   ],
   "source": [
    "reg_model.coef_"
   ]
  },
  {
   "cell_type": "code",
   "execution_count": 17,
   "id": "93244c91",
   "metadata": {},
   "outputs": [
    {
     "data": {
      "text/plain": [
       "0.04556878372852869"
      ]
     },
     "execution_count": 17,
     "metadata": {},
     "output_type": "execute_result"
    }
   ],
   "source": [
    "reg_model.coef_[0][0]              ### coef,katsayı,ağırlık,w aynı anlamda."
   ]
  },
  {
   "cell_type": "markdown",
   "id": "4d937f16",
   "metadata": {},
   "source": [
    "## y_pred = 7.226615809756848 + 0.04556878372852869 * TV"
   ]
  },
  {
   "cell_type": "markdown",
   "id": "b4f13cf8",
   "metadata": {},
   "source": [
    "#### BİZ BİR MODEL KURDUK VE  EĞİTTİK ."
   ]
  },
  {
   "cell_type": "markdown",
   "id": "a55664b7",
   "metadata": {},
   "source": [
    "## PREDICTIONS"
   ]
  },
  {
   "cell_type": "markdown",
   "id": "80bfb941",
   "metadata": {},
   "source": [
    "### 150 birimlik TV harcaması olsa ne kadar satış olması beklenir?"
   ]
  },
  {
   "cell_type": "code",
   "execution_count": 21,
   "id": "dac63fbb",
   "metadata": {
    "scrolled": true
   },
   "outputs": [
    {
     "data": {
      "text/plain": [
       "14.06193336903615"
      ]
     },
     "execution_count": 21,
     "metadata": {},
     "output_type": "execute_result"
    }
   ],
   "source": [
    "harcama = reg_model.intercept_ + reg_model.coef_ * 150\n",
    "harcama[0][0]"
   ]
  },
  {
   "cell_type": "code",
   "execution_count": 22,
   "id": "29c82dd2",
   "metadata": {},
   "outputs": [
    {
     "data": {
      "text/plain": [
       "30.011007674021194"
      ]
     },
     "execution_count": 22,
     "metadata": {},
     "output_type": "execute_result"
    }
   ],
   "source": [
    "harcama = reg_model.intercept_ + reg_model.coef_ * 500\n",
    "harcama[0][0]"
   ]
  },
  {
   "cell_type": "code",
   "execution_count": 23,
   "id": "80d93ecb",
   "metadata": {},
   "outputs": [
    {
     "data": {
      "text/html": [
       "<div>\n",
       "<style scoped>\n",
       "    .dataframe tbody tr th:only-of-type {\n",
       "        vertical-align: middle;\n",
       "    }\n",
       "\n",
       "    .dataframe tbody tr th {\n",
       "        vertical-align: top;\n",
       "    }\n",
       "\n",
       "    .dataframe thead th {\n",
       "        text-align: right;\n",
       "    }\n",
       "</style>\n",
       "<table border=\"1\" class=\"dataframe\">\n",
       "  <thead>\n",
       "    <tr style=\"text-align: right;\">\n",
       "      <th></th>\n",
       "      <th>count</th>\n",
       "      <th>mean</th>\n",
       "      <th>std</th>\n",
       "      <th>min</th>\n",
       "      <th>25%</th>\n",
       "      <th>50%</th>\n",
       "      <th>75%</th>\n",
       "      <th>max</th>\n",
       "    </tr>\n",
       "  </thead>\n",
       "  <tbody>\n",
       "    <tr>\n",
       "      <th>TV</th>\n",
       "      <td>200.00</td>\n",
       "      <td>147.04</td>\n",
       "      <td>85.85</td>\n",
       "      <td>0.70</td>\n",
       "      <td>74.38</td>\n",
       "      <td>149.75</td>\n",
       "      <td>218.82</td>\n",
       "      <td>296.40</td>\n",
       "    </tr>\n",
       "    <tr>\n",
       "      <th>radio</th>\n",
       "      <td>200.00</td>\n",
       "      <td>23.26</td>\n",
       "      <td>14.85</td>\n",
       "      <td>0.00</td>\n",
       "      <td>9.97</td>\n",
       "      <td>22.90</td>\n",
       "      <td>36.52</td>\n",
       "      <td>49.60</td>\n",
       "    </tr>\n",
       "    <tr>\n",
       "      <th>newspaper</th>\n",
       "      <td>200.00</td>\n",
       "      <td>30.55</td>\n",
       "      <td>21.78</td>\n",
       "      <td>0.30</td>\n",
       "      <td>12.75</td>\n",
       "      <td>25.75</td>\n",
       "      <td>45.10</td>\n",
       "      <td>114.00</td>\n",
       "    </tr>\n",
       "    <tr>\n",
       "      <th>sales</th>\n",
       "      <td>200.00</td>\n",
       "      <td>14.02</td>\n",
       "      <td>5.22</td>\n",
       "      <td>1.60</td>\n",
       "      <td>10.38</td>\n",
       "      <td>12.90</td>\n",
       "      <td>17.40</td>\n",
       "      <td>27.00</td>\n",
       "    </tr>\n",
       "  </tbody>\n",
       "</table>\n",
       "</div>"
      ],
      "text/plain": [
       "           count   mean   std  min   25%    50%    75%    max\n",
       "TV        200.00 147.04 85.85 0.70 74.38 149.75 218.82 296.40\n",
       "radio     200.00  23.26 14.85 0.00  9.97  22.90  36.52  49.60\n",
       "newspaper 200.00  30.55 21.78 0.30 12.75  25.75  45.10 114.00\n",
       "sales     200.00  14.02  5.22 1.60 10.38  12.90  17.40  27.00"
      ]
     },
     "execution_count": 23,
     "metadata": {},
     "output_type": "execute_result"
    }
   ],
   "source": [
    "df.describe().T    "
   ]
  },
  {
   "cell_type": "markdown",
   "id": "ed62dd12",
   "metadata": {},
   "source": [
    "# Modelin Görselleştirilmesi"
   ]
  },
  {
   "cell_type": "code",
   "execution_count": 24,
   "id": "a1ea8868",
   "metadata": {},
   "outputs": [
    {
     "data": {
      "image/png": "[encoded data removed]",
      "text/plain": [
       "<Figure size 432x288 with 1 Axes>"
      ]
     },
     "metadata": {
      "needs_background": "light"
     },
     "output_type": "display_data"
    }
   ],
   "source": [
    "\n",
    "g = sns.regplot(x=X_train, y=y_train, scatter_kws={'color': 'b', 's': 9},\n",
    "                ci=False, color=\"r\")\n",
    "\n",
    "g.set_title(f\"Model Denklemi: Sales = {round(reg_model.intercept_[0], 2)} + TV*{round(reg_model.coef_[0][0], 2)}\")\n",
    "g.set_ylabel(\"Satış Sayısı\")\n",
    "g.set_xlabel(\"TV Harcamaları\")\n",
    "plt.xlim(-10, 310)\n",
    "plt.ylim(bottom=0)\n",
    "plt.show()"
   ]
  },
  {
   "cell_type": "code",
   "execution_count": 25,
   "id": "fd7efdfe",
   "metadata": {},
   "outputs": [],
   "source": [
    "### regplot ------> regresyon plot"
   ]
  },
  {
   "cell_type": "markdown",
   "id": "eb6874a8",
   "metadata": {},
   "source": [
    "### MSE"
   ]
  },
  {
   "cell_type": "code",
   "execution_count": 28,
   "id": "60914a04",
   "metadata": {},
   "outputs": [],
   "source": [
    "y_pred = reg_model.predict(X_test)"
   ]
  },
  {
   "cell_type": "code",
   "execution_count": 29,
   "id": "cd66240a",
   "metadata": {},
   "outputs": [
    {
     "data": {
      "text/plain": [
       "9.226106221771955"
      ]
     },
     "execution_count": 29,
     "metadata": {},
     "output_type": "execute_result"
    }
   ],
   "source": [
    "mean_squared_error(y_test, y_pred)          # (actual,pred)"
   ]
  },
  {
   "cell_type": "markdown",
   "id": "ba89ca00",
   "metadata": {},
   "source": [
    "### istediğimiz şey bu hata ne kadar az olursa bizim için o kadar iyi. aslında bu hataların karesi olduğundan o kadar da kötü değil modelimiz ama yine de bir şeylerle karşılaştırma ihtiyacı duyuyoruz : "
   ]
  },
  {
   "cell_type": "code",
   "execution_count": 32,
   "id": "eb61a0ec",
   "metadata": {},
   "outputs": [
    {
     "data": {
      "text/plain": [
       "sales   14.59\n",
       "dtype: float64"
      ]
     },
     "execution_count": 32,
     "metadata": {},
     "output_type": "execute_result"
    }
   ],
   "source": [
    "y_test.mean()"
   ]
  },
  {
   "cell_type": "code",
   "execution_count": 33,
   "id": "917d377c",
   "metadata": {
    "scrolled": true
   },
   "outputs": [
    {
     "data": {
      "text/plain": [
       "sales   5.49\n",
       "dtype: float64"
      ]
     },
     "execution_count": 33,
     "metadata": {},
     "output_type": "execute_result"
    }
   ],
   "source": [
    "y_test.std()"
   ]
  },
  {
   "cell_type": "markdown",
   "id": "03db012d",
   "metadata": {},
   "source": [
    "### ortalaması 14,59      std --> 5,5  : buradan şöyle bir çıkarım yapabiliz benim modelim 9,22'lik bir hata yapıyor ve y_test ortalaması 14,59 bu bana sıkıntı oluşturabilir yani yüksek bir hata ama mse olduğuna da dikkat edelim."
   ]
  },
  {
   "cell_type": "markdown",
   "id": "f7d9db9e",
   "metadata": {},
   "source": [
    "## RMSE"
   ]
  },
  {
   "cell_type": "code",
   "execution_count": 34,
   "id": "ec0c2ecd",
   "metadata": {},
   "outputs": [
    {
     "data": {
      "text/plain": [
       "3.0374506122358524"
      ]
     },
     "execution_count": 34,
     "metadata": {},
     "output_type": "execute_result"
    }
   ],
   "source": [
    "np.sqrt(mean_squared_error(y_test, y_pred))"
   ]
  },
  {
   "cell_type": "markdown",
   "id": "847a6fec",
   "metadata": {},
   "source": [
    "## MAE"
   ]
  },
  {
   "cell_type": "code",
   "execution_count": 36,
   "id": "0c983592",
   "metadata": {},
   "outputs": [
    {
     "data": {
      "text/plain": [
       "2.3984194611663803"
      ]
     },
     "execution_count": 36,
     "metadata": {},
     "output_type": "execute_result"
    }
   ],
   "source": [
    "mean_absolute_error(y_test, y_pred)"
   ]
  },
  {
   "cell_type": "markdown",
   "id": "6fc10fc8",
   "metadata": {},
   "source": [
    "## R-KARE"
   ]
  },
  {
   "cell_type": "markdown",
   "id": "c3e55d8c",
   "metadata": {},
   "source": [
    "### modelimize göre ; tv değişkeninin sales'ı açıklayabilme oranıdır.(simple reg var çünkü burada.)"
   ]
  },
  {
   "cell_type": "code",
   "execution_count": 42,
   "id": "b17ba690",
   "metadata": {},
   "outputs": [
    {
     "data": {
      "text/plain": [
       "0.6857132282294656"
      ]
     },
     "execution_count": 42,
     "metadata": {},
     "output_type": "execute_result"
    }
   ],
   "source": [
    "reg_model.score(X_test, y_test)            # (test datasını içine yazıyoruz.)"
   ]
  },
  {
   "cell_type": "code",
   "execution_count": 43,
   "id": "e9101ec5",
   "metadata": {},
   "outputs": [],
   "source": [
    "from sklearn import metrics"
   ]
  },
  {
   "cell_type": "code",
   "execution_count": 45,
   "id": "4c088996",
   "metadata": {},
   "outputs": [
    {
     "data": {
      "text/plain": [
       "0.6857132282294656"
      ]
     },
     "execution_count": 45,
     "metadata": {},
     "output_type": "execute_result"
    }
   ],
   "source": [
    "metrics.r2_score(y_test,y_pred)          # **** (actual,pred)        --------> r2 ile model.score içindeki parametreler farklı."
   ]
  },
  {
   "cell_type": "code",
   "execution_count": null,
   "id": "add3dffc",
   "metadata": {},
   "outputs": [],
   "source": []
  },
  {
   "cell_type": "code",
   "execution_count": null,
   "id": "3029d868",
   "metadata": {},
   "outputs": [],
   "source": []
  },
  {
   "cell_type": "code",
   "execution_count": null,
   "id": "19136a5c",
   "metadata": {},
   "outputs": [],
   "source": []
  },
  {
   "cell_type": "code",
   "execution_count": null,
   "id": "7600e6a1",
   "metadata": {},
   "outputs": [],
   "source": []
  },
  {
   "cell_type": "code",
   "execution_count": null,
   "id": "21e61f94",
   "metadata": {},
   "outputs": [],
   "source": []
  },
  {
   "cell_type": "code",
   "execution_count": null,
   "id": "1cfc8739",
   "metadata": {},
   "outputs": [],
   "source": []
  },
  {
   "cell_type": "code",
   "execution_count": null,
   "id": "04795ca9",
   "metadata": {},
   "outputs": [],
   "source": []
  },
  {
   "cell_type": "code",
   "execution_count": null,
   "id": "e1aeb9c3",
   "metadata": {},
   "outputs": [],
   "source": []
  },
  {
   "cell_type": "code",
   "execution_count": null,
   "id": "d0e7e5a4",
   "metadata": {},
   "outputs": [],
   "source": []
  }
 ],
 "metadata": {
  "kernelspec": {
   "display_name": "Python 3 (ipykernel)",
   "language": "python",
   "name": "python3"
  },
  "language_info": {
   "codemirror_mode": {
    "name": "ipython",
    "version": 3
   },
   "file_extension": ".py",
   "mimetype": "text/x-python",
   "name": "python",
   "nbconvert_exporter": "python",
   "pygments_lexer": "ipython3",
   "version": "3.9.7"
  }
 },
 "nbformat": 4,
 "nbformat_minor": 5
}
