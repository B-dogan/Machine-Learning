{
 "cells": [
  {
   "cell_type": "code",
   "execution_count": 1,
   "id": "0ae10faf",
   "metadata": {},
   "outputs": [],
   "source": [
    "import numpy as np\n",
    "import pandas as pd\n",
    "import matplotlib.pyplot as plt\n",
    "import seaborn as sns\n",
    "\n",
    "pd.set_option('display.float_format', lambda x: '%.2f' % x)\n",
    "\n",
    "from sklearn.linear_model import LinearRegression\n",
    "from sklearn.metrics import mean_squared_error, mean_absolute_error\n",
    "from sklearn.model_selection import train_test_split, cross_val_score"
   ]
  },
  {
   "cell_type": "code",
   "execution_count": 2,
   "id": "44a90d6c",
   "metadata": {},
   "outputs": [],
   "source": [
    "df = pd.read_csv(\"advertising.csv\")"
   ]
  },
  {
   "cell_type": "code",
   "execution_count": 3,
   "id": "07efd27b",
   "metadata": {},
   "outputs": [
    {
     "data": {
      "text/plain": [
       "(200, 4)"
      ]
     },
     "execution_count": 3,
     "metadata": {},
     "output_type": "execute_result"
    }
   ],
   "source": [
    "df.shape"
   ]
  },
  {
   "cell_type": "code",
   "execution_count": 4,
   "id": "d65f7e45",
   "metadata": {},
   "outputs": [
    {
     "data": {
      "text/html": [
       "<div>\n",
       "<style scoped>\n",
       "    .dataframe tbody tr th:only-of-type {\n",
       "        vertical-align: middle;\n",
       "    }\n",
       "\n",
       "    .dataframe tbody tr th {\n",
       "        vertical-align: top;\n",
       "    }\n",
       "\n",
       "    .dataframe thead th {\n",
       "        text-align: right;\n",
       "    }\n",
       "</style>\n",
       "<table border=\"1\" class=\"dataframe\">\n",
       "  <thead>\n",
       "    <tr style=\"text-align: right;\">\n",
       "      <th></th>\n",
       "      <th>TV</th>\n",
       "      <th>radio</th>\n",
       "      <th>newspaper</th>\n",
       "      <th>sales</th>\n",
       "    </tr>\n",
       "  </thead>\n",
       "  <tbody>\n",
       "    <tr>\n",
       "      <th>0</th>\n",
       "      <td>230.10</td>\n",
       "      <td>37.80</td>\n",
       "      <td>69.20</td>\n",
       "      <td>22.10</td>\n",
       "    </tr>\n",
       "    <tr>\n",
       "      <th>1</th>\n",
       "      <td>44.50</td>\n",
       "      <td>39.30</td>\n",
       "      <td>45.10</td>\n",
       "      <td>10.40</td>\n",
       "    </tr>\n",
       "    <tr>\n",
       "      <th>2</th>\n",
       "      <td>17.20</td>\n",
       "      <td>45.90</td>\n",
       "      <td>69.30</td>\n",
       "      <td>9.30</td>\n",
       "    </tr>\n",
       "    <tr>\n",
       "      <th>3</th>\n",
       "      <td>151.50</td>\n",
       "      <td>41.30</td>\n",
       "      <td>58.50</td>\n",
       "      <td>18.50</td>\n",
       "    </tr>\n",
       "    <tr>\n",
       "      <th>4</th>\n",
       "      <td>180.80</td>\n",
       "      <td>10.80</td>\n",
       "      <td>58.40</td>\n",
       "      <td>12.90</td>\n",
       "    </tr>\n",
       "  </tbody>\n",
       "</table>\n",
       "</div>"
      ],
      "text/plain": [
       "      TV  radio  newspaper  sales\n",
       "0 230.10  37.80      69.20  22.10\n",
       "1  44.50  39.30      45.10  10.40\n",
       "2  17.20  45.90      69.30   9.30\n",
       "3 151.50  41.30      58.50  18.50\n",
       "4 180.80  10.80      58.40  12.90"
      ]
     },
     "execution_count": 4,
     "metadata": {},
     "output_type": "execute_result"
    }
   ],
   "source": [
    "df.head()"
   ]
  },
  {
   "cell_type": "code",
   "execution_count": 5,
   "id": "29284e2f",
   "metadata": {},
   "outputs": [
    {
     "name": "stdout",
     "output_type": "stream",
     "text": [
      "<class 'pandas.core.frame.DataFrame'>\n",
      "RangeIndex: 200 entries, 0 to 199\n",
      "Data columns (total 4 columns):\n",
      " #   Column     Non-Null Count  Dtype  \n",
      "---  ------     --------------  -----  \n",
      " 0   TV         200 non-null    float64\n",
      " 1   radio      200 non-null    float64\n",
      " 2   newspaper  200 non-null    float64\n",
      " 3   sales      200 non-null    float64\n",
      "dtypes: float64(4)\n",
      "memory usage: 6.4 KB\n"
     ]
    }
   ],
   "source": [
    "df.info()"
   ]
  },
  {
   "cell_type": "markdown",
   "id": "71f85a77",
   "metadata": {},
   "source": [
    "### simple linear reg."
   ]
  },
  {
   "cell_type": "code",
   "execution_count": 6,
   "id": "d0572d85",
   "metadata": {},
   "outputs": [],
   "source": [
    "X = df[[\"TV\"]]\n",
    "y = df[[\"sales\"]]"
   ]
  },
  {
   "cell_type": "code",
   "execution_count": 7,
   "id": "2db7d88d",
   "metadata": {},
   "outputs": [],
   "source": [
    "X_train , X_test , y_train , y_test = train_test_split(X, y , test_size=0.2)   "
   ]
  },
  {
   "cell_type": "code",
   "execution_count": 8,
   "id": "80200dfb",
   "metadata": {},
   "outputs": [],
   "source": [
    "reg_model = LinearRegression() "
   ]
  },
  {
   "cell_type": "code",
   "execution_count": 9,
   "id": "12920ee5",
   "metadata": {},
   "outputs": [
    {
     "data": {
      "text/html": [
       "<style>#sk-container-id-1 {color: black;background-color: white;}#sk-container-id-1 pre{padding: 0;}#sk-container-id-1 div.sk-toggleable {background-color: white;}#sk-container-id-1 label.sk-toggleable__label {cursor: pointer;display: block;width: 100%;margin-bottom: 0;padding: 0.3em;box-sizing: border-box;text-align: center;}#sk-container-id-1 label.sk-toggleable__label-arrow:before {content: \"▸\";float: left;margin-right: 0.25em;color: #696969;}#sk-container-id-1 label.sk-toggleable__label-arrow:hover:before {color: black;}#sk-container-id-1 div.sk-estimator:hover label.sk-toggleable__label-arrow:before {color: black;}#sk-container-id-1 div.sk-toggleable__content {max-height: 0;max-width: 0;overflow: hidden;text-align: left;background-color: #f0f8ff;}#sk-container-id-1 div.sk-toggleable__content pre {margin: 0.2em;color: black;border-radius: 0.25em;background-color: #f0f8ff;}#sk-container-id-1 input.sk-toggleable__control:checked~div.sk-toggleable__content {max-height: 200px;max-width: 100%;overflow: auto;}#sk-container-id-1 input.sk-toggleable__control:checked~label.sk-toggleable__label-arrow:before {content: \"▾\";}#sk-container-id-1 div.sk-estimator input.sk-toggleable__control:checked~label.sk-toggleable__label {background-color: #d4ebff;}#sk-container-id-1 div.sk-label input.sk-toggleable__control:checked~label.sk-toggleable__label {background-color: #d4ebff;}#sk-container-id-1 input.sk-hidden--visually {border: 0;clip: rect(1px 1px 1px 1px);clip: rect(1px, 1px, 1px, 1px);height: 1px;margin: -1px;overflow: hidden;padding: 0;position: absolute;width: 1px;}#sk-container-id-1 div.sk-estimator {font-family: monospace;background-color: #f0f8ff;border: 1px dotted black;border-radius: 0.25em;box-sizing: border-box;margin-bottom: 0.5em;}#sk-container-id-1 div.sk-estimator:hover {background-color: #d4ebff;}#sk-container-id-1 div.sk-parallel-item::after {content: \"\";width: 100%;border-bottom: 1px solid gray;flex-grow: 1;}#sk-container-id-1 div.sk-label:hover label.sk-toggleable__label {background-color: #d4ebff;}#sk-container-id-1 div.sk-serial::before {content: \"\";position: absolute;border-left: 1px solid gray;box-sizing: border-box;top: 0;bottom: 0;left: 50%;z-index: 0;}#sk-container-id-1 div.sk-serial {display: flex;flex-direction: column;align-items: center;background-color: white;padding-right: 0.2em;padding-left: 0.2em;position: relative;}#sk-container-id-1 div.sk-item {position: relative;z-index: 1;}#sk-container-id-1 div.sk-parallel {display: flex;align-items: stretch;justify-content: center;background-color: white;position: relative;}#sk-container-id-1 div.sk-item::before, #sk-container-id-1 div.sk-parallel-item::before {content: \"\";position: absolute;border-left: 1px solid gray;box-sizing: border-box;top: 0;bottom: 0;left: 50%;z-index: -1;}#sk-container-id-1 div.sk-parallel-item {display: flex;flex-direction: column;z-index: 1;position: relative;background-color: white;}#sk-container-id-1 div.sk-parallel-item:first-child::after {align-self: flex-end;width: 50%;}#sk-container-id-1 div.sk-parallel-item:last-child::after {align-self: flex-start;width: 50%;}#sk-container-id-1 div.sk-parallel-item:only-child::after {width: 0;}#sk-container-id-1 div.sk-dashed-wrapped {border: 1px dashed gray;margin: 0 0.4em 0.5em 0.4em;box-sizing: border-box;padding-bottom: 0.4em;background-color: white;}#sk-container-id-1 div.sk-label label {font-family: monospace;font-weight: bold;display: inline-block;line-height: 1.2em;}#sk-container-id-1 div.sk-label-container {text-align: center;}#sk-container-id-1 div.sk-container {/* jupyter's `normalize.less` sets `[hidden] { display: none; }` but bootstrap.min.css set `[hidden] { display: none !important; }` so we also need the `!important` here to be able to override the default hidden behavior on the sphinx rendered scikit-learn.org. See: https://github.com/scikit-learn/scikit-learn/issues/21755 */display: inline-block !important;position: relative;}#sk-container-id-1 div.sk-text-repr-fallback {display: none;}</style><div id=\"sk-container-id-1\" class=\"sk-top-container\"><div class=\"sk-text-repr-fallback\"><pre>LinearRegression()</pre><b>In a Jupyter environment, please rerun this cell to show the HTML representation or trust the notebook. <br />On GitHub, the HTML representation is unable to render, please try loading this page with nbviewer.org.</b></div><div class=\"sk-container\" hidden><div class=\"sk-item\"><div class=\"sk-estimator sk-toggleable\"><input class=\"sk-toggleable__control sk-hidden--visually\" id=\"sk-estimator-id-1\" type=\"checkbox\" checked><label for=\"sk-estimator-id-1\" class=\"sk-toggleable__label sk-toggleable__label-arrow\">LinearRegression</label><div class=\"sk-toggleable__content\"><pre>LinearRegression()</pre></div></div></div></div></div>"
      ],
      "text/plain": [
       "LinearRegression()"
      ]
     },
     "execution_count": 9,
     "metadata": {},
     "output_type": "execute_result"
    }
   ],
   "source": [
    "reg_model.fit(X_train,y_train)"
   ]
  },
  {
   "cell_type": "markdown",
   "id": "f9f8e82d",
   "metadata": {},
   "source": [
    "## y_pred = b+w*TV"
   ]
  },
  {
   "cell_type": "code",
   "execution_count": 10,
   "id": "273ce733",
   "metadata": {},
   "outputs": [
    {
     "data": {
      "text/plain": [
       "array([7.36599854])"
      ]
     },
     "execution_count": 10,
     "metadata": {},
     "output_type": "execute_result"
    }
   ],
   "source": [
    "reg_model.intercept_"
   ]
  },
  {
   "cell_type": "code",
   "execution_count": 11,
   "id": "a102d862",
   "metadata": {},
   "outputs": [
    {
     "data": {
      "text/plain": [
       "7.365998539148706"
      ]
     },
     "execution_count": 11,
     "metadata": {},
     "output_type": "execute_result"
    }
   ],
   "source": [
    "reg_model.intercept_[0]              # bias , intercept,sabit aynı anlamda"
   ]
  },
  {
   "cell_type": "code",
   "execution_count": 12,
   "id": "895e4393",
   "metadata": {},
   "outputs": [
    {
     "data": {
      "text/plain": [
       "array([[0.04393306]])"
      ]
     },
     "execution_count": 12,
     "metadata": {},
     "output_type": "execute_result"
    }
   ],
   "source": [
    "reg_model.coef_"
   ]
  },
  {
   "cell_type": "code",
   "execution_count": 13,
   "id": "93244c91",
   "metadata": {},
   "outputs": [
    {
     "data": {
      "text/plain": [
       "0.0439330572072603"
      ]
     },
     "execution_count": 13,
     "metadata": {},
     "output_type": "execute_result"
    }
   ],
   "source": [
    "reg_model.coef_[0][0]              ### coef,katsayı,ağırlık,w aynı anlamda."
   ]
  },
  {
   "cell_type": "markdown",
   "id": "4d937f16",
   "metadata": {},
   "source": [
    "## y_pred = 7.226615809756848 + 0.04556878372852869 * TV"
   ]
  },
  {
   "cell_type": "markdown",
   "id": "b4f13cf8",
   "metadata": {},
   "source": [
    "#### BİZ BİR MODEL KURDUK VE  EĞİTTİK ."
   ]
  },
  {
   "cell_type": "markdown",
   "id": "a55664b7",
   "metadata": {},
   "source": [
    "## PREDICTIONS"
   ]
  },
  {
   "cell_type": "markdown",
   "id": "80bfb941",
   "metadata": {},
   "source": [
    "### 150 birimlik TV harcaması olsa ne kadar satış olması beklenir?"
   ]
  },
  {
   "cell_type": "code",
   "execution_count": 14,
   "id": "dac63fbb",
   "metadata": {
    "scrolled": true
   },
   "outputs": [
    {
     "data": {
      "text/plain": [
       "13.955957120237752"
      ]
     },
     "execution_count": 14,
     "metadata": {},
     "output_type": "execute_result"
    }
   ],
   "source": [
    "harcama = reg_model.intercept_ + reg_model.coef_ * 150\n",
    "harcama[0][0]"
   ]
  },
  {
   "cell_type": "code",
   "execution_count": 15,
   "id": "29c82dd2",
   "metadata": {},
   "outputs": [
    {
     "data": {
      "text/plain": [
       "29.332527142778854"
      ]
     },
     "execution_count": 15,
     "metadata": {},
     "output_type": "execute_result"
    }
   ],
   "source": [
    "harcama = reg_model.intercept_ + reg_model.coef_ * 500\n",
    "harcama[0][0]"
   ]
  },
  {
   "cell_type": "code",
   "execution_count": 16,
   "id": "80d93ecb",
   "metadata": {},
   "outputs": [
    {
     "data": {
      "text/html": [
       "<div>\n",
       "<style scoped>\n",
       "    .dataframe tbody tr th:only-of-type {\n",
       "        vertical-align: middle;\n",
       "    }\n",
       "\n",
       "    .dataframe tbody tr th {\n",
       "        vertical-align: top;\n",
       "    }\n",
       "\n",
       "    .dataframe thead th {\n",
       "        text-align: right;\n",
       "    }\n",
       "</style>\n",
       "<table border=\"1\" class=\"dataframe\">\n",
       "  <thead>\n",
       "    <tr style=\"text-align: right;\">\n",
       "      <th></th>\n",
       "      <th>count</th>\n",
       "      <th>mean</th>\n",
       "      <th>std</th>\n",
       "      <th>min</th>\n",
       "      <th>25%</th>\n",
       "      <th>50%</th>\n",
       "      <th>75%</th>\n",
       "      <th>max</th>\n",
       "    </tr>\n",
       "  </thead>\n",
       "  <tbody>\n",
       "    <tr>\n",
       "      <th>TV</th>\n",
       "      <td>200.00</td>\n",
       "      <td>147.04</td>\n",
       "      <td>85.85</td>\n",
       "      <td>0.70</td>\n",
       "      <td>74.38</td>\n",
       "      <td>149.75</td>\n",
       "      <td>218.82</td>\n",
       "      <td>296.40</td>\n",
       "    </tr>\n",
       "    <tr>\n",
       "      <th>radio</th>\n",
       "      <td>200.00</td>\n",
       "      <td>23.26</td>\n",
       "      <td>14.85</td>\n",
       "      <td>0.00</td>\n",
       "      <td>9.97</td>\n",
       "      <td>22.90</td>\n",
       "      <td>36.52</td>\n",
       "      <td>49.60</td>\n",
       "    </tr>\n",
       "    <tr>\n",
       "      <th>newspaper</th>\n",
       "      <td>200.00</td>\n",
       "      <td>30.55</td>\n",
       "      <td>21.78</td>\n",
       "      <td>0.30</td>\n",
       "      <td>12.75</td>\n",
       "      <td>25.75</td>\n",
       "      <td>45.10</td>\n",
       "      <td>114.00</td>\n",
       "    </tr>\n",
       "    <tr>\n",
       "      <th>sales</th>\n",
       "      <td>200.00</td>\n",
       "      <td>14.02</td>\n",
       "      <td>5.22</td>\n",
       "      <td>1.60</td>\n",
       "      <td>10.38</td>\n",
       "      <td>12.90</td>\n",
       "      <td>17.40</td>\n",
       "      <td>27.00</td>\n",
       "    </tr>\n",
       "  </tbody>\n",
       "</table>\n",
       "</div>"
      ],
      "text/plain": [
       "           count   mean   std  min   25%    50%    75%    max\n",
       "TV        200.00 147.04 85.85 0.70 74.38 149.75 218.82 296.40\n",
       "radio     200.00  23.26 14.85 0.00  9.97  22.90  36.52  49.60\n",
       "newspaper 200.00  30.55 21.78 0.30 12.75  25.75  45.10 114.00\n",
       "sales     200.00  14.02  5.22 1.60 10.38  12.90  17.40  27.00"
      ]
     },
     "execution_count": 16,
     "metadata": {},
     "output_type": "execute_result"
    }
   ],
   "source": [
    "df.describe().T    "
   ]
  },
  {
   "cell_type": "markdown",
   "id": "ed62dd12",
   "metadata": {},
   "source": [
    "# Modelin Görselleştirilmesi"
   ]
  },
  {
   "cell_type": "code",
   "execution_count": 17,
   "id": "a1ea8868",
   "metadata": {},
   "outputs": [
    {
     "data": {
      "image/png": "[encoded data removed]",
      "text/plain": [
       "<Figure size 432x288 with 1 Axes>"
      ]
     },
     "metadata": {
      "needs_background": "light"
     },
     "output_type": "display_data"
    }
   ],
   "source": [
    "\n",
    "g = sns.regplot(x=X_train, y=y_train, scatter_kws={'color': 'b', 's': 9},\n",
    "                ci=False, color=\"r\")\n",
    "\n",
    "g.set_title(f\"Model Denklemi: Sales = {round(reg_model.intercept_[0], 2)} + TV*{round(reg_model.coef_[0][0], 2)}\")\n",
    "g.set_ylabel(\"Satış Sayısı\")\n",
    "g.set_xlabel(\"TV Harcamaları\")\n",
    "plt.xlim(-10, 310)\n",
    "plt.ylim(bottom=0)\n",
    "plt.show()"
   ]
  },
  {
   "cell_type": "code",
   "execution_count": 18,
   "id": "fd7efdfe",
   "metadata": {},
   "outputs": [],
   "source": [
    "### regplot ------> regresyon plot"
   ]
  },
  {
   "cell_type": "markdown",
   "id": "eb6874a8",
   "metadata": {},
   "source": [
    "### MSE"
   ]
  },
  {
   "cell_type": "code",
   "execution_count": 19,
   "id": "60914a04",
   "metadata": {},
   "outputs": [],
   "source": [
    "y_pred = reg_model.predict(X_test)"
   ]
  },
  {
   "cell_type": "code",
   "execution_count": 20,
   "id": "cd66240a",
   "metadata": {},
   "outputs": [
    {
     "data": {
      "text/plain": [
       "10.457547727275081"
      ]
     },
     "execution_count": 20,
     "metadata": {},
     "output_type": "execute_result"
    }
   ],
   "source": [
    "mean_squared_error(y_test, y_pred)          # (actual,pred)"
   ]
  },
  {
   "cell_type": "markdown",
   "id": "ba89ca00",
   "metadata": {},
   "source": [
    "### istediğimiz şey bu hata ne kadar az olursa bizim için o kadar iyi. aslında bu hataların karesi olduğundan o kadar da kötü değil modelimiz ama yine de bir şeylerle karşılaştırma ihtiyacı duyuyoruz : "
   ]
  },
  {
   "cell_type": "code",
   "execution_count": 21,
   "id": "eb61a0ec",
   "metadata": {},
   "outputs": [
    {
     "data": {
      "text/plain": [
       "sales   14.74\n",
       "dtype: float64"
      ]
     },
     "execution_count": 21,
     "metadata": {},
     "output_type": "execute_result"
    }
   ],
   "source": [
    "y_test.mean()"
   ]
  },
  {
   "cell_type": "code",
   "execution_count": 22,
   "id": "917d377c",
   "metadata": {
    "scrolled": true
   },
   "outputs": [
    {
     "data": {
      "text/plain": [
       "sales   6.18\n",
       "dtype: float64"
      ]
     },
     "execution_count": 22,
     "metadata": {},
     "output_type": "execute_result"
    }
   ],
   "source": [
    "y_test.std()"
   ]
  },
  {
   "cell_type": "markdown",
   "id": "03db012d",
   "metadata": {},
   "source": [
    "### ortalaması 14,59      std --> 5,5  : buradan şöyle bir çıkarım yapabiliz benim modelim 9,22'lik bir hata yapıyor ve y_test ortalaması 14,59 bu bana sıkıntı oluşturabilir yani yüksek bir hata ama mse olduğuna da dikkat edelim."
   ]
  },
  {
   "cell_type": "markdown",
   "id": "f7d9db9e",
   "metadata": {},
   "source": [
    "## RMSE"
   ]
  },
  {
   "cell_type": "code",
   "execution_count": 23,
   "id": "ec0c2ecd",
   "metadata": {},
   "outputs": [
    {
     "data": {
      "text/plain": [
       "3.233813186823735"
      ]
     },
     "execution_count": 23,
     "metadata": {},
     "output_type": "execute_result"
    }
   ],
   "source": [
    "np.sqrt(mean_squared_error(y_test, y_pred))"
   ]
  },
  {
   "cell_type": "markdown",
   "id": "847a6fec",
   "metadata": {},
   "source": [
    "## MAE"
   ]
  },
  {
   "cell_type": "code",
   "execution_count": 24,
   "id": "0c983592",
   "metadata": {},
   "outputs": [
    {
     "data": {
      "text/plain": [
       "2.517401048732199"
      ]
     },
     "execution_count": 24,
     "metadata": {},
     "output_type": "execute_result"
    }
   ],
   "source": [
    "mean_absolute_error(y_test, y_pred)"
   ]
  },
  {
   "cell_type": "markdown",
   "id": "6fc10fc8",
   "metadata": {},
   "source": [
    "## R-KARE"
   ]
  },
  {
   "cell_type": "markdown",
   "id": "c3e55d8c",
   "metadata": {},
   "source": [
    "### modelimize göre ; tv değişkeninin sales'ı açıklayabilme oranıdır.(simple reg var çünkü burada.)"
   ]
  },
  {
   "cell_type": "code",
   "execution_count": 25,
   "id": "b17ba690",
   "metadata": {},
   "outputs": [
    {
     "data": {
      "text/plain": [
       "0.7190828165724242"
      ]
     },
     "execution_count": 25,
     "metadata": {},
     "output_type": "execute_result"
    }
   ],
   "source": [
    "reg_model.score(X_test, y_test)            # (test datasını içine yazıyoruz.)"
   ]
  },
  {
   "cell_type": "code",
   "execution_count": 26,
   "id": "e9101ec5",
   "metadata": {},
   "outputs": [],
   "source": [
    "from sklearn import metrics"
   ]
  },
  {
   "cell_type": "code",
   "execution_count": 27,
   "id": "4c088996",
   "metadata": {},
   "outputs": [
    {
     "data": {
      "text/plain": [
       "0.7190828165724242"
      ]
     },
     "execution_count": 27,
     "metadata": {},
     "output_type": "execute_result"
    }
   ],
   "source": [
    "metrics.r2_score(y_test,y_pred)          # **** (actual,pred)        --------> r2 ile model.score içindeki parametreler farklı."
   ]
  },
  {
   "cell_type": "markdown",
   "id": "d996ee19",
   "metadata": {},
   "source": [
    "## Multiple Linear Regression"
   ]
  },
  {
   "cell_type": "code",
   "execution_count": 28,
   "id": "add3dffc",
   "metadata": {},
   "outputs": [],
   "source": [
    "X = df.drop('sales', axis=1)\n",
    "y = df[[\"sales\"]]"
   ]
  },
  {
   "cell_type": "code",
   "execution_count": 29,
   "id": "3029d868",
   "metadata": {},
   "outputs": [],
   "source": [
    "X_train, X_test, y_train, y_test = train_test_split(X, y, test_size=0.20, random_state=1)"
   ]
  },
  {
   "cell_type": "code",
   "execution_count": 30,
   "id": "19136a5c",
   "metadata": {},
   "outputs": [
    {
     "data": {
      "text/plain": [
       "(200, 4)"
      ]
     },
     "execution_count": 30,
     "metadata": {},
     "output_type": "execute_result"
    }
   ],
   "source": [
    "df.shape"
   ]
  },
  {
   "cell_type": "code",
   "execution_count": 31,
   "id": "7600e6a1",
   "metadata": {},
   "outputs": [
    {
     "data": {
      "text/plain": [
       "(40, 1)"
      ]
     },
     "execution_count": 31,
     "metadata": {},
     "output_type": "execute_result"
    }
   ],
   "source": [
    "y_test.shape"
   ]
  },
  {
   "cell_type": "code",
   "execution_count": 32,
   "id": "21e61f94",
   "metadata": {},
   "outputs": [
    {
     "data": {
      "text/plain": [
       "(160, 1)"
      ]
     },
     "execution_count": 32,
     "metadata": {},
     "output_type": "execute_result"
    }
   ],
   "source": [
    "y_train.shape"
   ]
  },
  {
   "cell_type": "code",
   "execution_count": 33,
   "id": "1cfc8739",
   "metadata": {},
   "outputs": [
    {
     "data": {
      "text/plain": [
       "(40, 3)"
      ]
     },
     "execution_count": 33,
     "metadata": {},
     "output_type": "execute_result"
    }
   ],
   "source": [
    "X_test.shape"
   ]
  },
  {
   "cell_type": "code",
   "execution_count": 34,
   "id": "d3317fa2",
   "metadata": {},
   "outputs": [],
   "source": [
    "reg_model = LinearRegression()"
   ]
  },
  {
   "cell_type": "code",
   "execution_count": 35,
   "id": "b0e84646",
   "metadata": {},
   "outputs": [
    {
     "data": {
      "text/html": [
       "<style>#sk-container-id-2 {color: black;background-color: white;}#sk-container-id-2 pre{padding: 0;}#sk-container-id-2 div.sk-toggleable {background-color: white;}#sk-container-id-2 label.sk-toggleable__label {cursor: pointer;display: block;width: 100%;margin-bottom: 0;padding: 0.3em;box-sizing: border-box;text-align: center;}#sk-container-id-2 label.sk-toggleable__label-arrow:before {content: \"▸\";float: left;margin-right: 0.25em;color: #696969;}#sk-container-id-2 label.sk-toggleable__label-arrow:hover:before {color: black;}#sk-container-id-2 div.sk-estimator:hover label.sk-toggleable__label-arrow:before {color: black;}#sk-container-id-2 div.sk-toggleable__content {max-height: 0;max-width: 0;overflow: hidden;text-align: left;background-color: #f0f8ff;}#sk-container-id-2 div.sk-toggleable__content pre {margin: 0.2em;color: black;border-radius: 0.25em;background-color: #f0f8ff;}#sk-container-id-2 input.sk-toggleable__control:checked~div.sk-toggleable__content {max-height: 200px;max-width: 100%;overflow: auto;}#sk-container-id-2 input.sk-toggleable__control:checked~label.sk-toggleable__label-arrow:before {content: \"▾\";}#sk-container-id-2 div.sk-estimator input.sk-toggleable__control:checked~label.sk-toggleable__label {background-color: #d4ebff;}#sk-container-id-2 div.sk-label input.sk-toggleable__control:checked~label.sk-toggleable__label {background-color: #d4ebff;}#sk-container-id-2 input.sk-hidden--visually {border: 0;clip: rect(1px 1px 1px 1px);clip: rect(1px, 1px, 1px, 1px);height: 1px;margin: -1px;overflow: hidden;padding: 0;position: absolute;width: 1px;}#sk-container-id-2 div.sk-estimator {font-family: monospace;background-color: #f0f8ff;border: 1px dotted black;border-radius: 0.25em;box-sizing: border-box;margin-bottom: 0.5em;}#sk-container-id-2 div.sk-estimator:hover {background-color: #d4ebff;}#sk-container-id-2 div.sk-parallel-item::after {content: \"\";width: 100%;border-bottom: 1px solid gray;flex-grow: 1;}#sk-container-id-2 div.sk-label:hover label.sk-toggleable__label {background-color: #d4ebff;}#sk-container-id-2 div.sk-serial::before {content: \"\";position: absolute;border-left: 1px solid gray;box-sizing: border-box;top: 0;bottom: 0;left: 50%;z-index: 0;}#sk-container-id-2 div.sk-serial {display: flex;flex-direction: column;align-items: center;background-color: white;padding-right: 0.2em;padding-left: 0.2em;position: relative;}#sk-container-id-2 div.sk-item {position: relative;z-index: 1;}#sk-container-id-2 div.sk-parallel {display: flex;align-items: stretch;justify-content: center;background-color: white;position: relative;}#sk-container-id-2 div.sk-item::before, #sk-container-id-2 div.sk-parallel-item::before {content: \"\";position: absolute;border-left: 1px solid gray;box-sizing: border-box;top: 0;bottom: 0;left: 50%;z-index: -1;}#sk-container-id-2 div.sk-parallel-item {display: flex;flex-direction: column;z-index: 1;position: relative;background-color: white;}#sk-container-id-2 div.sk-parallel-item:first-child::after {align-self: flex-end;width: 50%;}#sk-container-id-2 div.sk-parallel-item:last-child::after {align-self: flex-start;width: 50%;}#sk-container-id-2 div.sk-parallel-item:only-child::after {width: 0;}#sk-container-id-2 div.sk-dashed-wrapped {border: 1px dashed gray;margin: 0 0.4em 0.5em 0.4em;box-sizing: border-box;padding-bottom: 0.4em;background-color: white;}#sk-container-id-2 div.sk-label label {font-family: monospace;font-weight: bold;display: inline-block;line-height: 1.2em;}#sk-container-id-2 div.sk-label-container {text-align: center;}#sk-container-id-2 div.sk-container {/* jupyter's `normalize.less` sets `[hidden] { display: none; }` but bootstrap.min.css set `[hidden] { display: none !important; }` so we also need the `!important` here to be able to override the default hidden behavior on the sphinx rendered scikit-learn.org. See: https://github.com/scikit-learn/scikit-learn/issues/21755 */display: inline-block !important;position: relative;}#sk-container-id-2 div.sk-text-repr-fallback {display: none;}</style><div id=\"sk-container-id-2\" class=\"sk-top-container\"><div class=\"sk-text-repr-fallback\"><pre>LinearRegression()</pre><b>In a Jupyter environment, please rerun this cell to show the HTML representation or trust the notebook. <br />On GitHub, the HTML representation is unable to render, please try loading this page with nbviewer.org.</b></div><div class=\"sk-container\" hidden><div class=\"sk-item\"><div class=\"sk-estimator sk-toggleable\"><input class=\"sk-toggleable__control sk-hidden--visually\" id=\"sk-estimator-id-2\" type=\"checkbox\" checked><label for=\"sk-estimator-id-2\" class=\"sk-toggleable__label sk-toggleable__label-arrow\">LinearRegression</label><div class=\"sk-toggleable__content\"><pre>LinearRegression()</pre></div></div></div></div></div>"
      ],
      "text/plain": [
       "LinearRegression()"
      ]
     },
     "execution_count": 35,
     "metadata": {},
     "output_type": "execute_result"
    }
   ],
   "source": [
    "reg_model.fit(X_train, y_train)"
   ]
  },
  {
   "cell_type": "code",
   "execution_count": 36,
   "id": "6ee8ce34",
   "metadata": {},
   "outputs": [
    {
     "data": {
      "text/plain": [
       "array([2.90794702])"
      ]
     },
     "execution_count": 36,
     "metadata": {},
     "output_type": "execute_result"
    }
   ],
   "source": [
    "# sabit (b - bias)\n",
    "reg_model.intercept_"
   ]
  },
  {
   "cell_type": "code",
   "execution_count": 37,
   "id": "5aac4d33",
   "metadata": {},
   "outputs": [
    {
     "data": {
      "text/plain": [
       "array([[0.0468431 , 0.17854434, 0.00258619]])"
      ]
     },
     "execution_count": 37,
     "metadata": {},
     "output_type": "execute_result"
    }
   ],
   "source": [
    "# coefficients (w - weights)\n",
    "reg_model.coef_"
   ]
  },
  {
   "cell_type": "markdown",
   "id": "d16492a3",
   "metadata": {},
   "source": [
    "# Aşağıdaki gözlem değerlerine göre satışın beklenen değeri nedir?\n",
    "\n",
    "# TV: 30\n",
    "# radio: 10\n",
    "# newspaper: 40\n",
    "\n",
    "# 2.90 -----------------> intercept_\n",
    "# 0.0468431 , 0.17854434, 0.00258619  ------------->coefs\n",
    "\n",
    "# Sales = 2.90  + TV * 0.04 + radio * 0.17 + newspaper * 0.002\n",
    "\n",
    "2.90794702 + 30 * 0.0468431 + 10 * 0.17854434 + 40 * 0.00258619"
   ]
  },
  {
   "cell_type": "code",
   "execution_count": 47,
   "id": "80c399a0",
   "metadata": {},
   "outputs": [
    {
     "data": {
      "text/plain": [
       "[[30], [10], [40]]"
      ]
     },
     "execution_count": 47,
     "metadata": {},
     "output_type": "execute_result"
    }
   ],
   "source": [
    "yeni_veri = [[30], [10], [40]]\n",
    "yeni_veri"
   ]
  },
  {
   "cell_type": "code",
   "execution_count": 48,
   "id": "e961892d",
   "metadata": {},
   "outputs": [
    {
     "data": {
      "text/html": [
       "<div>\n",
       "<style scoped>\n",
       "    .dataframe tbody tr th:only-of-type {\n",
       "        vertical-align: middle;\n",
       "    }\n",
       "\n",
       "    .dataframe tbody tr th {\n",
       "        vertical-align: top;\n",
       "    }\n",
       "\n",
       "    .dataframe thead th {\n",
       "        text-align: right;\n",
       "    }\n",
       "</style>\n",
       "<table border=\"1\" class=\"dataframe\">\n",
       "  <thead>\n",
       "    <tr style=\"text-align: right;\">\n",
       "      <th></th>\n",
       "      <th>0</th>\n",
       "    </tr>\n",
       "  </thead>\n",
       "  <tbody>\n",
       "    <tr>\n",
       "      <th>0</th>\n",
       "      <td>30</td>\n",
       "    </tr>\n",
       "    <tr>\n",
       "      <th>1</th>\n",
       "      <td>10</td>\n",
       "    </tr>\n",
       "    <tr>\n",
       "      <th>2</th>\n",
       "      <td>40</td>\n",
       "    </tr>\n",
       "  </tbody>\n",
       "</table>\n",
       "</div>"
      ],
      "text/plain": [
       "    0\n",
       "0  30\n",
       "1  10\n",
       "2  40"
      ]
     },
     "execution_count": 48,
     "metadata": {},
     "output_type": "execute_result"
    }
   ],
   "source": [
    "yeni_veri = pd.DataFrame(yeni_veri)\n",
    "yeni_veri"
   ]
  },
  {
   "cell_type": "code",
   "execution_count": 50,
   "id": "26a18662",
   "metadata": {},
   "outputs": [],
   "source": [
    "# reg_model.predict(yeni_veri)"
   ]
  },
  {
   "cell_type": "code",
   "execution_count": 51,
   "id": "4a029f29",
   "metadata": {},
   "outputs": [
    {
     "name": "stderr",
     "output_type": "stream",
     "text": [
      "C:\\Users\\BİRKAN\\AppData\\Roaming\\Python\\Python39\\site-packages\\sklearn\\base.py:450: UserWarning: X does not have valid feature names, but LinearRegression was fitted with feature names\n",
      "  warnings.warn(\n"
     ]
    },
    {
     "data": {
      "text/plain": [
       "array([[6.202131]])"
      ]
     },
     "execution_count": 51,
     "metadata": {},
     "output_type": "execute_result"
    }
   ],
   "source": [
    "reg_model.predict(yeni_veri.T)"
   ]
  },
  {
   "cell_type": "markdown",
   "id": "9d4d214d",
   "metadata": {},
   "source": [
    "### tahmin başarısı:"
   ]
  },
  {
   "cell_type": "code",
   "execution_count": 52,
   "id": "34f29a1c",
   "metadata": {},
   "outputs": [
    {
     "data": {
      "text/plain": [
       "1.7369025901470923"
      ]
     },
     "execution_count": 52,
     "metadata": {},
     "output_type": "execute_result"
    }
   ],
   "source": [
    "# Train RMSE\n",
    "y_pred = reg_model.predict(X_train)\n",
    "np.sqrt(mean_squared_error(y_train, y_pred))"
   ]
  },
  {
   "cell_type": "code",
   "execution_count": 53,
   "id": "b9446b8c",
   "metadata": {},
   "outputs": [
    {
     "data": {
      "text/plain": [
       "0.8959372632325174"
      ]
     },
     "execution_count": 53,
     "metadata": {},
     "output_type": "execute_result"
    }
   ],
   "source": [
    "# TRAIN RKARE\n",
    "reg_model.score(X_train, y_train)"
   ]
  },
  {
   "cell_type": "code",
   "execution_count": 54,
   "id": "65e8502d",
   "metadata": {},
   "outputs": [
    {
     "data": {
      "text/plain": [
       "1.4113417558581587"
      ]
     },
     "execution_count": 54,
     "metadata": {},
     "output_type": "execute_result"
    }
   ],
   "source": [
    "# Test RMSE\n",
    "y_pred = reg_model.predict(X_test)\n",
    "np.sqrt(mean_squared_error(y_test, y_pred))"
   ]
  },
  {
   "cell_type": "code",
   "execution_count": 55,
   "id": "7a32cb1f",
   "metadata": {},
   "outputs": [
    {
     "data": {
      "text/plain": [
       "0.8927605914615384"
      ]
     },
     "execution_count": 55,
     "metadata": {},
     "output_type": "execute_result"
    }
   ],
   "source": [
    "# Test RKARE\n",
    "reg_model.score(X_test, y_test)"
   ]
  },
  {
   "cell_type": "code",
   "execution_count": null,
   "id": "adf1d93a",
   "metadata": {},
   "outputs": [],
   "source": []
  },
  {
   "cell_type": "code",
   "execution_count": 56,
   "id": "8619cd54",
   "metadata": {},
   "outputs": [
    {
     "data": {
      "text/plain": [
       "1.6913531708051792"
      ]
     },
     "execution_count": 56,
     "metadata": {},
     "output_type": "execute_result"
    }
   ],
   "source": [
    "# 10 Katlı CV RMSE\n",
    "np.mean(np.sqrt(-cross_val_score(reg_model,\n",
    "                                 X,\n",
    "                                 y,\n",
    "                                 cv=10,\n",
    "                                 scoring=\"neg_mean_squared_error\")))"
   ]
  },
  {
   "cell_type": "code",
   "execution_count": 57,
   "id": "f6904e70",
   "metadata": {},
   "outputs": [
    {
     "data": {
      "text/plain": [
       "1.7175247278732084"
      ]
     },
     "execution_count": 57,
     "metadata": {},
     "output_type": "execute_result"
    }
   ],
   "source": [
    "# 5 Katlı CV RMSE\n",
    "np.mean(np.sqrt(-cross_val_score(reg_model,\n",
    "                                 X,\n",
    "                                 y,\n",
    "                                 cv=5,\n",
    "                                 scoring=\"neg_mean_squared_error\")))"
   ]
  },
  {
   "cell_type": "markdown",
   "id": "6d24ecc3",
   "metadata": {},
   "source": [
    "######################################################\n",
    "# Simple Linear Regression with Gradient Descent from Scratch\n",
    "######################################################"
   ]
  },
  {
   "cell_type": "code",
   "execution_count": 63,
   "id": "866190e2",
   "metadata": {},
   "outputs": [],
   "source": [
    "# Cost function --------------> MSE\n",
    "def cost_function(y, b, w, X):\n",
    "    m = len(y)\n",
    "    sse = 0            # ------------ sum of squared error -----> hata kareler toplamı\n",
    "\n",
    "    for i in range(0, m):\n",
    "        y_hat = b + w * X[i]\n",
    "        y_test = y[i]\n",
    "        sse += (y_hat - y_test) ** 2\n",
    "\n",
    "    mse = sse / m            # ---------------------> ortalama hata\n",
    "    return mse"
   ]
  },
  {
   "cell_type": "code",
   "execution_count": 64,
   "id": "fd3b96f2",
   "metadata": {},
   "outputs": [],
   "source": [
    "# update_weights\n",
    "def update_weights(y, b, w, X, learning_rate):\n",
    "    m = len(y)\n",
    "    \n",
    "    b_deriv_sum = 0                   # parçalı türev\n",
    "    w_deriv_sum = 0\n",
    "    \n",
    "    \n",
    "    for i in range(0, m):\n",
    "        y_hat = b + w * X[i]\n",
    "        y_test = y[i]\n",
    "        \n",
    "        b_deriv_sum += (y_hat -  y_test)\n",
    "        w_deriv_sum += (y_hat -  y_test) * X[i]\n",
    "        \n",
    "        \n",
    "    new_b = b - (learning_rate * 1 / m * b_deriv_sum)\n",
    "    new_w = w - (learning_rate * 1 / m * w_deriv_sum)\n",
    "    return new_b, new_w"
   ]
  },
  {
   "cell_type": "code",
   "execution_count": 73,
   "id": "1f5d2cc9",
   "metadata": {},
   "outputs": [],
   "source": [
    "\n",
    "# train fonksiyonu\n",
    "def train(y, initial_b, initial_w, X, learning_rate, num_iters):\n",
    "\n",
    "    print(\"Starting gradient descent at b = {0}, w = {1}, mse = {2}\".format(initial_b, initial_w,\n",
    "                                                                   cost_function(y, initial_b, initial_w, X)))\n",
    "\n",
    "    b = initial_b\n",
    "    w = initial_w\n",
    "    \n",
    "    \n",
    "    cost_history = []\n",
    "\n",
    "    for i in range(num_iters):                                    \n",
    "        b, w = update_weights(y, b, w, X, learning_rate)              # yukarıdaki fonksiyonları burada çağırıyoruz.\n",
    "        mse = cost_function(y, b, w, X)\n",
    "        cost_history.append(mse)                                     # her iterasyonda mse'yi listeme ekliyorum\n",
    "\n",
    "\n",
    "        if i % 100 == 0:\n",
    "            print(\"iter={:d}    b={:.2f}    w={:.4f}    mse={:.4}\".format(i, b, w, mse))\n",
    "\n",
    "\n",
    "    print(\"After {0} iterations b = {1}, w = {2}, mse = {3}\".format(num_iters, b, w, cost_function(y, b, w, X)))\n",
    "    return cost_history, b, w\n"
   ]
  },
  {
   "cell_type": "code",
   "execution_count": 74,
   "id": "415a3659",
   "metadata": {},
   "outputs": [],
   "source": [
    "# hyperparameters\n",
    "learning_rate = 0.001\n",
    "initial_b = 0.001\n",
    "initial_w = 0.001\n",
    "num_iters = 100000"
   ]
  },
  {
   "cell_type": "code",
   "execution_count": 75,
   "id": "d8291475",
   "metadata": {},
   "outputs": [],
   "source": [
    "X = df[\"radio\"]\n",
    "y = df[\"sales\"]"
   ]
  },
  {
   "cell_type": "code",
   "execution_count": 76,
   "id": "3fbf5ac5",
   "metadata": {},
   "outputs": [
    {
     "name": "stdout",
     "output_type": "stream",
     "text": [
      "Starting gradient descent at b = 0.001, w = 0.001, mse = 222.9477491673001\n",
      "iter=0    b=0.01    w=0.3708    mse=53.25\n",
      "iter=100    b=0.28    w=0.4788    mse=41.6\n",
      "iter=200    b=0.54    w=0.4709    mse=40.29\n",
      "iter=300    b=0.79    w=0.4633    mse=39.04\n",
      "iter=400    b=1.03    w=0.4559    mse=37.87\n",
      "iter=500    b=1.27    w=0.4487    mse=36.76\n",
      "iter=600    b=1.49    w=0.4417    mse=35.72\n",
      "iter=700    b=1.72    w=0.4349    mse=34.73\n",
      "iter=800    b=1.93    w=0.4283    mse=33.8\n",
      "iter=900    b=2.14    w=0.4219    mse=32.92\n",
      "After 1000 iterations b = 2.343098266484275, w = 0.41573597707268284, mse = 32.09637512179127\n"
     ]
    }
   ],
   "source": [
    "cost_history, b, w = train(y, initial_b, initial_w, X, learning_rate, num_iters)"
   ]
  },
  {
   "cell_type": "code",
   "execution_count": null,
   "id": "500f2f43",
   "metadata": {},
   "outputs": [],
   "source": []
  },
  {
   "cell_type": "code",
   "execution_count": null,
   "id": "04795ca9",
   "metadata": {},
   "outputs": [],
   "source": []
  },
  {
   "cell_type": "code",
   "execution_count": null,
   "id": "e1aeb9c3",
   "metadata": {},
   "outputs": [],
   "source": []
  },
  {
   "cell_type": "code",
   "execution_count": null,
   "id": "d0e7e5a4",
   "metadata": {},
   "outputs": [],
   "source": []
  }
 ],
 "metadata": {
  "kernelspec": {
   "display_name": "Python 3 (ipykernel)",
   "language": "python",
   "name": "python3"
  },
  "language_info": {
   "codemirror_mode": {
    "name": "ipython",
    "version": 3
   },
   "file_extension": ".py",
   "mimetype": "text/x-python",
   "name": "python",
   "nbconvert_exporter": "python",
   "pygments_lexer": "ipython3",
   "version": "3.9.7"
  }
 },
 "nbformat": 4,
 "nbformat_minor": 5
}
